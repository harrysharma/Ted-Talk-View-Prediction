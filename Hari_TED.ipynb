{
  "nbformat": 4,
  "nbformat_minor": 0,
  "metadata": {
    "colab": {
      "name": "Hari_TED.ipynb",
      "provenance": [],
      "collapsed_sections": [],
      "authorship_tag": "ABX9TyMA7bhOkpqW+ScEAtXsUDR0",
      "include_colab_link": true
    },
    "kernelspec": {
      "name": "python3",
      "display_name": "Python 3"
    },
    "language_info": {
      "name": "python"
    }
  },
  "cells": [
    {
      "cell_type": "markdown",
      "metadata": {
        "id": "view-in-github",
        "colab_type": "text"
      },
      "source": [
        "<a href=\"https://colab.research.google.com/github/harrysharma/Ted_talk_view_prediction/blob/main/Hari_TED.ipynb\" target=\"_parent\"><img src=\"https://colab.research.google.com/assets/colab-badge.svg\" alt=\"Open In Colab\"/></a>"
      ]
    },
    {
      "cell_type": "code",
      "metadata": {
        "id": "6HfHeL2Nmjjr"
      },
      "source": [
        "import numpy as np\n",
        "import pandas as pd\n",
        "import matplotlib.pyplot as plt\n",
        "import seaborn as sns\n",
        "%matplotlib inline\n",
        "pd.set_option('display.max_columns',500)\n",
        "pd.plotting.register_matplotlib_converters()\n",
        "%matplotlib inline\n",
        "plt.style.use('seaborn-whitegrid')\n",
        "import ast\n",
        "import calendar\n",
        "\n",
        "from wordcloud import WordCloud,ImageColorGenerator"
      ],
      "execution_count": null,
      "outputs": []
    },
    {
      "cell_type": "code",
      "metadata": {
        "colab": {
          "base_uri": "https://localhost:8080/"
        },
        "id": "mGtUs8mUFqNp",
        "outputId": "77729608-ef36-40a3-e8fc-61a07f15b492"
      },
      "source": [
        "from google.colab import drive\n",
        "drive.mount('/content/drive')"
      ],
      "execution_count": null,
      "outputs": [
        {
          "output_type": "stream",
          "name": "stdout",
          "text": [
            "Drive already mounted at /content/drive; to attempt to forcibly remount, call drive.mount(\"/content/drive\", force_remount=True).\n"
          ]
        }
      ]
    },
    {
      "cell_type": "code",
      "metadata": {
        "id": "YneqX0E1XWHg"
      },
      "source": [
        "filepath='/content/drive/MyDrive/AlmaBetter/Capston Project 3 Ted Talk Analysis/Code/Data/data_ted_talks.csv'"
      ],
      "execution_count": null,
      "outputs": []
    },
    {
      "cell_type": "code",
      "metadata": {
        "id": "g4GRBiVnVn8e"
      },
      "source": [
        "dataset=pd.read_csv(filepath)"
      ],
      "execution_count": null,
      "outputs": []
    },
    {
      "cell_type": "code",
      "metadata": {
        "colab": {
          "base_uri": "https://localhost:8080/"
        },
        "id": "fA2jzJTv-dZr",
        "outputId": "89eb20b4-d388-47a5-eaf1-dc221e285a93"
      },
      "source": [
        "dataset.shape"
      ],
      "execution_count": null,
      "outputs": [
        {
          "output_type": "execute_result",
          "data": {
            "text/plain": [
              "(4005, 19)"
            ]
          },
          "metadata": {},
          "execution_count": 535
        }
      ]
    },
    {
      "cell_type": "code",
      "metadata": {
        "id": "MFXHR-YkXo85",
        "colab": {
          "base_uri": "https://localhost:8080/",
          "height": 578
        },
        "outputId": "4e4db375-b7f7-49f1-fcd7-fbf9f16166c4"
      },
      "source": [
        "dataset.head()"
      ],
      "execution_count": null,
      "outputs": [
        {
          "output_type": "execute_result",
          "data": {
            "text/html": [
              "<div>\n",
              "<style scoped>\n",
              "    .dataframe tbody tr th:only-of-type {\n",
              "        vertical-align: middle;\n",
              "    }\n",
              "\n",
              "    .dataframe tbody tr th {\n",
              "        vertical-align: top;\n",
              "    }\n",
              "\n",
              "    .dataframe thead th {\n",
              "        text-align: right;\n",
              "    }\n",
              "</style>\n",
              "<table border=\"1\" class=\"dataframe\">\n",
              "  <thead>\n",
              "    <tr style=\"text-align: right;\">\n",
              "      <th></th>\n",
              "      <th>talk_id</th>\n",
              "      <th>title</th>\n",
              "      <th>speaker_1</th>\n",
              "      <th>all_speakers</th>\n",
              "      <th>occupations</th>\n",
              "      <th>about_speakers</th>\n",
              "      <th>views</th>\n",
              "      <th>recorded_date</th>\n",
              "      <th>published_date</th>\n",
              "      <th>event</th>\n",
              "      <th>native_lang</th>\n",
              "      <th>available_lang</th>\n",
              "      <th>comments</th>\n",
              "      <th>duration</th>\n",
              "      <th>topics</th>\n",
              "      <th>related_talks</th>\n",
              "      <th>url</th>\n",
              "      <th>description</th>\n",
              "      <th>transcript</th>\n",
              "    </tr>\n",
              "  </thead>\n",
              "  <tbody>\n",
              "    <tr>\n",
              "      <th>0</th>\n",
              "      <td>1</td>\n",
              "      <td>Averting the climate crisis</td>\n",
              "      <td>Al Gore</td>\n",
              "      <td>{0: 'Al Gore'}</td>\n",
              "      <td>{0: ['climate advocate']}</td>\n",
              "      <td>{0: 'Nobel Laureate Al Gore focused the world’...</td>\n",
              "      <td>3523392</td>\n",
              "      <td>2006-02-25</td>\n",
              "      <td>2006-06-27</td>\n",
              "      <td>TED2006</td>\n",
              "      <td>en</td>\n",
              "      <td>['ar', 'bg', 'cs', 'de', 'el', 'en', 'es', 'fa...</td>\n",
              "      <td>272.0</td>\n",
              "      <td>977</td>\n",
              "      <td>['alternative energy', 'cars', 'climate change...</td>\n",
              "      <td>{243: 'New thinking on the climate crisis', 54...</td>\n",
              "      <td>https://www.ted.com/talks/al_gore_averting_the...</td>\n",
              "      <td>With the same humor and humanity he exuded in ...</td>\n",
              "      <td>Thank you so much, Chris. And it's truly a gre...</td>\n",
              "    </tr>\n",
              "    <tr>\n",
              "      <th>1</th>\n",
              "      <td>92</td>\n",
              "      <td>The best stats you've ever seen</td>\n",
              "      <td>Hans Rosling</td>\n",
              "      <td>{0: 'Hans Rosling'}</td>\n",
              "      <td>{0: ['global health expert; data visionary']}</td>\n",
              "      <td>{0: 'In Hans Rosling’s hands, data sings. Glob...</td>\n",
              "      <td>14501685</td>\n",
              "      <td>2006-02-22</td>\n",
              "      <td>2006-06-27</td>\n",
              "      <td>TED2006</td>\n",
              "      <td>en</td>\n",
              "      <td>['ar', 'az', 'bg', 'bn', 'bs', 'cs', 'da', 'de...</td>\n",
              "      <td>628.0</td>\n",
              "      <td>1190</td>\n",
              "      <td>['Africa', 'Asia', 'Google', 'demo', 'economic...</td>\n",
              "      <td>{2056: \"Own your body's data\", 2296: 'A visual...</td>\n",
              "      <td>https://www.ted.com/talks/hans_rosling_the_bes...</td>\n",
              "      <td>You've never seen data presented like this. Wi...</td>\n",
              "      <td>About 10 years ago, I took on the task to teac...</td>\n",
              "    </tr>\n",
              "    <tr>\n",
              "      <th>2</th>\n",
              "      <td>7</td>\n",
              "      <td>Simplicity sells</td>\n",
              "      <td>David Pogue</td>\n",
              "      <td>{0: 'David Pogue'}</td>\n",
              "      <td>{0: ['technology columnist']}</td>\n",
              "      <td>{0: 'David Pogue is the personal technology co...</td>\n",
              "      <td>1920832</td>\n",
              "      <td>2006-02-24</td>\n",
              "      <td>2006-06-27</td>\n",
              "      <td>TED2006</td>\n",
              "      <td>en</td>\n",
              "      <td>['ar', 'bg', 'de', 'el', 'en', 'es', 'fa', 'fr...</td>\n",
              "      <td>124.0</td>\n",
              "      <td>1286</td>\n",
              "      <td>['computers', 'entertainment', 'interface desi...</td>\n",
              "      <td>{1725: '10 top time-saving tech tips', 2274: '...</td>\n",
              "      <td>https://www.ted.com/talks/david_pogue_simplici...</td>\n",
              "      <td>New York Times columnist David Pogue takes aim...</td>\n",
              "      <td>(Music: \"The Sound of Silence,\" Simon &amp; Garfun...</td>\n",
              "    </tr>\n",
              "    <tr>\n",
              "      <th>3</th>\n",
              "      <td>53</td>\n",
              "      <td>Greening the ghetto</td>\n",
              "      <td>Majora Carter</td>\n",
              "      <td>{0: 'Majora Carter'}</td>\n",
              "      <td>{0: ['activist for environmental justice']}</td>\n",
              "      <td>{0: 'Majora Carter redefined the field of envi...</td>\n",
              "      <td>2664069</td>\n",
              "      <td>2006-02-26</td>\n",
              "      <td>2006-06-27</td>\n",
              "      <td>TED2006</td>\n",
              "      <td>en</td>\n",
              "      <td>['ar', 'bg', 'bn', 'ca', 'cs', 'de', 'en', 'es...</td>\n",
              "      <td>219.0</td>\n",
              "      <td>1116</td>\n",
              "      <td>['MacArthur grant', 'activism', 'business', 'c...</td>\n",
              "      <td>{1041: '3 stories of local eco-entrepreneurshi...</td>\n",
              "      <td>https://www.ted.com/talks/majora_carter_greeni...</td>\n",
              "      <td>In an emotionally charged talk, MacArthur-winn...</td>\n",
              "      <td>If you're here today — and I'm very happy that...</td>\n",
              "    </tr>\n",
              "    <tr>\n",
              "      <th>4</th>\n",
              "      <td>66</td>\n",
              "      <td>Do schools kill creativity?</td>\n",
              "      <td>Sir Ken Robinson</td>\n",
              "      <td>{0: 'Sir Ken Robinson'}</td>\n",
              "      <td>{0: ['author', 'educator']}</td>\n",
              "      <td>{0: \"Creativity expert Sir Ken Robinson challe...</td>\n",
              "      <td>65051954</td>\n",
              "      <td>2006-02-25</td>\n",
              "      <td>2006-06-27</td>\n",
              "      <td>TED2006</td>\n",
              "      <td>en</td>\n",
              "      <td>['af', 'ar', 'az', 'be', 'bg', 'bn', 'ca', 'cs...</td>\n",
              "      <td>4931.0</td>\n",
              "      <td>1164</td>\n",
              "      <td>['children', 'creativity', 'culture', 'dance',...</td>\n",
              "      <td>{865: 'Bring on the learning revolution!', 173...</td>\n",
              "      <td>https://www.ted.com/talks/sir_ken_robinson_do_...</td>\n",
              "      <td>Sir Ken Robinson makes an entertaining and pro...</td>\n",
              "      <td>Good morning. How are you? (Audience) Good. It...</td>\n",
              "    </tr>\n",
              "  </tbody>\n",
              "</table>\n",
              "</div>"
            ],
            "text/plain": [
              "   talk_id                            title         speaker_1  \\\n",
              "0        1      Averting the climate crisis           Al Gore   \n",
              "1       92  The best stats you've ever seen      Hans Rosling   \n",
              "2        7                 Simplicity sells       David Pogue   \n",
              "3       53              Greening the ghetto     Majora Carter   \n",
              "4       66      Do schools kill creativity?  Sir Ken Robinson   \n",
              "\n",
              "              all_speakers                                    occupations  \\\n",
              "0           {0: 'Al Gore'}                      {0: ['climate advocate']}   \n",
              "1      {0: 'Hans Rosling'}  {0: ['global health expert; data visionary']}   \n",
              "2       {0: 'David Pogue'}                  {0: ['technology columnist']}   \n",
              "3     {0: 'Majora Carter'}    {0: ['activist for environmental justice']}   \n",
              "4  {0: 'Sir Ken Robinson'}                    {0: ['author', 'educator']}   \n",
              "\n",
              "                                      about_speakers     views recorded_date  \\\n",
              "0  {0: 'Nobel Laureate Al Gore focused the world’...   3523392    2006-02-25   \n",
              "1  {0: 'In Hans Rosling’s hands, data sings. Glob...  14501685    2006-02-22   \n",
              "2  {0: 'David Pogue is the personal technology co...   1920832    2006-02-24   \n",
              "3  {0: 'Majora Carter redefined the field of envi...   2664069    2006-02-26   \n",
              "4  {0: \"Creativity expert Sir Ken Robinson challe...  65051954    2006-02-25   \n",
              "\n",
              "  published_date    event native_lang  \\\n",
              "0     2006-06-27  TED2006          en   \n",
              "1     2006-06-27  TED2006          en   \n",
              "2     2006-06-27  TED2006          en   \n",
              "3     2006-06-27  TED2006          en   \n",
              "4     2006-06-27  TED2006          en   \n",
              "\n",
              "                                      available_lang  comments  duration  \\\n",
              "0  ['ar', 'bg', 'cs', 'de', 'el', 'en', 'es', 'fa...     272.0       977   \n",
              "1  ['ar', 'az', 'bg', 'bn', 'bs', 'cs', 'da', 'de...     628.0      1190   \n",
              "2  ['ar', 'bg', 'de', 'el', 'en', 'es', 'fa', 'fr...     124.0      1286   \n",
              "3  ['ar', 'bg', 'bn', 'ca', 'cs', 'de', 'en', 'es...     219.0      1116   \n",
              "4  ['af', 'ar', 'az', 'be', 'bg', 'bn', 'ca', 'cs...    4931.0      1164   \n",
              "\n",
              "                                              topics  \\\n",
              "0  ['alternative energy', 'cars', 'climate change...   \n",
              "1  ['Africa', 'Asia', 'Google', 'demo', 'economic...   \n",
              "2  ['computers', 'entertainment', 'interface desi...   \n",
              "3  ['MacArthur grant', 'activism', 'business', 'c...   \n",
              "4  ['children', 'creativity', 'culture', 'dance',...   \n",
              "\n",
              "                                       related_talks  \\\n",
              "0  {243: 'New thinking on the climate crisis', 54...   \n",
              "1  {2056: \"Own your body's data\", 2296: 'A visual...   \n",
              "2  {1725: '10 top time-saving tech tips', 2274: '...   \n",
              "3  {1041: '3 stories of local eco-entrepreneurshi...   \n",
              "4  {865: 'Bring on the learning revolution!', 173...   \n",
              "\n",
              "                                                 url  \\\n",
              "0  https://www.ted.com/talks/al_gore_averting_the...   \n",
              "1  https://www.ted.com/talks/hans_rosling_the_bes...   \n",
              "2  https://www.ted.com/talks/david_pogue_simplici...   \n",
              "3  https://www.ted.com/talks/majora_carter_greeni...   \n",
              "4  https://www.ted.com/talks/sir_ken_robinson_do_...   \n",
              "\n",
              "                                         description  \\\n",
              "0  With the same humor and humanity he exuded in ...   \n",
              "1  You've never seen data presented like this. Wi...   \n",
              "2  New York Times columnist David Pogue takes aim...   \n",
              "3  In an emotionally charged talk, MacArthur-winn...   \n",
              "4  Sir Ken Robinson makes an entertaining and pro...   \n",
              "\n",
              "                                          transcript  \n",
              "0  Thank you so much, Chris. And it's truly a gre...  \n",
              "1  About 10 years ago, I took on the task to teac...  \n",
              "2  (Music: \"The Sound of Silence,\" Simon & Garfun...  \n",
              "3  If you're here today — and I'm very happy that...  \n",
              "4  Good morning. How are you? (Audience) Good. It...  "
            ]
          },
          "metadata": {},
          "execution_count": 536
        }
      ]
    },
    {
      "cell_type": "code",
      "metadata": {
        "colab": {
          "base_uri": "https://localhost:8080/"
        },
        "id": "9OTyXnCWGH9E",
        "outputId": "cdb7d637-00f2-4cbe-c91b-68e2dc719649"
      },
      "source": [
        "dataset.info()        #comments,about_speakers, occupations, all_speakers, has null values "
      ],
      "execution_count": null,
      "outputs": [
        {
          "output_type": "stream",
          "name": "stdout",
          "text": [
            "<class 'pandas.core.frame.DataFrame'>\n",
            "RangeIndex: 4005 entries, 0 to 4004\n",
            "Data columns (total 19 columns):\n",
            " #   Column          Non-Null Count  Dtype  \n",
            "---  ------          --------------  -----  \n",
            " 0   talk_id         4005 non-null   int64  \n",
            " 1   title           4005 non-null   object \n",
            " 2   speaker_1       4005 non-null   object \n",
            " 3   all_speakers    4001 non-null   object \n",
            " 4   occupations     3483 non-null   object \n",
            " 5   about_speakers  3502 non-null   object \n",
            " 6   views           4005 non-null   int64  \n",
            " 7   recorded_date   4004 non-null   object \n",
            " 8   published_date  4005 non-null   object \n",
            " 9   event           4005 non-null   object \n",
            " 10  native_lang     4005 non-null   object \n",
            " 11  available_lang  4005 non-null   object \n",
            " 12  comments        3350 non-null   float64\n",
            " 13  duration        4005 non-null   int64  \n",
            " 14  topics          4005 non-null   object \n",
            " 15  related_talks   4005 non-null   object \n",
            " 16  url             4005 non-null   object \n",
            " 17  description     4005 non-null   object \n",
            " 18  transcript      4005 non-null   object \n",
            "dtypes: float64(1), int64(3), object(15)\n",
            "memory usage: 594.6+ KB\n"
          ]
        }
      ]
    },
    {
      "cell_type": "code",
      "metadata": {
        "colab": {
          "base_uri": "https://localhost:8080/"
        },
        "id": "I7QuUqjGZyAS",
        "outputId": "54a812ca-1f71-4dc3-8ea5-3438b93e5b17"
      },
      "source": [
        "dataset.isnull().sum()"
      ],
      "execution_count": null,
      "outputs": [
        {
          "output_type": "execute_result",
          "data": {
            "text/plain": [
              "talk_id             0\n",
              "title               0\n",
              "speaker_1           0\n",
              "all_speakers        4\n",
              "occupations       522\n",
              "about_speakers    503\n",
              "views               0\n",
              "recorded_date       1\n",
              "published_date      0\n",
              "event               0\n",
              "native_lang         0\n",
              "available_lang      0\n",
              "comments          655\n",
              "duration            0\n",
              "topics              0\n",
              "related_talks       0\n",
              "url                 0\n",
              "description         0\n",
              "transcript          0\n",
              "dtype: int64"
            ]
          },
          "metadata": {},
          "execution_count": 538
        }
      ]
    },
    {
      "cell_type": "code",
      "metadata": {
        "colab": {
          "base_uri": "https://localhost:8080/",
          "height": 172
        },
        "id": "xsPfVOiuJ-QI",
        "outputId": "27c03435-7905-4a36-9dc8-3384120ccb28"
      },
      "source": [
        "dataset.describe(percentiles = [.25,.50,.75,.95,.99]).T"
      ],
      "execution_count": null,
      "outputs": [
        {
          "output_type": "execute_result",
          "data": {
            "text/html": [
              "<div>\n",
              "<style scoped>\n",
              "    .dataframe tbody tr th:only-of-type {\n",
              "        vertical-align: middle;\n",
              "    }\n",
              "\n",
              "    .dataframe tbody tr th {\n",
              "        vertical-align: top;\n",
              "    }\n",
              "\n",
              "    .dataframe thead th {\n",
              "        text-align: right;\n",
              "    }\n",
              "</style>\n",
              "<table border=\"1\" class=\"dataframe\">\n",
              "  <thead>\n",
              "    <tr style=\"text-align: right;\">\n",
              "      <th></th>\n",
              "      <th>count</th>\n",
              "      <th>mean</th>\n",
              "      <th>std</th>\n",
              "      <th>min</th>\n",
              "      <th>25%</th>\n",
              "      <th>50%</th>\n",
              "      <th>75%</th>\n",
              "      <th>95%</th>\n",
              "      <th>99%</th>\n",
              "      <th>max</th>\n",
              "    </tr>\n",
              "  </thead>\n",
              "  <tbody>\n",
              "    <tr>\n",
              "      <th>talk_id</th>\n",
              "      <td>4005.0</td>\n",
              "      <td>1.243254e+04</td>\n",
              "      <td>1.744758e+04</td>\n",
              "      <td>1.0</td>\n",
              "      <td>1252.0</td>\n",
              "      <td>2333.0</td>\n",
              "      <td>23777.0</td>\n",
              "      <td>52465.80</td>\n",
              "      <td>60751.60</td>\n",
              "      <td>62794.0</td>\n",
              "    </tr>\n",
              "    <tr>\n",
              "      <th>views</th>\n",
              "      <td>4005.0</td>\n",
              "      <td>2.148006e+06</td>\n",
              "      <td>3.451226e+06</td>\n",
              "      <td>0.0</td>\n",
              "      <td>882069.0</td>\n",
              "      <td>1375508.0</td>\n",
              "      <td>2133110.0</td>\n",
              "      <td>6182301.40</td>\n",
              "      <td>16299833.68</td>\n",
              "      <td>65051954.0</td>\n",
              "    </tr>\n",
              "    <tr>\n",
              "      <th>comments</th>\n",
              "      <td>3350.0</td>\n",
              "      <td>1.619970e+02</td>\n",
              "      <td>2.688389e+02</td>\n",
              "      <td>0.0</td>\n",
              "      <td>38.0</td>\n",
              "      <td>89.0</td>\n",
              "      <td>188.0</td>\n",
              "      <td>531.65</td>\n",
              "      <td>1038.73</td>\n",
              "      <td>6449.0</td>\n",
              "    </tr>\n",
              "    <tr>\n",
              "      <th>duration</th>\n",
              "      <td>4005.0</td>\n",
              "      <td>7.240112e+02</td>\n",
              "      <td>3.617755e+02</td>\n",
              "      <td>60.0</td>\n",
              "      <td>393.0</td>\n",
              "      <td>738.0</td>\n",
              "      <td>974.0</td>\n",
              "      <td>1230.80</td>\n",
              "      <td>1601.12</td>\n",
              "      <td>3922.0</td>\n",
              "    </tr>\n",
              "  </tbody>\n",
              "</table>\n",
              "</div>"
            ],
            "text/plain": [
              "           count          mean           std   min       25%        50%  \\\n",
              "talk_id   4005.0  1.243254e+04  1.744758e+04   1.0    1252.0     2333.0   \n",
              "views     4005.0  2.148006e+06  3.451226e+06   0.0  882069.0  1375508.0   \n",
              "comments  3350.0  1.619970e+02  2.688389e+02   0.0      38.0       89.0   \n",
              "duration  4005.0  7.240112e+02  3.617755e+02  60.0     393.0      738.0   \n",
              "\n",
              "                75%         95%          99%         max  \n",
              "talk_id     23777.0    52465.80     60751.60     62794.0  \n",
              "views     2133110.0  6182301.40  16299833.68  65051954.0  \n",
              "comments      188.0      531.65      1038.73      6449.0  \n",
              "duration      974.0     1230.80      1601.12      3922.0  "
            ]
          },
          "metadata": {},
          "execution_count": 539
        }
      ]
    },
    {
      "cell_type": "code",
      "metadata": {
        "colab": {
          "base_uri": "https://localhost:8080/",
          "height": 260
        },
        "id": "0x8oh8dSOmvc",
        "outputId": "0af9366f-6d5c-40bc-ef4d-38ed4bbe7c7f"
      },
      "source": [
        "dataset.describe(include='object')"
      ],
      "execution_count": null,
      "outputs": [
        {
          "output_type": "execute_result",
          "data": {
            "text/html": [
              "<div>\n",
              "<style scoped>\n",
              "    .dataframe tbody tr th:only-of-type {\n",
              "        vertical-align: middle;\n",
              "    }\n",
              "\n",
              "    .dataframe tbody tr th {\n",
              "        vertical-align: top;\n",
              "    }\n",
              "\n",
              "    .dataframe thead th {\n",
              "        text-align: right;\n",
              "    }\n",
              "</style>\n",
              "<table border=\"1\" class=\"dataframe\">\n",
              "  <thead>\n",
              "    <tr style=\"text-align: right;\">\n",
              "      <th></th>\n",
              "      <th>title</th>\n",
              "      <th>speaker_1</th>\n",
              "      <th>all_speakers</th>\n",
              "      <th>occupations</th>\n",
              "      <th>about_speakers</th>\n",
              "      <th>recorded_date</th>\n",
              "      <th>published_date</th>\n",
              "      <th>event</th>\n",
              "      <th>native_lang</th>\n",
              "      <th>available_lang</th>\n",
              "      <th>topics</th>\n",
              "      <th>related_talks</th>\n",
              "      <th>url</th>\n",
              "      <th>description</th>\n",
              "      <th>transcript</th>\n",
              "    </tr>\n",
              "  </thead>\n",
              "  <tbody>\n",
              "    <tr>\n",
              "      <th>count</th>\n",
              "      <td>4005</td>\n",
              "      <td>4005</td>\n",
              "      <td>4001</td>\n",
              "      <td>3483</td>\n",
              "      <td>3502</td>\n",
              "      <td>4004</td>\n",
              "      <td>4005</td>\n",
              "      <td>4005</td>\n",
              "      <td>4005</td>\n",
              "      <td>4005</td>\n",
              "      <td>4005</td>\n",
              "      <td>4005</td>\n",
              "      <td>4005</td>\n",
              "      <td>4005</td>\n",
              "      <td>4005</td>\n",
              "    </tr>\n",
              "    <tr>\n",
              "      <th>unique</th>\n",
              "      <td>4005</td>\n",
              "      <td>3274</td>\n",
              "      <td>3306</td>\n",
              "      <td>2049</td>\n",
              "      <td>2977</td>\n",
              "      <td>1334</td>\n",
              "      <td>2962</td>\n",
              "      <td>459</td>\n",
              "      <td>12</td>\n",
              "      <td>3902</td>\n",
              "      <td>3977</td>\n",
              "      <td>4005</td>\n",
              "      <td>4005</td>\n",
              "      <td>4005</td>\n",
              "      <td>4005</td>\n",
              "    </tr>\n",
              "    <tr>\n",
              "      <th>top</th>\n",
              "      <td>A university for the coming singularity</td>\n",
              "      <td>Alex Gendler</td>\n",
              "      <td>{0: 'Alex Gendler'}</td>\n",
              "      <td>{0: ['writer']}</td>\n",
              "      <td>{0: 'Alex Rosenthal takes everyday experiences...</td>\n",
              "      <td>2017-04-24</td>\n",
              "      <td>2017-09-07</td>\n",
              "      <td>TED-Ed</td>\n",
              "      <td>en</td>\n",
              "      <td>['en']</td>\n",
              "      <td>['TED-Ed', 'math']</td>\n",
              "      <td>{1491: 'How Arduino is open-sourcing imaginati...</td>\n",
              "      <td>https://www.ted.com/talks/tristan_harris_how_a...</td>\n",
              "      <td>The way we rate national economies is all wron...</td>\n",
              "      <td>Whitney Pennington Rodgers: Hello and welcome ...</td>\n",
              "    </tr>\n",
              "    <tr>\n",
              "      <th>freq</th>\n",
              "      <td>1</td>\n",
              "      <td>34</td>\n",
              "      <td>34</td>\n",
              "      <td>53</td>\n",
              "      <td>10</td>\n",
              "      <td>97</td>\n",
              "      <td>27</td>\n",
              "      <td>556</td>\n",
              "      <td>3957</td>\n",
              "      <td>24</td>\n",
              "      <td>8</td>\n",
              "      <td>1</td>\n",
              "      <td>1</td>\n",
              "      <td>1</td>\n",
              "      <td>1</td>\n",
              "    </tr>\n",
              "  </tbody>\n",
              "</table>\n",
              "</div>"
            ],
            "text/plain": [
              "                                          title     speaker_1  \\\n",
              "count                                      4005          4005   \n",
              "unique                                     4005          3274   \n",
              "top     A university for the coming singularity  Alex Gendler   \n",
              "freq                                          1            34   \n",
              "\n",
              "               all_speakers      occupations  \\\n",
              "count                  4001             3483   \n",
              "unique                 3306             2049   \n",
              "top     {0: 'Alex Gendler'}  {0: ['writer']}   \n",
              "freq                     34               53   \n",
              "\n",
              "                                           about_speakers recorded_date  \\\n",
              "count                                                3502          4004   \n",
              "unique                                               2977          1334   \n",
              "top     {0: 'Alex Rosenthal takes everyday experiences...    2017-04-24   \n",
              "freq                                                   10            97   \n",
              "\n",
              "       published_date   event native_lang available_lang              topics  \\\n",
              "count            4005    4005        4005           4005                4005   \n",
              "unique           2962     459          12           3902                3977   \n",
              "top        2017-09-07  TED-Ed          en         ['en']  ['TED-Ed', 'math']   \n",
              "freq               27     556        3957             24                   8   \n",
              "\n",
              "                                            related_talks  \\\n",
              "count                                                4005   \n",
              "unique                                               4005   \n",
              "top     {1491: 'How Arduino is open-sourcing imaginati...   \n",
              "freq                                                    1   \n",
              "\n",
              "                                                      url  \\\n",
              "count                                                4005   \n",
              "unique                                               4005   \n",
              "top     https://www.ted.com/talks/tristan_harris_how_a...   \n",
              "freq                                                    1   \n",
              "\n",
              "                                              description  \\\n",
              "count                                                4005   \n",
              "unique                                               4005   \n",
              "top     The way we rate national economies is all wron...   \n",
              "freq                                                    1   \n",
              "\n",
              "                                               transcript  \n",
              "count                                                4005  \n",
              "unique                                               4005  \n",
              "top     Whitney Pennington Rodgers: Hello and welcome ...  \n",
              "freq                                                    1  "
            ]
          },
          "metadata": {},
          "execution_count": 540
        }
      ]
    },
    {
      "cell_type": "code",
      "metadata": {
        "id": "lDnLohonLAhP"
      },
      "source": [
        "df=dataset.copy()"
      ],
      "execution_count": null,
      "outputs": []
    },
    {
      "cell_type": "code",
      "metadata": {
        "id": "Oef52xsNRae-"
      },
      "source": [
        "df['published_date']=pd.to_datetime(df['published_date'],format='%Y-%m-%d')\n",
        "df['recorded_date']=pd.to_datetime(df['recorded_date'],format='%Y-%m-%d')"
      ],
      "execution_count": null,
      "outputs": []
    },
    {
      "cell_type": "code",
      "metadata": {
        "id": "0-271yfAGZnV"
      },
      "source": [
        "\n",
        "df['month'] = pd.DatetimeIndex(df['published_date']).month\n",
        "df['month'] = df['month'].apply(lambda x: calendar.month_abbr[x])\n",
        "df['year'] = pd.DatetimeIndex(df['published_date']).year\n",
        "df['day'] = pd.DatetimeIndex(df['published_date']).day\n",
        "\n",
        "last_publishing_date = df['published_date'].max()\n",
        "df['time_after_published']=last_publishing_date - pd.DatetimeIndex(df['published_date'])\n",
        "df['days_to_publish']=df['published_date'] - df['recorded_date']\n",
        "df['time_after_published'] = pd.to_numeric(df['time_after_published'].dt.days, downcast='integer')\n",
        "df['days_to_publish'] = pd.to_numeric(df['days_to_publish'].dt.days, downcast='integer')\n"
      ],
      "execution_count": null,
      "outputs": []
    },
    {
      "cell_type": "code",
      "metadata": {
        "id": "D3RtKuHfGjGM"
      },
      "source": [
        "#Replace  nan all_speakers by speaker_1\n",
        "df['all_speakers'].fillna(str({0:[str(df['speaker_1'])]}),inplace=True,axis=0)\n",
        "df['all_speakers']= df['all_speakers'].apply(lambda x: [val for val in ast.literal_eval(x).values() ] )"
      ],
      "execution_count": null,
      "outputs": []
    },
    {
      "cell_type": "code",
      "metadata": {
        "id": "a0P2kyAZPC5i"
      },
      "source": [
        "df['sp_len']=df['all_speakers'].apply(lambda x: len(x))"
      ],
      "execution_count": null,
      "outputs": []
    },
    {
      "cell_type": "code",
      "metadata": {
        "id": "J7BYjxNQ3Y1V"
      },
      "source": [
        "df['occupations'].fillna(str({0:['other']}),inplace=True,axis=0)\n",
        "df['occupations']=df['occupations'].apply(lambda x:[val for val in ast.literal_eval(x).values() ])"
      ],
      "execution_count": null,
      "outputs": []
    },
    {
      "cell_type": "code",
      "metadata": {
        "id": "HwSs4-6PaiTa"
      },
      "source": [
        "df['sp_len']=df['all_speakers'].apply(lambda x:len(x))\n",
        "df['occ_len']=df['occupations'].apply(lambda x:len(x))\n",
        "df['occupations']=df.apply(lambda x:( x['occupations'] if x['sp_len']==x['occ_len'] else x['occupations']*x['sp_len']),axis=1)\n",
        "df.drop(['sp_len','occ_len'],inplace=True,axis=1)"
      ],
      "execution_count": null,
      "outputs": []
    },
    {
      "cell_type": "code",
      "metadata": {
        "id": "uNaTuYObh0Re"
      },
      "source": [
        "df.drop(index=[3389],axis=0,inplace=True)   #data about speaker in japnese"
      ],
      "execution_count": null,
      "outputs": []
    },
    {
      "cell_type": "code",
      "metadata": {
        "colab": {
          "base_uri": "https://localhost:8080/"
        },
        "id": "imNaFBbUn93a",
        "outputId": "ae55a0d7-43f0-496c-9019-e4b4d1f3977c"
      },
      "source": [
        "df.columns"
      ],
      "execution_count": null,
      "outputs": [
        {
          "output_type": "execute_result",
          "data": {
            "text/plain": [
              "Index(['talk_id', 'title', 'speaker_1', 'all_speakers', 'occupations',\n",
              "       'about_speakers', 'views', 'recorded_date', 'published_date', 'event',\n",
              "       'native_lang', 'available_lang', 'comments', 'duration', 'topics',\n",
              "       'related_talks', 'url', 'description', 'transcript', 'month', 'year',\n",
              "       'day', 'time_after_published', 'days_to_publish'],\n",
              "      dtype='object')"
            ]
          },
          "metadata": {},
          "execution_count": 549
        }
      ]
    },
    {
      "cell_type": "code",
      "metadata": {
        "id": "8NXtars5eK4X"
      },
      "source": [
        "df=df.set_index(['talk_id', 'title', 'speaker_1',\n",
        "       'about_speakers', 'views', 'recorded_date', 'published_date', 'event',\n",
        "       'native_lang', 'available_lang', 'comments', 'duration', 'topics',\n",
        "       'related_talks', 'url', 'description', 'transcript', 'month', 'year',\n",
        "       'day', 'time_after_published', 'days_to_publish']).apply(pd.Series.explode).reset_index()"
      ],
      "execution_count": null,
      "outputs": []
    },
    {
      "cell_type": "code",
      "metadata": {
        "id": "3oGu3xDHnT9P"
      },
      "source": [
        "dataset['about_speakers'].fillna('',inplace=True,axis=0)"
      ],
      "execution_count": null,
      "outputs": []
    },
    {
      "cell_type": "markdown",
      "metadata": {
        "id": "M-RuqTglDIrg"
      },
      "source": [
        "#EDA"
      ]
    },
    {
      "cell_type": "markdown",
      "metadata": {
        "id": "5D_vHTLKDOIq"
      },
      "source": [
        "##Speaker_1"
      ]
    },
    {
      "cell_type": "markdown",
      "metadata": {
        "id": "NGEaLGpcDext"
      },
      "source": [
        "###Speaker1 vs views"
      ]
    },
    {
      "cell_type": "code",
      "metadata": {
        "id": "U1V5NeinOkxO"
      },
      "source": [
        "#top 25 speakers\n",
        "temp=df.groupby(['speaker_1'],as_index=False)['views'].sum().sort_values('views',ascending=False)[:25]\n"
      ],
      "execution_count": null,
      "outputs": []
    },
    {
      "cell_type": "code",
      "metadata": {
        "colab": {
          "base_uri": "https://localhost:8080/",
          "height": 463
        },
        "id": "fKE1hc6NSRTJ",
        "outputId": "e8f81ca7-bba6-4103-d6ee-9192281c285b"
      },
      "source": [
        "plt.figure(figsize=(15,6))\n",
        "ax=sns.barplot(x='speaker_1',y='views',data=temp)\n",
        "plt.setp(ax.get_xticklabels(), rotation=90);\n"
      ],
      "execution_count": null,
      "outputs": [
        {
          "output_type": "display_data",
          "data": {
            "image/png": "[encoded data removed]",
            "text/plain": [
              "<Figure size 1080x432 with 1 Axes>"
            ]
          },
          "metadata": {}
        }
      ]
    },
    {
      "cell_type": "code",
      "metadata": {
        "id": "gvOYxSvzYURh"
      },
      "source": [
        "speaker_count = df['speaker_1'].value_counts().to_frame()\n",
        "df_speaker_count = pd.DataFrame(speaker_count)\n",
        "df_speaker_count = df_speaker_count.reset_index()\n",
        "df_speaker_count.columns = ['Speaker_name', 'talks_delivered']"
      ],
      "execution_count": null,
      "outputs": []
    },
    {
      "cell_type": "code",
      "metadata": {
        "id": "Nhe5Xn-qYj-q"
      },
      "source": [
        "most_talks = df_speaker_count.nlargest(100, 'talks_delivered')\n"
      ],
      "execution_count": null,
      "outputs": []
    },
    {
      "cell_type": "code",
      "metadata": {
        "colab": {
          "base_uri": "https://localhost:8080/",
          "height": 564
        },
        "id": "1IqR8UosYmOJ",
        "outputId": "6198e8bf-7146-4a10-e871-967613ee0a7c"
      },
      "source": [
        "plt.figure(figsize=(30,10))\n",
        "sns.barplot(x = 'Speaker_name', y = 'talks_delivered', data = most_talks)"
      ],
      "execution_count": null,
      "outputs": [
        {
          "output_type": "execute_result",
          "data": {
            "text/plain": [
              "<matplotlib.axes._subplots.AxesSubplot at 0x7efea708cb10>"
            ]
          },
          "metadata": {},
          "execution_count": 556
        },
        {
          "output_type": "display_data",
          "data": {
            "image/png": "[encoded data removed]",
            "text/plain": [
              "<Figure size 2160x720 with 1 Axes>"
            ]
          },
          "metadata": {}
        }
      ]
    },
    {
      "cell_type": "markdown",
      "metadata": {
        "id": "gyD3BKDcYHhi"
      },
      "source": [
        "Total views for each author is not dependent on the number of total talks he delivered."
      ]
    },
    {
      "cell_type": "markdown",
      "metadata": {
        "id": "UJXjoadHDn3w"
      },
      "source": [
        "###Speaker_1 vs comments"
      ]
    },
    {
      "cell_type": "code",
      "metadata": {
        "id": "3c0bSWh1RCMZ"
      },
      "source": [
        "temp=df.groupby(['speaker_1'],as_index=False)['comments'].sum().sort_values('comments',ascending=False)[:25]\n"
      ],
      "execution_count": null,
      "outputs": []
    },
    {
      "cell_type": "code",
      "metadata": {
        "colab": {
          "base_uri": "https://localhost:8080/",
          "height": 452
        },
        "id": "QULcgsBNY9vr",
        "outputId": "eda1439c-1746-430c-a3ba-2961924bd7f8"
      },
      "source": [
        "plt.figure(figsize=(15,6))\n",
        "ax=sns.barplot(x='speaker_1',y='comments',data=temp);\n",
        "plt.setp(ax.get_xticklabels(), rotation=90);"
      ],
      "execution_count": null,
      "outputs": [
        {
          "output_type": "display_data",
          "data": {
            "image/png": "[encoded data removed]",
            "text/plain": [
              "<Figure size 1080x432 with 1 Axes>"
            ]
          },
          "metadata": {}
        }
      ]
    },
    {
      "cell_type": "markdown",
      "metadata": {
        "id": "3zswbjAsDyNS"
      },
      "source": [
        "###Speaker_1 vs duration"
      ]
    },
    {
      "cell_type": "code",
      "metadata": {
        "id": "5jJZJMQYZwvX"
      },
      "source": [
        ""
      ],
      "execution_count": null,
      "outputs": []
    },
    {
      "cell_type": "code",
      "metadata": {
        "id": "82UzP7X0VITc"
      },
      "source": [
        "temp=df.groupby(['speaker_1'],as_index=False)['duration'].sum().sort_values('duration',ascending=False)[:25]\n"
      ],
      "execution_count": null,
      "outputs": []
    },
    {
      "cell_type": "code",
      "metadata": {
        "id": "VlpV9yeNZ2bH"
      },
      "source": [
        "#  Addd plot for avg. talk duration for each speaker"
      ],
      "execution_count": null,
      "outputs": []
    },
    {
      "cell_type": "code",
      "metadata": {
        "colab": {
          "base_uri": "https://localhost:8080/",
          "height": 468
        },
        "id": "F78AqihNVXux",
        "outputId": "af58b71c-056a-4fdc-e6ae-b1ab02dcc444"
      },
      "source": [
        "plt.figure(figsize=(15,6))\n",
        "ax=sns.barplot(x='speaker_1',y='duration',data=temp)\n",
        "labels=ax.get_xticklabels()\n",
        "plt.setp(labels, rotation=90);"
      ],
      "execution_count": null,
      "outputs": [
        {
          "output_type": "display_data",
          "data": {
            "image/png": "[encoded data removed]",
            "text/plain": [
              "<Figure size 1080x432 with 1 Axes>"
            ]
          },
          "metadata": {}
        }
      ]
    },
    {
      "cell_type": "code",
      "metadata": {
        "id": "MEh_sffzbRSJ"
      },
      "source": [
        "temp=df.groupby(['month'],as_index=False)['views'].sum().sort_values('views',ascending=False)[:25]"
      ],
      "execution_count": null,
      "outputs": []
    },
    {
      "cell_type": "code",
      "metadata": {
        "id": "aXk1PwNZZMy8"
      },
      "source": [
        "temp=df.groupby(['year'],as_index=False)['views'].sum().sort_values('views',ascending=False)[:25]"
      ],
      "execution_count": null,
      "outputs": []
    },
    {
      "cell_type": "code",
      "metadata": {
        "colab": {
          "base_uri": "https://localhost:8080/",
          "height": 408
        },
        "id": "WZXYqx1paSNf",
        "collapsed": true,
        "outputId": "634d101a-71d4-41a8-cb84-6b42dad25ecd"
      },
      "source": [
        "plt.figure(figsize=(15,6))\n",
        "ax=sns.barplot(x='year',y='views',data=temp)\n",
        "labels=ax.get_xticklabels()\n",
        "plt.setp(labels, rotation=90);"
      ],
      "execution_count": null,
      "outputs": [
        {
          "output_type": "display_data",
          "data": {
            "image/png": "[encoded data removed]",
            "text/plain": [
              "<Figure size 1080x432 with 1 Axes>"
            ]
          },
          "metadata": {}
        }
      ]
    },
    {
      "cell_type": "code",
      "metadata": {
        "id": "jsCAkXUAbb60",
        "colab": {
          "base_uri": "https://localhost:8080/",
          "height": 821
        },
        "outputId": "04c18394-77cb-4cb0-a42d-30db2d0abad5"
      },
      "source": [
        "temp=df.groupby(['event','year'],as_index=False)['views'].sum().sort_values('views',ascending=False).reset_index()[:25]\n",
        "temp"
      ],
      "execution_count": null,
      "outputs": [
        {
          "output_type": "execute_result",
          "data": {
            "text/html": [
              "<div>\n",
              "<style scoped>\n",
              "    .dataframe tbody tr th:only-of-type {\n",
              "        vertical-align: middle;\n",
              "    }\n",
              "\n",
              "    .dataframe tbody tr th {\n",
              "        vertical-align: top;\n",
              "    }\n",
              "\n",
              "    .dataframe thead th {\n",
              "        text-align: right;\n",
              "    }\n",
              "</style>\n",
              "<table border=\"1\" class=\"dataframe\">\n",
              "  <thead>\n",
              "    <tr style=\"text-align: right;\">\n",
              "      <th></th>\n",
              "      <th>index</th>\n",
              "      <th>event</th>\n",
              "      <th>year</th>\n",
              "      <th>views</th>\n",
              "    </tr>\n",
              "  </thead>\n",
              "  <tbody>\n",
              "    <tr>\n",
              "      <th>0</th>\n",
              "      <td>72</td>\n",
              "      <td>TED-Ed</td>\n",
              "      <td>2019</td>\n",
              "      <td>799491903</td>\n",
              "    </tr>\n",
              "    <tr>\n",
              "      <th>1</th>\n",
              "      <td>124</td>\n",
              "      <td>TED2014</td>\n",
              "      <td>2014</td>\n",
              "      <td>245770481</td>\n",
              "    </tr>\n",
              "    <tr>\n",
              "      <th>2</th>\n",
              "      <td>126</td>\n",
              "      <td>TED2015</td>\n",
              "      <td>2015</td>\n",
              "      <td>242261768</td>\n",
              "    </tr>\n",
              "    <tr>\n",
              "      <th>3</th>\n",
              "      <td>129</td>\n",
              "      <td>TED2016</td>\n",
              "      <td>2016</td>\n",
              "      <td>227145078</td>\n",
              "    </tr>\n",
              "    <tr>\n",
              "      <th>4</th>\n",
              "      <td>122</td>\n",
              "      <td>TED2013</td>\n",
              "      <td>2013</td>\n",
              "      <td>222427017</td>\n",
              "    </tr>\n",
              "    <tr>\n",
              "      <th>5</th>\n",
              "      <td>131</td>\n",
              "      <td>TED2017</td>\n",
              "      <td>2017</td>\n",
              "      <td>217177677</td>\n",
              "    </tr>\n",
              "    <tr>\n",
              "      <th>6</th>\n",
              "      <td>134</td>\n",
              "      <td>TED2018</td>\n",
              "      <td>2018</td>\n",
              "      <td>203205450</td>\n",
              "    </tr>\n",
              "    <tr>\n",
              "      <th>7</th>\n",
              "      <td>112</td>\n",
              "      <td>TED2009</td>\n",
              "      <td>2009</td>\n",
              "      <td>201000818</td>\n",
              "    </tr>\n",
              "    <tr>\n",
              "      <th>8</th>\n",
              "      <td>119</td>\n",
              "      <td>TED2012</td>\n",
              "      <td>2012</td>\n",
              "      <td>191768667</td>\n",
              "    </tr>\n",
              "    <tr>\n",
              "      <th>9</th>\n",
              "      <td>117</td>\n",
              "      <td>TED2011</td>\n",
              "      <td>2011</td>\n",
              "      <td>174444466</td>\n",
              "    </tr>\n",
              "    <tr>\n",
              "      <th>10</th>\n",
              "      <td>209</td>\n",
              "      <td>TEDGlobal 2012</td>\n",
              "      <td>2012</td>\n",
              "      <td>173882925</td>\n",
              "    </tr>\n",
              "    <tr>\n",
              "      <th>11</th>\n",
              "      <td>212</td>\n",
              "      <td>TEDGlobal 2013</td>\n",
              "      <td>2013</td>\n",
              "      <td>169082495</td>\n",
              "    </tr>\n",
              "    <tr>\n",
              "      <th>12</th>\n",
              "      <td>136</td>\n",
              "      <td>TED2019</td>\n",
              "      <td>2019</td>\n",
              "      <td>164386155</td>\n",
              "    </tr>\n",
              "    <tr>\n",
              "      <th>13</th>\n",
              "      <td>114</td>\n",
              "      <td>TED2010</td>\n",
              "      <td>2010</td>\n",
              "      <td>157732394</td>\n",
              "    </tr>\n",
              "    <tr>\n",
              "      <th>14</th>\n",
              "      <td>110</td>\n",
              "      <td>TED2008</td>\n",
              "      <td>2008</td>\n",
              "      <td>152655443</td>\n",
              "    </tr>\n",
              "    <tr>\n",
              "      <th>15</th>\n",
              "      <td>207</td>\n",
              "      <td>TEDGlobal 2011</td>\n",
              "      <td>2011</td>\n",
              "      <td>145617582</td>\n",
              "    </tr>\n",
              "    <tr>\n",
              "      <th>16</th>\n",
              "      <td>101</td>\n",
              "      <td>TED2006</td>\n",
              "      <td>2006</td>\n",
              "      <td>141195455</td>\n",
              "    </tr>\n",
              "    <tr>\n",
              "      <th>17</th>\n",
              "      <td>203</td>\n",
              "      <td>TEDGlobal 2009</td>\n",
              "      <td>2009</td>\n",
              "      <td>139430681</td>\n",
              "    </tr>\n",
              "    <tr>\n",
              "      <th>18</th>\n",
              "      <td>71</td>\n",
              "      <td>TED-Ed</td>\n",
              "      <td>2018</td>\n",
              "      <td>119620847</td>\n",
              "    </tr>\n",
              "    <tr>\n",
              "      <th>19</th>\n",
              "      <td>70</td>\n",
              "      <td>TED-Ed</td>\n",
              "      <td>2017</td>\n",
              "      <td>107250422</td>\n",
              "    </tr>\n",
              "    <tr>\n",
              "      <th>20</th>\n",
              "      <td>205</td>\n",
              "      <td>TEDGlobal 2010</td>\n",
              "      <td>2010</td>\n",
              "      <td>91665810</td>\n",
              "    </tr>\n",
              "    <tr>\n",
              "      <th>21</th>\n",
              "      <td>73</td>\n",
              "      <td>TED-Ed</td>\n",
              "      <td>2020</td>\n",
              "      <td>90278379</td>\n",
              "    </tr>\n",
              "    <tr>\n",
              "      <th>22</th>\n",
              "      <td>272</td>\n",
              "      <td>TEDSummit</td>\n",
              "      <td>2016</td>\n",
              "      <td>84365052</td>\n",
              "    </tr>\n",
              "    <tr>\n",
              "      <th>23</th>\n",
              "      <td>105</td>\n",
              "      <td>TED2007</td>\n",
              "      <td>2007</td>\n",
              "      <td>75007002</td>\n",
              "    </tr>\n",
              "    <tr>\n",
              "      <th>24</th>\n",
              "      <td>221</td>\n",
              "      <td>TEDGlobal&gt;Geneva</td>\n",
              "      <td>2016</td>\n",
              "      <td>74272174</td>\n",
              "    </tr>\n",
              "  </tbody>\n",
              "</table>\n",
              "</div>"
            ],
            "text/plain": [
              "    index             event  year      views\n",
              "0      72            TED-Ed  2019  799491903\n",
              "1     124           TED2014  2014  245770481\n",
              "2     126           TED2015  2015  242261768\n",
              "3     129           TED2016  2016  227145078\n",
              "4     122           TED2013  2013  222427017\n",
              "5     131           TED2017  2017  217177677\n",
              "6     134           TED2018  2018  203205450\n",
              "7     112           TED2009  2009  201000818\n",
              "8     119           TED2012  2012  191768667\n",
              "9     117           TED2011  2011  174444466\n",
              "10    209    TEDGlobal 2012  2012  173882925\n",
              "11    212    TEDGlobal 2013  2013  169082495\n",
              "12    136           TED2019  2019  164386155\n",
              "13    114           TED2010  2010  157732394\n",
              "14    110           TED2008  2008  152655443\n",
              "15    207    TEDGlobal 2011  2011  145617582\n",
              "16    101           TED2006  2006  141195455\n",
              "17    203    TEDGlobal 2009  2009  139430681\n",
              "18     71            TED-Ed  2018  119620847\n",
              "19     70            TED-Ed  2017  107250422\n",
              "20    205    TEDGlobal 2010  2010   91665810\n",
              "21     73            TED-Ed  2020   90278379\n",
              "22    272         TEDSummit  2016   84365052\n",
              "23    105           TED2007  2007   75007002\n",
              "24    221  TEDGlobal>Geneva  2016   74272174"
            ]
          },
          "metadata": {},
          "execution_count": 565
        }
      ]
    },
    {
      "cell_type": "code",
      "metadata": {
        "colab": {
          "base_uri": "https://localhost:8080/",
          "height": 475
        },
        "id": "h4Nsr7cklKFR",
        "collapsed": true,
        "outputId": "a77014f1-d984-4243-e3f6-3e9ec911a04b"
      },
      "source": [
        "plt.figure(figsize=(15,6))\n",
        "ax=sns.barplot(x='event',y='views',data=temp)\n",
        "labels=ax.get_xticklabels()\n",
        "plt.setp(labels, rotation=90);"
      ],
      "execution_count": null,
      "outputs": [
        {
          "output_type": "display_data",
          "data": {
            "image/png": "[encoded data removed]",
            "text/plain": [
              "<Figure size 1080x432 with 1 Axes>"
            ]
          },
          "metadata": {}
        }
      ]
    },
    {
      "cell_type": "code",
      "metadata": {
        "id": "Dq1zOztza0kI"
      },
      "source": [
        "# avg views of each event plot "
      ],
      "execution_count": null,
      "outputs": []
    },
    {
      "cell_type": "code",
      "metadata": {
        "id": "42Ns59pIlV02",
        "colab": {
          "base_uri": "https://localhost:8080/"
        },
        "outputId": "4dfe15e9-d3e7-4d9f-c1f1-ba1a03333e88"
      },
      "source": [
        "df[df['event']=='TED-Ed']['year'].value_counts()"
      ],
      "execution_count": null,
      "outputs": [
        {
          "output_type": "execute_result",
          "data": {
            "text/plain": [
              "2019    355\n",
              "2020     91\n",
              "2018     81\n",
              "2017     27\n",
              "2012      8\n",
              "Name: year, dtype: int64"
            ]
          },
          "metadata": {},
          "execution_count": 568
        }
      ]
    },
    {
      "cell_type": "code",
      "metadata": {
        "id": "BXGTZ9HKrdaK",
        "colab": {
          "base_uri": "https://localhost:8080/",
          "height": 1000
        },
        "outputId": "3f634410-f291-4a02-ce82-87af3a2b964a"
      },
      "source": [
        "# top 25 speakers\n",
        "temp=df[['occupations','views']]\n",
        "temp=df.explode('occupations')\n",
        "temp\n",
        "# temp=df.astype({'occupations':'str'})"
      ],
      "execution_count": null,
      "outputs": [
        {
          "output_type": "execute_result",
          "data": {
            "text/html": [
              "<div>\n",
              "<style scoped>\n",
              "    .dataframe tbody tr th:only-of-type {\n",
              "        vertical-align: middle;\n",
              "    }\n",
              "\n",
              "    .dataframe tbody tr th {\n",
              "        vertical-align: top;\n",
              "    }\n",
              "\n",
              "    .dataframe thead th {\n",
              "        text-align: right;\n",
              "    }\n",
              "</style>\n",
              "<table border=\"1\" class=\"dataframe\">\n",
              "  <thead>\n",
              "    <tr style=\"text-align: right;\">\n",
              "      <th></th>\n",
              "      <th>talk_id</th>\n",
              "      <th>title</th>\n",
              "      <th>speaker_1</th>\n",
              "      <th>about_speakers</th>\n",
              "      <th>views</th>\n",
              "      <th>recorded_date</th>\n",
              "      <th>published_date</th>\n",
              "      <th>event</th>\n",
              "      <th>native_lang</th>\n",
              "      <th>available_lang</th>\n",
              "      <th>comments</th>\n",
              "      <th>duration</th>\n",
              "      <th>topics</th>\n",
              "      <th>related_talks</th>\n",
              "      <th>url</th>\n",
              "      <th>description</th>\n",
              "      <th>transcript</th>\n",
              "      <th>month</th>\n",
              "      <th>year</th>\n",
              "      <th>day</th>\n",
              "      <th>time_after_published</th>\n",
              "      <th>days_to_publish</th>\n",
              "      <th>all_speakers</th>\n",
              "      <th>occupations</th>\n",
              "    </tr>\n",
              "  </thead>\n",
              "  <tbody>\n",
              "    <tr>\n",
              "      <th>0</th>\n",
              "      <td>1</td>\n",
              "      <td>Averting the climate crisis</td>\n",
              "      <td>Al Gore</td>\n",
              "      <td>{0: 'Nobel Laureate Al Gore focused the world’...</td>\n",
              "      <td>3523392</td>\n",
              "      <td>2006-02-25</td>\n",
              "      <td>2006-06-27</td>\n",
              "      <td>TED2006</td>\n",
              "      <td>en</td>\n",
              "      <td>['ar', 'bg', 'cs', 'de', 'el', 'en', 'es', 'fa...</td>\n",
              "      <td>272.0</td>\n",
              "      <td>977</td>\n",
              "      <td>['alternative energy', 'cars', 'climate change...</td>\n",
              "      <td>{243: 'New thinking on the climate crisis', 54...</td>\n",
              "      <td>https://www.ted.com/talks/al_gore_averting_the...</td>\n",
              "      <td>With the same humor and humanity he exuded in ...</td>\n",
              "      <td>Thank you so much, Chris. And it's truly a gre...</td>\n",
              "      <td>Jun</td>\n",
              "      <td>2006</td>\n",
              "      <td>27</td>\n",
              "      <td>5056</td>\n",
              "      <td>122.0</td>\n",
              "      <td>Al Gore</td>\n",
              "      <td>climate advocate</td>\n",
              "    </tr>\n",
              "    <tr>\n",
              "      <th>1</th>\n",
              "      <td>92</td>\n",
              "      <td>The best stats you've ever seen</td>\n",
              "      <td>Hans Rosling</td>\n",
              "      <td>{0: 'In Hans Rosling’s hands, data sings. Glob...</td>\n",
              "      <td>14501685</td>\n",
              "      <td>2006-02-22</td>\n",
              "      <td>2006-06-27</td>\n",
              "      <td>TED2006</td>\n",
              "      <td>en</td>\n",
              "      <td>['ar', 'az', 'bg', 'bn', 'bs', 'cs', 'da', 'de...</td>\n",
              "      <td>628.0</td>\n",
              "      <td>1190</td>\n",
              "      <td>['Africa', 'Asia', 'Google', 'demo', 'economic...</td>\n",
              "      <td>{2056: \"Own your body's data\", 2296: 'A visual...</td>\n",
              "      <td>https://www.ted.com/talks/hans_rosling_the_bes...</td>\n",
              "      <td>You've never seen data presented like this. Wi...</td>\n",
              "      <td>About 10 years ago, I took on the task to teac...</td>\n",
              "      <td>Jun</td>\n",
              "      <td>2006</td>\n",
              "      <td>27</td>\n",
              "      <td>5056</td>\n",
              "      <td>125.0</td>\n",
              "      <td>Hans Rosling</td>\n",
              "      <td>global health expert; data visionary</td>\n",
              "    </tr>\n",
              "    <tr>\n",
              "      <th>2</th>\n",
              "      <td>7</td>\n",
              "      <td>Simplicity sells</td>\n",
              "      <td>David Pogue</td>\n",
              "      <td>{0: 'David Pogue is the personal technology co...</td>\n",
              "      <td>1920832</td>\n",
              "      <td>2006-02-24</td>\n",
              "      <td>2006-06-27</td>\n",
              "      <td>TED2006</td>\n",
              "      <td>en</td>\n",
              "      <td>['ar', 'bg', 'de', 'el', 'en', 'es', 'fa', 'fr...</td>\n",
              "      <td>124.0</td>\n",
              "      <td>1286</td>\n",
              "      <td>['computers', 'entertainment', 'interface desi...</td>\n",
              "      <td>{1725: '10 top time-saving tech tips', 2274: '...</td>\n",
              "      <td>https://www.ted.com/talks/david_pogue_simplici...</td>\n",
              "      <td>New York Times columnist David Pogue takes aim...</td>\n",
              "      <td>(Music: \"The Sound of Silence,\" Simon &amp; Garfun...</td>\n",
              "      <td>Jun</td>\n",
              "      <td>2006</td>\n",
              "      <td>27</td>\n",
              "      <td>5056</td>\n",
              "      <td>123.0</td>\n",
              "      <td>David Pogue</td>\n",
              "      <td>technology columnist</td>\n",
              "    </tr>\n",
              "    <tr>\n",
              "      <th>3</th>\n",
              "      <td>53</td>\n",
              "      <td>Greening the ghetto</td>\n",
              "      <td>Majora Carter</td>\n",
              "      <td>{0: 'Majora Carter redefined the field of envi...</td>\n",
              "      <td>2664069</td>\n",
              "      <td>2006-02-26</td>\n",
              "      <td>2006-06-27</td>\n",
              "      <td>TED2006</td>\n",
              "      <td>en</td>\n",
              "      <td>['ar', 'bg', 'bn', 'ca', 'cs', 'de', 'en', 'es...</td>\n",
              "      <td>219.0</td>\n",
              "      <td>1116</td>\n",
              "      <td>['MacArthur grant', 'activism', 'business', 'c...</td>\n",
              "      <td>{1041: '3 stories of local eco-entrepreneurshi...</td>\n",
              "      <td>https://www.ted.com/talks/majora_carter_greeni...</td>\n",
              "      <td>In an emotionally charged talk, MacArthur-winn...</td>\n",
              "      <td>If you're here today — and I'm very happy that...</td>\n",
              "      <td>Jun</td>\n",
              "      <td>2006</td>\n",
              "      <td>27</td>\n",
              "      <td>5056</td>\n",
              "      <td>121.0</td>\n",
              "      <td>Majora Carter</td>\n",
              "      <td>activist for environmental justice</td>\n",
              "    </tr>\n",
              "    <tr>\n",
              "      <th>4</th>\n",
              "      <td>66</td>\n",
              "      <td>Do schools kill creativity?</td>\n",
              "      <td>Sir Ken Robinson</td>\n",
              "      <td>{0: \"Creativity expert Sir Ken Robinson challe...</td>\n",
              "      <td>65051954</td>\n",
              "      <td>2006-02-25</td>\n",
              "      <td>2006-06-27</td>\n",
              "      <td>TED2006</td>\n",
              "      <td>en</td>\n",
              "      <td>['af', 'ar', 'az', 'be', 'bg', 'bn', 'ca', 'cs...</td>\n",
              "      <td>4931.0</td>\n",
              "      <td>1164</td>\n",
              "      <td>['children', 'creativity', 'culture', 'dance',...</td>\n",
              "      <td>{865: 'Bring on the learning revolution!', 173...</td>\n",
              "      <td>https://www.ted.com/talks/sir_ken_robinson_do_...</td>\n",
              "      <td>Sir Ken Robinson makes an entertaining and pro...</td>\n",
              "      <td>Good morning. How are you? (Audience) Good. It...</td>\n",
              "      <td>Jun</td>\n",
              "      <td>2006</td>\n",
              "      <td>27</td>\n",
              "      <td>5056</td>\n",
              "      <td>122.0</td>\n",
              "      <td>Sir Ken Robinson</td>\n",
              "      <td>author</td>\n",
              "    </tr>\n",
              "    <tr>\n",
              "      <th>...</th>\n",
              "      <td>...</td>\n",
              "      <td>...</td>\n",
              "      <td>...</td>\n",
              "      <td>...</td>\n",
              "      <td>...</td>\n",
              "      <td>...</td>\n",
              "      <td>...</td>\n",
              "      <td>...</td>\n",
              "      <td>...</td>\n",
              "      <td>...</td>\n",
              "      <td>...</td>\n",
              "      <td>...</td>\n",
              "      <td>...</td>\n",
              "      <td>...</td>\n",
              "      <td>...</td>\n",
              "      <td>...</td>\n",
              "      <td>...</td>\n",
              "      <td>...</td>\n",
              "      <td>...</td>\n",
              "      <td>...</td>\n",
              "      <td>...</td>\n",
              "      <td>...</td>\n",
              "      <td>...</td>\n",
              "      <td>...</td>\n",
              "    </tr>\n",
              "    <tr>\n",
              "      <th>4134</th>\n",
              "      <td>62678</td>\n",
              "      <td>Crisis support for the world, one text away</td>\n",
              "      <td>Nancy Lublin</td>\n",
              "      <td>{0: 'Nancy Lublin, cofounder and CEO of Crisis...</td>\n",
              "      <td>502934</td>\n",
              "      <td>2020-04-22</td>\n",
              "      <td>2020-04-27</td>\n",
              "      <td>TED2020: The Prequel</td>\n",
              "      <td>en</td>\n",
              "      <td>['en']</td>\n",
              "      <td>6.0</td>\n",
              "      <td>690</td>\n",
              "      <td>['activism', 'data', 'technology', 'mental hea...</td>\n",
              "      <td>{2362: 'How data from a crisis text line is sa...</td>\n",
              "      <td>https://www.ted.com/talks/nancy_lublin_crisis_...</td>\n",
              "      <td>What if we could help people in crisis anytime...</td>\n",
              "      <td>\"I'm 14, and I want to go home.\" \"My name is B...</td>\n",
              "      <td>Apr</td>\n",
              "      <td>2020</td>\n",
              "      <td>27</td>\n",
              "      <td>3</td>\n",
              "      <td>5.0</td>\n",
              "      <td>Nancy Lublin</td>\n",
              "      <td>health activist</td>\n",
              "    </tr>\n",
              "    <tr>\n",
              "      <th>4135</th>\n",
              "      <td>62782</td>\n",
              "      <td>The dark history of IQ tests</td>\n",
              "      <td>Stefan C Dombrowski</td>\n",
              "      <td>NaN</td>\n",
              "      <td>307187</td>\n",
              "      <td>2020-04-27</td>\n",
              "      <td>2020-04-27</td>\n",
              "      <td>TED-Ed</td>\n",
              "      <td>en</td>\n",
              "      <td>['en', 'es', 'my', 'pt-br']</td>\n",
              "      <td>NaN</td>\n",
              "      <td>346</td>\n",
              "      <td>['TED-Ed', 'education', 'history', 'animation'...</td>\n",
              "      <td>{35386: 'How does the Rorschach inkblot test w...</td>\n",
              "      <td>https://www.ted.com/talks/stefan_c_dombrowski_...</td>\n",
              "      <td>In 1905, psychologists Alfred Binet and Théodo...</td>\n",
              "      <td>In 1905, psychologists Alfred Binet and Théodo...</td>\n",
              "      <td>Apr</td>\n",
              "      <td>2020</td>\n",
              "      <td>27</td>\n",
              "      <td>3</td>\n",
              "      <td>0.0</td>\n",
              "      <td>Stefan C Dombrowski</td>\n",
              "      <td>other</td>\n",
              "    </tr>\n",
              "    <tr>\n",
              "      <th>4136</th>\n",
              "      <td>62263</td>\n",
              "      <td>How \"policing for profit\" undermines your rights</td>\n",
              "      <td>Dick M. Carpenter II</td>\n",
              "      <td>{0: 'Dick M. Carpenter II studies cutting edge...</td>\n",
              "      <td>464414</td>\n",
              "      <td>2019-06-22</td>\n",
              "      <td>2020-04-28</td>\n",
              "      <td>TEDxMileHigh</td>\n",
              "      <td>en</td>\n",
              "      <td>['en']</td>\n",
              "      <td>9.0</td>\n",
              "      <td>774</td>\n",
              "      <td>['society', 'law', 'policy', 'justice system',...</td>\n",
              "      <td>{2406: 'I love being a police officer, but we ...</td>\n",
              "      <td>https://www.ted.com/talks/dick_m_carpenter_ii_...</td>\n",
              "      <td>Many countries have an active, centuries-old l...</td>\n",
              "      <td>Picture yourself driving down the road tomorro...</td>\n",
              "      <td>Apr</td>\n",
              "      <td>2020</td>\n",
              "      <td>28</td>\n",
              "      <td>2</td>\n",
              "      <td>311.0</td>\n",
              "      <td>Dick M. Carpenter II</td>\n",
              "      <td>law researcher</td>\n",
              "    </tr>\n",
              "    <tr>\n",
              "      <th>4137</th>\n",
              "      <td>62784</td>\n",
              "      <td>The electrifying speeches of Sojourner Truth</td>\n",
              "      <td>Daina Ramey Berry</td>\n",
              "      <td>NaN</td>\n",
              "      <td>56582</td>\n",
              "      <td>2020-04-28</td>\n",
              "      <td>2020-04-30</td>\n",
              "      <td>TED-Ed</td>\n",
              "      <td>en</td>\n",
              "      <td>['en']</td>\n",
              "      <td>NaN</td>\n",
              "      <td>257</td>\n",
              "      <td>['TED-Ed', 'education', 'animation', 'United S...</td>\n",
              "      <td>{20973: 'The breathtaking courage of Harriet T...</td>\n",
              "      <td>https://www.ted.com/talks/daina_ramey_berry_th...</td>\n",
              "      <td>Isabella Baumfree was born into slavery in lat...</td>\n",
              "      <td>In early 1828, Sojourner Truth approached the ...</td>\n",
              "      <td>Apr</td>\n",
              "      <td>2020</td>\n",
              "      <td>30</td>\n",
              "      <td>0</td>\n",
              "      <td>2.0</td>\n",
              "      <td>Daina Ramey Berry</td>\n",
              "      <td>other</td>\n",
              "    </tr>\n",
              "    <tr>\n",
              "      <th>4138</th>\n",
              "      <td>62794</td>\n",
              "      <td>The most important anus in the ocean</td>\n",
              "      <td>Cella Wright</td>\n",
              "      <td>NaN</td>\n",
              "      <td>0</td>\n",
              "      <td>2020-04-30</td>\n",
              "      <td>2020-04-30</td>\n",
              "      <td>TED-Ed</td>\n",
              "      <td>en</td>\n",
              "      <td>['en']</td>\n",
              "      <td>NaN</td>\n",
              "      <td>281</td>\n",
              "      <td>['animals', 'TED-Ed', 'animation', 'oceans', '...</td>\n",
              "      <td>{62347: 'The bug that poops candy', 29159: 'In...</td>\n",
              "      <td>https://www.ted.com/talks/cella_wright_the_mos...</td>\n",
              "      <td>Is it a fuzzy sock? An overripe banana? A mold...</td>\n",
              "      <td>Can you guess what you’re looking at? Is it a ...</td>\n",
              "      <td>Apr</td>\n",
              "      <td>2020</td>\n",
              "      <td>30</td>\n",
              "      <td>0</td>\n",
              "      <td>0.0</td>\n",
              "      <td>Cella Wright</td>\n",
              "      <td>other</td>\n",
              "    </tr>\n",
              "  </tbody>\n",
              "</table>\n",
              "<p>5080 rows × 24 columns</p>\n",
              "</div>"
            ],
            "text/plain": [
              "      talk_id                                             title  \\\n",
              "0           1                       Averting the climate crisis   \n",
              "1          92                   The best stats you've ever seen   \n",
              "2           7                                  Simplicity sells   \n",
              "3          53                               Greening the ghetto   \n",
              "4          66                       Do schools kill creativity?   \n",
              "...       ...                                               ...   \n",
              "4134    62678       Crisis support for the world, one text away   \n",
              "4135    62782                      The dark history of IQ tests   \n",
              "4136    62263  How \"policing for profit\" undermines your rights   \n",
              "4137    62784      The electrifying speeches of Sojourner Truth   \n",
              "4138    62794              The most important anus in the ocean   \n",
              "\n",
              "                 speaker_1                                     about_speakers  \\\n",
              "0                  Al Gore  {0: 'Nobel Laureate Al Gore focused the world’...   \n",
              "1             Hans Rosling  {0: 'In Hans Rosling’s hands, data sings. Glob...   \n",
              "2              David Pogue  {0: 'David Pogue is the personal technology co...   \n",
              "3            Majora Carter  {0: 'Majora Carter redefined the field of envi...   \n",
              "4         Sir Ken Robinson  {0: \"Creativity expert Sir Ken Robinson challe...   \n",
              "...                    ...                                                ...   \n",
              "4134          Nancy Lublin  {0: 'Nancy Lublin, cofounder and CEO of Crisis...   \n",
              "4135   Stefan C Dombrowski                                                NaN   \n",
              "4136  Dick M. Carpenter II  {0: 'Dick M. Carpenter II studies cutting edge...   \n",
              "4137     Daina Ramey Berry                                                NaN   \n",
              "4138          Cella Wright                                                NaN   \n",
              "\n",
              "         views recorded_date published_date                 event native_lang  \\\n",
              "0      3523392    2006-02-25     2006-06-27               TED2006          en   \n",
              "1     14501685    2006-02-22     2006-06-27               TED2006          en   \n",
              "2      1920832    2006-02-24     2006-06-27               TED2006          en   \n",
              "3      2664069    2006-02-26     2006-06-27               TED2006          en   \n",
              "4     65051954    2006-02-25     2006-06-27               TED2006          en   \n",
              "...        ...           ...            ...                   ...         ...   \n",
              "4134    502934    2020-04-22     2020-04-27  TED2020: The Prequel          en   \n",
              "4135    307187    2020-04-27     2020-04-27                TED-Ed          en   \n",
              "4136    464414    2019-06-22     2020-04-28          TEDxMileHigh          en   \n",
              "4137     56582    2020-04-28     2020-04-30                TED-Ed          en   \n",
              "4138         0    2020-04-30     2020-04-30                TED-Ed          en   \n",
              "\n",
              "                                         available_lang  comments  duration  \\\n",
              "0     ['ar', 'bg', 'cs', 'de', 'el', 'en', 'es', 'fa...     272.0       977   \n",
              "1     ['ar', 'az', 'bg', 'bn', 'bs', 'cs', 'da', 'de...     628.0      1190   \n",
              "2     ['ar', 'bg', 'de', 'el', 'en', 'es', 'fa', 'fr...     124.0      1286   \n",
              "3     ['ar', 'bg', 'bn', 'ca', 'cs', 'de', 'en', 'es...     219.0      1116   \n",
              "4     ['af', 'ar', 'az', 'be', 'bg', 'bn', 'ca', 'cs...    4931.0      1164   \n",
              "...                                                 ...       ...       ...   \n",
              "4134                                             ['en']       6.0       690   \n",
              "4135                        ['en', 'es', 'my', 'pt-br']       NaN       346   \n",
              "4136                                             ['en']       9.0       774   \n",
              "4137                                             ['en']       NaN       257   \n",
              "4138                                             ['en']       NaN       281   \n",
              "\n",
              "                                                 topics  \\\n",
              "0     ['alternative energy', 'cars', 'climate change...   \n",
              "1     ['Africa', 'Asia', 'Google', 'demo', 'economic...   \n",
              "2     ['computers', 'entertainment', 'interface desi...   \n",
              "3     ['MacArthur grant', 'activism', 'business', 'c...   \n",
              "4     ['children', 'creativity', 'culture', 'dance',...   \n",
              "...                                                 ...   \n",
              "4134  ['activism', 'data', 'technology', 'mental hea...   \n",
              "4135  ['TED-Ed', 'education', 'history', 'animation'...   \n",
              "4136  ['society', 'law', 'policy', 'justice system',...   \n",
              "4137  ['TED-Ed', 'education', 'animation', 'United S...   \n",
              "4138  ['animals', 'TED-Ed', 'animation', 'oceans', '...   \n",
              "\n",
              "                                          related_talks  \\\n",
              "0     {243: 'New thinking on the climate crisis', 54...   \n",
              "1     {2056: \"Own your body's data\", 2296: 'A visual...   \n",
              "2     {1725: '10 top time-saving tech tips', 2274: '...   \n",
              "3     {1041: '3 stories of local eco-entrepreneurshi...   \n",
              "4     {865: 'Bring on the learning revolution!', 173...   \n",
              "...                                                 ...   \n",
              "4134  {2362: 'How data from a crisis text line is sa...   \n",
              "4135  {35386: 'How does the Rorschach inkblot test w...   \n",
              "4136  {2406: 'I love being a police officer, but we ...   \n",
              "4137  {20973: 'The breathtaking courage of Harriet T...   \n",
              "4138  {62347: 'The bug that poops candy', 29159: 'In...   \n",
              "\n",
              "                                                    url  \\\n",
              "0     https://www.ted.com/talks/al_gore_averting_the...   \n",
              "1     https://www.ted.com/talks/hans_rosling_the_bes...   \n",
              "2     https://www.ted.com/talks/david_pogue_simplici...   \n",
              "3     https://www.ted.com/talks/majora_carter_greeni...   \n",
              "4     https://www.ted.com/talks/sir_ken_robinson_do_...   \n",
              "...                                                 ...   \n",
              "4134  https://www.ted.com/talks/nancy_lublin_crisis_...   \n",
              "4135  https://www.ted.com/talks/stefan_c_dombrowski_...   \n",
              "4136  https://www.ted.com/talks/dick_m_carpenter_ii_...   \n",
              "4137  https://www.ted.com/talks/daina_ramey_berry_th...   \n",
              "4138  https://www.ted.com/talks/cella_wright_the_mos...   \n",
              "\n",
              "                                            description  \\\n",
              "0     With the same humor and humanity he exuded in ...   \n",
              "1     You've never seen data presented like this. Wi...   \n",
              "2     New York Times columnist David Pogue takes aim...   \n",
              "3     In an emotionally charged talk, MacArthur-winn...   \n",
              "4     Sir Ken Robinson makes an entertaining and pro...   \n",
              "...                                                 ...   \n",
              "4134  What if we could help people in crisis anytime...   \n",
              "4135  In 1905, psychologists Alfred Binet and Théodo...   \n",
              "4136  Many countries have an active, centuries-old l...   \n",
              "4137  Isabella Baumfree was born into slavery in lat...   \n",
              "4138  Is it a fuzzy sock? An overripe banana? A mold...   \n",
              "\n",
              "                                             transcript month  year  day  \\\n",
              "0     Thank you so much, Chris. And it's truly a gre...   Jun  2006   27   \n",
              "1     About 10 years ago, I took on the task to teac...   Jun  2006   27   \n",
              "2     (Music: \"The Sound of Silence,\" Simon & Garfun...   Jun  2006   27   \n",
              "3     If you're here today — and I'm very happy that...   Jun  2006   27   \n",
              "4     Good morning. How are you? (Audience) Good. It...   Jun  2006   27   \n",
              "...                                                 ...   ...   ...  ...   \n",
              "4134  \"I'm 14, and I want to go home.\" \"My name is B...   Apr  2020   27   \n",
              "4135  In 1905, psychologists Alfred Binet and Théodo...   Apr  2020   27   \n",
              "4136  Picture yourself driving down the road tomorro...   Apr  2020   28   \n",
              "4137  In early 1828, Sojourner Truth approached the ...   Apr  2020   30   \n",
              "4138  Can you guess what you’re looking at? Is it a ...   Apr  2020   30   \n",
              "\n",
              "      time_after_published  days_to_publish          all_speakers  \\\n",
              "0                     5056            122.0               Al Gore   \n",
              "1                     5056            125.0          Hans Rosling   \n",
              "2                     5056            123.0           David Pogue   \n",
              "3                     5056            121.0         Majora Carter   \n",
              "4                     5056            122.0      Sir Ken Robinson   \n",
              "...                    ...              ...                   ...   \n",
              "4134                     3              5.0          Nancy Lublin   \n",
              "4135                     3              0.0   Stefan C Dombrowski   \n",
              "4136                     2            311.0  Dick M. Carpenter II   \n",
              "4137                     0              2.0     Daina Ramey Berry   \n",
              "4138                     0              0.0          Cella Wright   \n",
              "\n",
              "                               occupations  \n",
              "0                         climate advocate  \n",
              "1     global health expert; data visionary  \n",
              "2                     technology columnist  \n",
              "3       activist for environmental justice  \n",
              "4                                   author  \n",
              "...                                    ...  \n",
              "4134                       health activist  \n",
              "4135                                 other  \n",
              "4136                        law researcher  \n",
              "4137                                 other  \n",
              "4138                                 other  \n",
              "\n",
              "[5080 rows x 24 columns]"
            ]
          },
          "metadata": {},
          "execution_count": 569
        }
      ]
    },
    {
      "cell_type": "code",
      "metadata": {
        "colab": {
          "base_uri": "https://localhost:8080/",
          "height": 821
        },
        "id": "y8xwQcZTSiNS",
        "outputId": "90729a35-4e1e-44d2-9526-0861066287d2"
      },
      "source": [
        "temp=temp.groupby(['occupations'],as_index=False)['views'].sum().sort_values('views',ascending=False).reset_index()[:25]\n",
        "temp"
      ],
      "execution_count": null,
      "outputs": [
        {
          "output_type": "execute_result",
          "data": {
            "text/html": [
              "<div>\n",
              "<style scoped>\n",
              "    .dataframe tbody tr th:only-of-type {\n",
              "        vertical-align: middle;\n",
              "    }\n",
              "\n",
              "    .dataframe tbody tr th {\n",
              "        vertical-align: top;\n",
              "    }\n",
              "\n",
              "    .dataframe thead th {\n",
              "        text-align: right;\n",
              "    }\n",
              "</style>\n",
              "<table border=\"1\" class=\"dataframe\">\n",
              "  <thead>\n",
              "    <tr style=\"text-align: right;\">\n",
              "      <th></th>\n",
              "      <th>index</th>\n",
              "      <th>occupations</th>\n",
              "      <th>views</th>\n",
              "    </tr>\n",
              "  </thead>\n",
              "  <tbody>\n",
              "    <tr>\n",
              "      <th>0</th>\n",
              "      <td>1191</td>\n",
              "      <td>other</td>\n",
              "      <td>1088529930</td>\n",
              "    </tr>\n",
              "    <tr>\n",
              "      <th>1</th>\n",
              "      <td>125</td>\n",
              "      <td>author</td>\n",
              "      <td>499452277</td>\n",
              "    </tr>\n",
              "    <tr>\n",
              "      <th>2</th>\n",
              "      <td>1777</td>\n",
              "      <td>writer</td>\n",
              "      <td>410448475</td>\n",
              "    </tr>\n",
              "    <tr>\n",
              "      <th>3</th>\n",
              "      <td>573</td>\n",
              "      <td>educator</td>\n",
              "      <td>234031347</td>\n",
              "    </tr>\n",
              "    <tr>\n",
              "      <th>4</th>\n",
              "      <td>601</td>\n",
              "      <td>entrepreneur</td>\n",
              "      <td>208354770</td>\n",
              "    </tr>\n",
              "    <tr>\n",
              "      <th>5</th>\n",
              "      <td>12</td>\n",
              "      <td>activist</td>\n",
              "      <td>208108827</td>\n",
              "    </tr>\n",
              "    <tr>\n",
              "      <th>6</th>\n",
              "      <td>1360</td>\n",
              "      <td>psychologist</td>\n",
              "      <td>184260293</td>\n",
              "    </tr>\n",
              "    <tr>\n",
              "      <th>7</th>\n",
              "      <td>914</td>\n",
              "      <td>journalist</td>\n",
              "      <td>179942939</td>\n",
              "    </tr>\n",
              "    <tr>\n",
              "      <th>8</th>\n",
              "      <td>1137</td>\n",
              "      <td>neuroscientist</td>\n",
              "      <td>133974359</td>\n",
              "    </tr>\n",
              "    <tr>\n",
              "      <th>9</th>\n",
              "      <td>93</td>\n",
              "      <td>artist</td>\n",
              "      <td>126745454</td>\n",
              "    </tr>\n",
              "    <tr>\n",
              "      <th>10</th>\n",
              "      <td>480</td>\n",
              "      <td>designer</td>\n",
              "      <td>110481862</td>\n",
              "    </tr>\n",
              "    <tr>\n",
              "      <th>11</th>\n",
              "      <td>673</td>\n",
              "      <td>filmmaker</td>\n",
              "      <td>96699222</td>\n",
              "    </tr>\n",
              "    <tr>\n",
              "      <th>12</th>\n",
              "      <td>897</td>\n",
              "      <td>inventor</td>\n",
              "      <td>94379679</td>\n",
              "    </tr>\n",
              "    <tr>\n",
              "      <th>13</th>\n",
              "      <td>1537</td>\n",
              "      <td>social psychologist</td>\n",
              "      <td>92554701</td>\n",
              "    </tr>\n",
              "    <tr>\n",
              "      <th>14</th>\n",
              "      <td>343</td>\n",
              "      <td>comedian and writer</td>\n",
              "      <td>89667159</td>\n",
              "    </tr>\n",
              "    <tr>\n",
              "      <th>15</th>\n",
              "      <td>1233</td>\n",
              "      <td>philosopher</td>\n",
              "      <td>84246659</td>\n",
              "    </tr>\n",
              "    <tr>\n",
              "      <th>16</th>\n",
              "      <td>1231</td>\n",
              "      <td>philanthropist</td>\n",
              "      <td>77868371</td>\n",
              "    </tr>\n",
              "    <tr>\n",
              "      <th>17</th>\n",
              "      <td>949</td>\n",
              "      <td>leadership expert</td>\n",
              "      <td>74128084</td>\n",
              "    </tr>\n",
              "    <tr>\n",
              "      <th>18</th>\n",
              "      <td>339</td>\n",
              "      <td>comedian</td>\n",
              "      <td>69745335</td>\n",
              "    </tr>\n",
              "    <tr>\n",
              "      <th>19</th>\n",
              "      <td>795</td>\n",
              "      <td>head of ted</td>\n",
              "      <td>65870913</td>\n",
              "    </tr>\n",
              "    <tr>\n",
              "      <th>20</th>\n",
              "      <td>82</td>\n",
              "      <td>architect</td>\n",
              "      <td>64995825</td>\n",
              "    </tr>\n",
              "    <tr>\n",
              "      <th>21</th>\n",
              "      <td>1251</td>\n",
              "      <td>physicist</td>\n",
              "      <td>63639552</td>\n",
              "    </tr>\n",
              "    <tr>\n",
              "      <th>22</th>\n",
              "      <td>198</td>\n",
              "      <td>blogger</td>\n",
              "      <td>62576421</td>\n",
              "    </tr>\n",
              "    <tr>\n",
              "      <th>23</th>\n",
              "      <td>1153</td>\n",
              "      <td>novelist</td>\n",
              "      <td>62561158</td>\n",
              "    </tr>\n",
              "    <tr>\n",
              "      <th>24</th>\n",
              "      <td>1749</td>\n",
              "      <td>vulnerability researcher</td>\n",
              "      <td>61285977</td>\n",
              "    </tr>\n",
              "  </tbody>\n",
              "</table>\n",
              "</div>"
            ],
            "text/plain": [
              "    index               occupations       views\n",
              "0    1191                     other  1088529930\n",
              "1     125                    author   499452277\n",
              "2    1777                    writer   410448475\n",
              "3     573                  educator   234031347\n",
              "4     601              entrepreneur   208354770\n",
              "5      12                  activist   208108827\n",
              "6    1360              psychologist   184260293\n",
              "7     914                journalist   179942939\n",
              "8    1137            neuroscientist   133974359\n",
              "9      93                    artist   126745454\n",
              "10    480                  designer   110481862\n",
              "11    673                 filmmaker    96699222\n",
              "12    897                  inventor    94379679\n",
              "13   1537       social psychologist    92554701\n",
              "14    343       comedian and writer    89667159\n",
              "15   1233               philosopher    84246659\n",
              "16   1231            philanthropist    77868371\n",
              "17    949         leadership expert    74128084\n",
              "18    339                  comedian    69745335\n",
              "19    795               head of ted    65870913\n",
              "20     82                 architect    64995825\n",
              "21   1251                 physicist    63639552\n",
              "22    198                   blogger    62576421\n",
              "23   1153                  novelist    62561158\n",
              "24   1749  vulnerability researcher    61285977"
            ]
          },
          "metadata": {},
          "execution_count": 570
        }
      ]
    },
    {
      "cell_type": "code",
      "metadata": {
        "colab": {
          "base_uri": "https://localhost:8080/",
          "height": 489
        },
        "id": "0EHb79hfR2is",
        "outputId": "9a27be7c-e8cd-4d3d-d114-0b84f5251c36"
      },
      "source": [
        "plt.figure(figsize=(15,6))\n",
        "ax=sns.barplot(x='occupations',y='views',data=temp)\n",
        "labels=ax.get_xticklabels()\n",
        "plt.setp(labels, rotation=90);"
      ],
      "execution_count": null,
      "outputs": [
        {
          "output_type": "display_data",
          "data": {
            "image/png": "[encoded data removed]",
            "text/plain": [
              "<Figure size 1080x432 with 1 Axes>"
            ]
          },
          "metadata": {}
        }
      ]
    },
    {
      "cell_type": "code",
      "metadata": {
        "colab": {
          "base_uri": "https://localhost:8080/",
          "height": 1000
        },
        "id": "8oitOjDwd5W6",
        "outputId": "064e303e-5f99-4717-d892-5df20a2affb5"
      },
      "source": [
        "df[df['occupations']!='other']"
      ],
      "execution_count": null,
      "outputs": [
        {
          "output_type": "execute_result",
          "data": {
            "text/html": [
              "<div>\n",
              "<style scoped>\n",
              "    .dataframe tbody tr th:only-of-type {\n",
              "        vertical-align: middle;\n",
              "    }\n",
              "\n",
              "    .dataframe tbody tr th {\n",
              "        vertical-align: top;\n",
              "    }\n",
              "\n",
              "    .dataframe thead th {\n",
              "        text-align: right;\n",
              "    }\n",
              "</style>\n",
              "<table border=\"1\" class=\"dataframe\">\n",
              "  <thead>\n",
              "    <tr style=\"text-align: right;\">\n",
              "      <th></th>\n",
              "      <th>talk_id</th>\n",
              "      <th>title</th>\n",
              "      <th>speaker_1</th>\n",
              "      <th>about_speakers</th>\n",
              "      <th>views</th>\n",
              "      <th>recorded_date</th>\n",
              "      <th>published_date</th>\n",
              "      <th>event</th>\n",
              "      <th>native_lang</th>\n",
              "      <th>available_lang</th>\n",
              "      <th>comments</th>\n",
              "      <th>duration</th>\n",
              "      <th>topics</th>\n",
              "      <th>related_talks</th>\n",
              "      <th>url</th>\n",
              "      <th>description</th>\n",
              "      <th>transcript</th>\n",
              "      <th>month</th>\n",
              "      <th>year</th>\n",
              "      <th>day</th>\n",
              "      <th>time_after_published</th>\n",
              "      <th>days_to_publish</th>\n",
              "      <th>all_speakers</th>\n",
              "      <th>occupations</th>\n",
              "    </tr>\n",
              "  </thead>\n",
              "  <tbody>\n",
              "    <tr>\n",
              "      <th>0</th>\n",
              "      <td>1</td>\n",
              "      <td>Averting the climate crisis</td>\n",
              "      <td>Al Gore</td>\n",
              "      <td>{0: 'Nobel Laureate Al Gore focused the world’...</td>\n",
              "      <td>3523392</td>\n",
              "      <td>2006-02-25</td>\n",
              "      <td>2006-06-27</td>\n",
              "      <td>TED2006</td>\n",
              "      <td>en</td>\n",
              "      <td>['ar', 'bg', 'cs', 'de', 'el', 'en', 'es', 'fa...</td>\n",
              "      <td>272.0</td>\n",
              "      <td>977</td>\n",
              "      <td>['alternative energy', 'cars', 'climate change...</td>\n",
              "      <td>{243: 'New thinking on the climate crisis', 54...</td>\n",
              "      <td>https://www.ted.com/talks/al_gore_averting_the...</td>\n",
              "      <td>With the same humor and humanity he exuded in ...</td>\n",
              "      <td>Thank you so much, Chris. And it's truly a gre...</td>\n",
              "      <td>Jun</td>\n",
              "      <td>2006</td>\n",
              "      <td>27</td>\n",
              "      <td>5056</td>\n",
              "      <td>122.0</td>\n",
              "      <td>Al Gore</td>\n",
              "      <td>[climate advocate]</td>\n",
              "    </tr>\n",
              "    <tr>\n",
              "      <th>1</th>\n",
              "      <td>92</td>\n",
              "      <td>The best stats you've ever seen</td>\n",
              "      <td>Hans Rosling</td>\n",
              "      <td>{0: 'In Hans Rosling’s hands, data sings. Glob...</td>\n",
              "      <td>14501685</td>\n",
              "      <td>2006-02-22</td>\n",
              "      <td>2006-06-27</td>\n",
              "      <td>TED2006</td>\n",
              "      <td>en</td>\n",
              "      <td>['ar', 'az', 'bg', 'bn', 'bs', 'cs', 'da', 'de...</td>\n",
              "      <td>628.0</td>\n",
              "      <td>1190</td>\n",
              "      <td>['Africa', 'Asia', 'Google', 'demo', 'economic...</td>\n",
              "      <td>{2056: \"Own your body's data\", 2296: 'A visual...</td>\n",
              "      <td>https://www.ted.com/talks/hans_rosling_the_bes...</td>\n",
              "      <td>You've never seen data presented like this. Wi...</td>\n",
              "      <td>About 10 years ago, I took on the task to teac...</td>\n",
              "      <td>Jun</td>\n",
              "      <td>2006</td>\n",
              "      <td>27</td>\n",
              "      <td>5056</td>\n",
              "      <td>125.0</td>\n",
              "      <td>Hans Rosling</td>\n",
              "      <td>[global health expert; data visionary]</td>\n",
              "    </tr>\n",
              "    <tr>\n",
              "      <th>2</th>\n",
              "      <td>7</td>\n",
              "      <td>Simplicity sells</td>\n",
              "      <td>David Pogue</td>\n",
              "      <td>{0: 'David Pogue is the personal technology co...</td>\n",
              "      <td>1920832</td>\n",
              "      <td>2006-02-24</td>\n",
              "      <td>2006-06-27</td>\n",
              "      <td>TED2006</td>\n",
              "      <td>en</td>\n",
              "      <td>['ar', 'bg', 'de', 'el', 'en', 'es', 'fa', 'fr...</td>\n",
              "      <td>124.0</td>\n",
              "      <td>1286</td>\n",
              "      <td>['computers', 'entertainment', 'interface desi...</td>\n",
              "      <td>{1725: '10 top time-saving tech tips', 2274: '...</td>\n",
              "      <td>https://www.ted.com/talks/david_pogue_simplici...</td>\n",
              "      <td>New York Times columnist David Pogue takes aim...</td>\n",
              "      <td>(Music: \"The Sound of Silence,\" Simon &amp; Garfun...</td>\n",
              "      <td>Jun</td>\n",
              "      <td>2006</td>\n",
              "      <td>27</td>\n",
              "      <td>5056</td>\n",
              "      <td>123.0</td>\n",
              "      <td>David Pogue</td>\n",
              "      <td>[technology columnist]</td>\n",
              "    </tr>\n",
              "    <tr>\n",
              "      <th>3</th>\n",
              "      <td>53</td>\n",
              "      <td>Greening the ghetto</td>\n",
              "      <td>Majora Carter</td>\n",
              "      <td>{0: 'Majora Carter redefined the field of envi...</td>\n",
              "      <td>2664069</td>\n",
              "      <td>2006-02-26</td>\n",
              "      <td>2006-06-27</td>\n",
              "      <td>TED2006</td>\n",
              "      <td>en</td>\n",
              "      <td>['ar', 'bg', 'bn', 'ca', 'cs', 'de', 'en', 'es...</td>\n",
              "      <td>219.0</td>\n",
              "      <td>1116</td>\n",
              "      <td>['MacArthur grant', 'activism', 'business', 'c...</td>\n",
              "      <td>{1041: '3 stories of local eco-entrepreneurshi...</td>\n",
              "      <td>https://www.ted.com/talks/majora_carter_greeni...</td>\n",
              "      <td>In an emotionally charged talk, MacArthur-winn...</td>\n",
              "      <td>If you're here today — and I'm very happy that...</td>\n",
              "      <td>Jun</td>\n",
              "      <td>2006</td>\n",
              "      <td>27</td>\n",
              "      <td>5056</td>\n",
              "      <td>121.0</td>\n",
              "      <td>Majora Carter</td>\n",
              "      <td>[activist for environmental justice]</td>\n",
              "    </tr>\n",
              "    <tr>\n",
              "      <th>4</th>\n",
              "      <td>66</td>\n",
              "      <td>Do schools kill creativity?</td>\n",
              "      <td>Sir Ken Robinson</td>\n",
              "      <td>{0: \"Creativity expert Sir Ken Robinson challe...</td>\n",
              "      <td>65051954</td>\n",
              "      <td>2006-02-25</td>\n",
              "      <td>2006-06-27</td>\n",
              "      <td>TED2006</td>\n",
              "      <td>en</td>\n",
              "      <td>['af', 'ar', 'az', 'be', 'bg', 'bn', 'ca', 'cs...</td>\n",
              "      <td>4931.0</td>\n",
              "      <td>1164</td>\n",
              "      <td>['children', 'creativity', 'culture', 'dance',...</td>\n",
              "      <td>{865: 'Bring on the learning revolution!', 173...</td>\n",
              "      <td>https://www.ted.com/talks/sir_ken_robinson_do_...</td>\n",
              "      <td>Sir Ken Robinson makes an entertaining and pro...</td>\n",
              "      <td>Good morning. How are you? (Audience) Good. It...</td>\n",
              "      <td>Jun</td>\n",
              "      <td>2006</td>\n",
              "      <td>27</td>\n",
              "      <td>5056</td>\n",
              "      <td>122.0</td>\n",
              "      <td>Sir Ken Robinson</td>\n",
              "      <td>[author, educator]</td>\n",
              "    </tr>\n",
              "    <tr>\n",
              "      <th>...</th>\n",
              "      <td>...</td>\n",
              "      <td>...</td>\n",
              "      <td>...</td>\n",
              "      <td>...</td>\n",
              "      <td>...</td>\n",
              "      <td>...</td>\n",
              "      <td>...</td>\n",
              "      <td>...</td>\n",
              "      <td>...</td>\n",
              "      <td>...</td>\n",
              "      <td>...</td>\n",
              "      <td>...</td>\n",
              "      <td>...</td>\n",
              "      <td>...</td>\n",
              "      <td>...</td>\n",
              "      <td>...</td>\n",
              "      <td>...</td>\n",
              "      <td>...</td>\n",
              "      <td>...</td>\n",
              "      <td>...</td>\n",
              "      <td>...</td>\n",
              "      <td>...</td>\n",
              "      <td>...</td>\n",
              "      <td>...</td>\n",
              "    </tr>\n",
              "    <tr>\n",
              "      <th>4134</th>\n",
              "      <td>62678</td>\n",
              "      <td>Crisis support for the world, one text away</td>\n",
              "      <td>Nancy Lublin</td>\n",
              "      <td>{0: 'Nancy Lublin, cofounder and CEO of Crisis...</td>\n",
              "      <td>502934</td>\n",
              "      <td>2020-04-22</td>\n",
              "      <td>2020-04-27</td>\n",
              "      <td>TED2020: The Prequel</td>\n",
              "      <td>en</td>\n",
              "      <td>['en']</td>\n",
              "      <td>6.0</td>\n",
              "      <td>690</td>\n",
              "      <td>['activism', 'data', 'technology', 'mental hea...</td>\n",
              "      <td>{2362: 'How data from a crisis text line is sa...</td>\n",
              "      <td>https://www.ted.com/talks/nancy_lublin_crisis_...</td>\n",
              "      <td>What if we could help people in crisis anytime...</td>\n",
              "      <td>\"I'm 14, and I want to go home.\" \"My name is B...</td>\n",
              "      <td>Apr</td>\n",
              "      <td>2020</td>\n",
              "      <td>27</td>\n",
              "      <td>3</td>\n",
              "      <td>5.0</td>\n",
              "      <td>Nancy Lublin</td>\n",
              "      <td>[health activist]</td>\n",
              "    </tr>\n",
              "    <tr>\n",
              "      <th>4135</th>\n",
              "      <td>62782</td>\n",
              "      <td>The dark history of IQ tests</td>\n",
              "      <td>Stefan C Dombrowski</td>\n",
              "      <td>NaN</td>\n",
              "      <td>307187</td>\n",
              "      <td>2020-04-27</td>\n",
              "      <td>2020-04-27</td>\n",
              "      <td>TED-Ed</td>\n",
              "      <td>en</td>\n",
              "      <td>['en', 'es', 'my', 'pt-br']</td>\n",
              "      <td>NaN</td>\n",
              "      <td>346</td>\n",
              "      <td>['TED-Ed', 'education', 'history', 'animation'...</td>\n",
              "      <td>{35386: 'How does the Rorschach inkblot test w...</td>\n",
              "      <td>https://www.ted.com/talks/stefan_c_dombrowski_...</td>\n",
              "      <td>In 1905, psychologists Alfred Binet and Théodo...</td>\n",
              "      <td>In 1905, psychologists Alfred Binet and Théodo...</td>\n",
              "      <td>Apr</td>\n",
              "      <td>2020</td>\n",
              "      <td>27</td>\n",
              "      <td>3</td>\n",
              "      <td>0.0</td>\n",
              "      <td>Stefan C Dombrowski</td>\n",
              "      <td>[other]</td>\n",
              "    </tr>\n",
              "    <tr>\n",
              "      <th>4136</th>\n",
              "      <td>62263</td>\n",
              "      <td>How \"policing for profit\" undermines your rights</td>\n",
              "      <td>Dick M. Carpenter II</td>\n",
              "      <td>{0: 'Dick M. Carpenter II studies cutting edge...</td>\n",
              "      <td>464414</td>\n",
              "      <td>2019-06-22</td>\n",
              "      <td>2020-04-28</td>\n",
              "      <td>TEDxMileHigh</td>\n",
              "      <td>en</td>\n",
              "      <td>['en']</td>\n",
              "      <td>9.0</td>\n",
              "      <td>774</td>\n",
              "      <td>['society', 'law', 'policy', 'justice system',...</td>\n",
              "      <td>{2406: 'I love being a police officer, but we ...</td>\n",
              "      <td>https://www.ted.com/talks/dick_m_carpenter_ii_...</td>\n",
              "      <td>Many countries have an active, centuries-old l...</td>\n",
              "      <td>Picture yourself driving down the road tomorro...</td>\n",
              "      <td>Apr</td>\n",
              "      <td>2020</td>\n",
              "      <td>28</td>\n",
              "      <td>2</td>\n",
              "      <td>311.0</td>\n",
              "      <td>Dick M. Carpenter II</td>\n",
              "      <td>[law researcher]</td>\n",
              "    </tr>\n",
              "    <tr>\n",
              "      <th>4137</th>\n",
              "      <td>62784</td>\n",
              "      <td>The electrifying speeches of Sojourner Truth</td>\n",
              "      <td>Daina Ramey Berry</td>\n",
              "      <td>NaN</td>\n",
              "      <td>56582</td>\n",
              "      <td>2020-04-28</td>\n",
              "      <td>2020-04-30</td>\n",
              "      <td>TED-Ed</td>\n",
              "      <td>en</td>\n",
              "      <td>['en']</td>\n",
              "      <td>NaN</td>\n",
              "      <td>257</td>\n",
              "      <td>['TED-Ed', 'education', 'animation', 'United S...</td>\n",
              "      <td>{20973: 'The breathtaking courage of Harriet T...</td>\n",
              "      <td>https://www.ted.com/talks/daina_ramey_berry_th...</td>\n",
              "      <td>Isabella Baumfree was born into slavery in lat...</td>\n",
              "      <td>In early 1828, Sojourner Truth approached the ...</td>\n",
              "      <td>Apr</td>\n",
              "      <td>2020</td>\n",
              "      <td>30</td>\n",
              "      <td>0</td>\n",
              "      <td>2.0</td>\n",
              "      <td>Daina Ramey Berry</td>\n",
              "      <td>[other]</td>\n",
              "    </tr>\n",
              "    <tr>\n",
              "      <th>4138</th>\n",
              "      <td>62794</td>\n",
              "      <td>The most important anus in the ocean</td>\n",
              "      <td>Cella Wright</td>\n",
              "      <td>NaN</td>\n",
              "      <td>0</td>\n",
              "      <td>2020-04-30</td>\n",
              "      <td>2020-04-30</td>\n",
              "      <td>TED-Ed</td>\n",
              "      <td>en</td>\n",
              "      <td>['en']</td>\n",
              "      <td>NaN</td>\n",
              "      <td>281</td>\n",
              "      <td>['animals', 'TED-Ed', 'animation', 'oceans', '...</td>\n",
              "      <td>{62347: 'The bug that poops candy', 29159: 'In...</td>\n",
              "      <td>https://www.ted.com/talks/cella_wright_the_mos...</td>\n",
              "      <td>Is it a fuzzy sock? An overripe banana? A mold...</td>\n",
              "      <td>Can you guess what you’re looking at? Is it a ...</td>\n",
              "      <td>Apr</td>\n",
              "      <td>2020</td>\n",
              "      <td>30</td>\n",
              "      <td>0</td>\n",
              "      <td>0.0</td>\n",
              "      <td>Cella Wright</td>\n",
              "      <td>[other]</td>\n",
              "    </tr>\n",
              "  </tbody>\n",
              "</table>\n",
              "<p>4139 rows × 24 columns</p>\n",
              "</div>"
            ],
            "text/plain": [
              "      talk_id                                             title  \\\n",
              "0           1                       Averting the climate crisis   \n",
              "1          92                   The best stats you've ever seen   \n",
              "2           7                                  Simplicity sells   \n",
              "3          53                               Greening the ghetto   \n",
              "4          66                       Do schools kill creativity?   \n",
              "...       ...                                               ...   \n",
              "4134    62678       Crisis support for the world, one text away   \n",
              "4135    62782                      The dark history of IQ tests   \n",
              "4136    62263  How \"policing for profit\" undermines your rights   \n",
              "4137    62784      The electrifying speeches of Sojourner Truth   \n",
              "4138    62794              The most important anus in the ocean   \n",
              "\n",
              "                 speaker_1                                     about_speakers  \\\n",
              "0                  Al Gore  {0: 'Nobel Laureate Al Gore focused the world’...   \n",
              "1             Hans Rosling  {0: 'In Hans Rosling’s hands, data sings. Glob...   \n",
              "2              David Pogue  {0: 'David Pogue is the personal technology co...   \n",
              "3            Majora Carter  {0: 'Majora Carter redefined the field of envi...   \n",
              "4         Sir Ken Robinson  {0: \"Creativity expert Sir Ken Robinson challe...   \n",
              "...                    ...                                                ...   \n",
              "4134          Nancy Lublin  {0: 'Nancy Lublin, cofounder and CEO of Crisis...   \n",
              "4135   Stefan C Dombrowski                                                NaN   \n",
              "4136  Dick M. Carpenter II  {0: 'Dick M. Carpenter II studies cutting edge...   \n",
              "4137     Daina Ramey Berry                                                NaN   \n",
              "4138          Cella Wright                                                NaN   \n",
              "\n",
              "         views recorded_date published_date                 event native_lang  \\\n",
              "0      3523392    2006-02-25     2006-06-27               TED2006          en   \n",
              "1     14501685    2006-02-22     2006-06-27               TED2006          en   \n",
              "2      1920832    2006-02-24     2006-06-27               TED2006          en   \n",
              "3      2664069    2006-02-26     2006-06-27               TED2006          en   \n",
              "4     65051954    2006-02-25     2006-06-27               TED2006          en   \n",
              "...        ...           ...            ...                   ...         ...   \n",
              "4134    502934    2020-04-22     2020-04-27  TED2020: The Prequel          en   \n",
              "4135    307187    2020-04-27     2020-04-27                TED-Ed          en   \n",
              "4136    464414    2019-06-22     2020-04-28          TEDxMileHigh          en   \n",
              "4137     56582    2020-04-28     2020-04-30                TED-Ed          en   \n",
              "4138         0    2020-04-30     2020-04-30                TED-Ed          en   \n",
              "\n",
              "                                         available_lang  comments  duration  \\\n",
              "0     ['ar', 'bg', 'cs', 'de', 'el', 'en', 'es', 'fa...     272.0       977   \n",
              "1     ['ar', 'az', 'bg', 'bn', 'bs', 'cs', 'da', 'de...     628.0      1190   \n",
              "2     ['ar', 'bg', 'de', 'el', 'en', 'es', 'fa', 'fr...     124.0      1286   \n",
              "3     ['ar', 'bg', 'bn', 'ca', 'cs', 'de', 'en', 'es...     219.0      1116   \n",
              "4     ['af', 'ar', 'az', 'be', 'bg', 'bn', 'ca', 'cs...    4931.0      1164   \n",
              "...                                                 ...       ...       ...   \n",
              "4134                                             ['en']       6.0       690   \n",
              "4135                        ['en', 'es', 'my', 'pt-br']       NaN       346   \n",
              "4136                                             ['en']       9.0       774   \n",
              "4137                                             ['en']       NaN       257   \n",
              "4138                                             ['en']       NaN       281   \n",
              "\n",
              "                                                 topics  \\\n",
              "0     ['alternative energy', 'cars', 'climate change...   \n",
              "1     ['Africa', 'Asia', 'Google', 'demo', 'economic...   \n",
              "2     ['computers', 'entertainment', 'interface desi...   \n",
              "3     ['MacArthur grant', 'activism', 'business', 'c...   \n",
              "4     ['children', 'creativity', 'culture', 'dance',...   \n",
              "...                                                 ...   \n",
              "4134  ['activism', 'data', 'technology', 'mental hea...   \n",
              "4135  ['TED-Ed', 'education', 'history', 'animation'...   \n",
              "4136  ['society', 'law', 'policy', 'justice system',...   \n",
              "4137  ['TED-Ed', 'education', 'animation', 'United S...   \n",
              "4138  ['animals', 'TED-Ed', 'animation', 'oceans', '...   \n",
              "\n",
              "                                          related_talks  \\\n",
              "0     {243: 'New thinking on the climate crisis', 54...   \n",
              "1     {2056: \"Own your body's data\", 2296: 'A visual...   \n",
              "2     {1725: '10 top time-saving tech tips', 2274: '...   \n",
              "3     {1041: '3 stories of local eco-entrepreneurshi...   \n",
              "4     {865: 'Bring on the learning revolution!', 173...   \n",
              "...                                                 ...   \n",
              "4134  {2362: 'How data from a crisis text line is sa...   \n",
              "4135  {35386: 'How does the Rorschach inkblot test w...   \n",
              "4136  {2406: 'I love being a police officer, but we ...   \n",
              "4137  {20973: 'The breathtaking courage of Harriet T...   \n",
              "4138  {62347: 'The bug that poops candy', 29159: 'In...   \n",
              "\n",
              "                                                    url  \\\n",
              "0     https://www.ted.com/talks/al_gore_averting_the...   \n",
              "1     https://www.ted.com/talks/hans_rosling_the_bes...   \n",
              "2     https://www.ted.com/talks/david_pogue_simplici...   \n",
              "3     https://www.ted.com/talks/majora_carter_greeni...   \n",
              "4     https://www.ted.com/talks/sir_ken_robinson_do_...   \n",
              "...                                                 ...   \n",
              "4134  https://www.ted.com/talks/nancy_lublin_crisis_...   \n",
              "4135  https://www.ted.com/talks/stefan_c_dombrowski_...   \n",
              "4136  https://www.ted.com/talks/dick_m_carpenter_ii_...   \n",
              "4137  https://www.ted.com/talks/daina_ramey_berry_th...   \n",
              "4138  https://www.ted.com/talks/cella_wright_the_mos...   \n",
              "\n",
              "                                            description  \\\n",
              "0     With the same humor and humanity he exuded in ...   \n",
              "1     You've never seen data presented like this. Wi...   \n",
              "2     New York Times columnist David Pogue takes aim...   \n",
              "3     In an emotionally charged talk, MacArthur-winn...   \n",
              "4     Sir Ken Robinson makes an entertaining and pro...   \n",
              "...                                                 ...   \n",
              "4134  What if we could help people in crisis anytime...   \n",
              "4135  In 1905, psychologists Alfred Binet and Théodo...   \n",
              "4136  Many countries have an active, centuries-old l...   \n",
              "4137  Isabella Baumfree was born into slavery in lat...   \n",
              "4138  Is it a fuzzy sock? An overripe banana? A mold...   \n",
              "\n",
              "                                             transcript month  year  day  \\\n",
              "0     Thank you so much, Chris. And it's truly a gre...   Jun  2006   27   \n",
              "1     About 10 years ago, I took on the task to teac...   Jun  2006   27   \n",
              "2     (Music: \"The Sound of Silence,\" Simon & Garfun...   Jun  2006   27   \n",
              "3     If you're here today — and I'm very happy that...   Jun  2006   27   \n",
              "4     Good morning. How are you? (Audience) Good. It...   Jun  2006   27   \n",
              "...                                                 ...   ...   ...  ...   \n",
              "4134  \"I'm 14, and I want to go home.\" \"My name is B...   Apr  2020   27   \n",
              "4135  In 1905, psychologists Alfred Binet and Théodo...   Apr  2020   27   \n",
              "4136  Picture yourself driving down the road tomorro...   Apr  2020   28   \n",
              "4137  In early 1828, Sojourner Truth approached the ...   Apr  2020   30   \n",
              "4138  Can you guess what you’re looking at? Is it a ...   Apr  2020   30   \n",
              "\n",
              "      time_after_published  days_to_publish          all_speakers  \\\n",
              "0                     5056            122.0               Al Gore   \n",
              "1                     5056            125.0          Hans Rosling   \n",
              "2                     5056            123.0           David Pogue   \n",
              "3                     5056            121.0         Majora Carter   \n",
              "4                     5056            122.0      Sir Ken Robinson   \n",
              "...                    ...              ...                   ...   \n",
              "4134                     3              5.0          Nancy Lublin   \n",
              "4135                     3              0.0   Stefan C Dombrowski   \n",
              "4136                     2            311.0  Dick M. Carpenter II   \n",
              "4137                     0              2.0     Daina Ramey Berry   \n",
              "4138                     0              0.0          Cella Wright   \n",
              "\n",
              "                                 occupations  \n",
              "0                         [climate advocate]  \n",
              "1     [global health expert; data visionary]  \n",
              "2                     [technology columnist]  \n",
              "3       [activist for environmental justice]  \n",
              "4                         [author, educator]  \n",
              "...                                      ...  \n",
              "4134                       [health activist]  \n",
              "4135                                 [other]  \n",
              "4136                        [law researcher]  \n",
              "4137                                 [other]  \n",
              "4138                                 [other]  \n",
              "\n",
              "[4139 rows x 24 columns]"
            ]
          },
          "metadata": {},
          "execution_count": 572
        }
      ]
    },
    {
      "cell_type": "code",
      "metadata": {
        "id": "Drv0SmILblZ1"
      },
      "source": [
        "# temp=df[dataset['occupations']!='[other]']\n",
        "\n",
        "# final_text = \" \".join(topic for topic in temp['occupations'].astype(str))\n",
        "\n",
        "# wordcloud = WordCloud(background_color=\"white\", width=1000, height=600).generate(final_text)\n",
        "\n",
        "# plt.axis(\"off\")\n",
        "# # plt.rcParams[\"figure.figsize\"] = (25,10)\n",
        "# plt.imshow(wordcloud, interpolation='bilinear')\n",
        "# plt.show()"
      ],
      "execution_count": null,
      "outputs": []
    },
    {
      "cell_type": "code",
      "metadata": {
        "id": "j41fHCLtCpeS"
      },
      "source": [
        "temp=df[['native_lang','views']]\n",
        "temp=temp.groupby(['native_lang'],as_index=False)['views'].sum().sort_values('views',ascending=False).reset_index()\n"
      ],
      "execution_count": null,
      "outputs": []
    },
    {
      "cell_type": "code",
      "metadata": {
        "colab": {
          "base_uri": "https://localhost:8080/",
          "height": 410
        },
        "id": "UxWxZL14DACQ",
        "outputId": "490a430c-d2ee-4665-846b-edfc8fce92d7"
      },
      "source": [
        "plt.figure(figsize=(15,6))\n",
        "ax=sns.barplot(x='native_lang',y='views',data=temp)\n",
        "labels=ax.get_xticklabels()\n",
        "plt.setp(labels, rotation=90);"
      ],
      "execution_count": null,
      "outputs": [
        {
          "output_type": "display_data",
          "data": {
            "image/png": "[encoded data removed]",
            "text/plain": [
              "<Figure size 1080x432 with 1 Axes>"
            ]
          },
          "metadata": {}
        }
      ]
    },
    {
      "cell_type": "code",
      "metadata": {
        "id": "P83c9ws7sTBf",
        "colab": {
          "base_uri": "https://localhost:8080/",
          "height": 370
        },
        "outputId": "cf60fb6d-f80c-4b7d-dfaa-1499cb5c0447"
      },
      "source": [
        "df['available_lang']=df['available_lang'].apply(ast.literal_eval)"
      ],
      "execution_count": null,
      "outputs": [
        {
          "output_type": "error",
          "ename": "ValueError",
          "evalue": "ignored",
          "traceback": [
            "\u001b[0;31m---------------------------------------------------------------------------\u001b[0m",
            "\u001b[0;31mValueError\u001b[0m                                Traceback (most recent call last)",
            "\u001b[0;32m<ipython-input-581-2cce9bf07017>\u001b[0m in \u001b[0;36m<module>\u001b[0;34m()\u001b[0m\n\u001b[0;32m----> 1\u001b[0;31m \u001b[0mdf\u001b[0m\u001b[0;34m[\u001b[0m\u001b[0;34m'available_lang'\u001b[0m\u001b[0;34m]\u001b[0m\u001b[0;34m=\u001b[0m\u001b[0mdf\u001b[0m\u001b[0;34m[\u001b[0m\u001b[0;34m'available_lang'\u001b[0m\u001b[0;34m]\u001b[0m\u001b[0;34m.\u001b[0m\u001b[0mapply\u001b[0m\u001b[0;34m(\u001b[0m\u001b[0mast\u001b[0m\u001b[0;34m.\u001b[0m\u001b[0mliteral_eval\u001b[0m\u001b[0;34m)\u001b[0m\u001b[0;34m\u001b[0m\u001b[0;34m\u001b[0m\u001b[0m\n\u001b[0m",
            "\u001b[0;32m/usr/local/lib/python3.7/dist-packages/pandas/core/series.py\u001b[0m in \u001b[0;36mapply\u001b[0;34m(self, func, convert_dtype, args, **kwds)\u001b[0m\n\u001b[1;32m   4211\u001b[0m             \u001b[0;32melse\u001b[0m\u001b[0;34m:\u001b[0m\u001b[0;34m\u001b[0m\u001b[0;34m\u001b[0m\u001b[0m\n\u001b[1;32m   4212\u001b[0m                 \u001b[0mvalues\u001b[0m \u001b[0;34m=\u001b[0m \u001b[0mself\u001b[0m\u001b[0;34m.\u001b[0m\u001b[0mastype\u001b[0m\u001b[0;34m(\u001b[0m\u001b[0mobject\u001b[0m\u001b[0;34m)\u001b[0m\u001b[0;34m.\u001b[0m\u001b[0m_values\u001b[0m\u001b[0;34m\u001b[0m\u001b[0;34m\u001b[0m\u001b[0m\n\u001b[0;32m-> 4213\u001b[0;31m                 \u001b[0mmapped\u001b[0m \u001b[0;34m=\u001b[0m \u001b[0mlib\u001b[0m\u001b[0;34m.\u001b[0m\u001b[0mmap_infer\u001b[0m\u001b[0;34m(\u001b[0m\u001b[0mvalues\u001b[0m\u001b[0;34m,\u001b[0m \u001b[0mf\u001b[0m\u001b[0;34m,\u001b[0m \u001b[0mconvert\u001b[0m\u001b[0;34m=\u001b[0m\u001b[0mconvert_dtype\u001b[0m\u001b[0;34m)\u001b[0m\u001b[0;34m\u001b[0m\u001b[0;34m\u001b[0m\u001b[0m\n\u001b[0m\u001b[1;32m   4214\u001b[0m \u001b[0;34m\u001b[0m\u001b[0m\n\u001b[1;32m   4215\u001b[0m         \u001b[0;32mif\u001b[0m \u001b[0mlen\u001b[0m\u001b[0;34m(\u001b[0m\u001b[0mmapped\u001b[0m\u001b[0;34m)\u001b[0m \u001b[0;32mand\u001b[0m \u001b[0misinstance\u001b[0m\u001b[0;34m(\u001b[0m\u001b[0mmapped\u001b[0m\u001b[0;34m[\u001b[0m\u001b[0;36m0\u001b[0m\u001b[0;34m]\u001b[0m\u001b[0;34m,\u001b[0m \u001b[0mSeries\u001b[0m\u001b[0;34m)\u001b[0m\u001b[0;34m:\u001b[0m\u001b[0;34m\u001b[0m\u001b[0;34m\u001b[0m\u001b[0m\n",
            "\u001b[0;32mpandas/_libs/lib.pyx\u001b[0m in \u001b[0;36mpandas._libs.lib.map_infer\u001b[0;34m()\u001b[0m\n",
            "\u001b[0;32m/usr/lib/python3.7/ast.py\u001b[0m in \u001b[0;36mliteral_eval\u001b[0;34m(node_or_string)\u001b[0m\n\u001b[1;32m     89\u001b[0m                     \u001b[0;32mreturn\u001b[0m \u001b[0mleft\u001b[0m \u001b[0;34m-\u001b[0m \u001b[0mright\u001b[0m\u001b[0;34m\u001b[0m\u001b[0;34m\u001b[0m\u001b[0m\n\u001b[1;32m     90\u001b[0m         \u001b[0;32mreturn\u001b[0m \u001b[0m_convert_signed_num\u001b[0m\u001b[0;34m(\u001b[0m\u001b[0mnode\u001b[0m\u001b[0;34m)\u001b[0m\u001b[0;34m\u001b[0m\u001b[0;34m\u001b[0m\u001b[0m\n\u001b[0;32m---> 91\u001b[0;31m     \u001b[0;32mreturn\u001b[0m \u001b[0m_convert\u001b[0m\u001b[0;34m(\u001b[0m\u001b[0mnode_or_string\u001b[0m\u001b[0;34m)\u001b[0m\u001b[0;34m\u001b[0m\u001b[0;34m\u001b[0m\u001b[0m\n\u001b[0m\u001b[1;32m     92\u001b[0m \u001b[0;34m\u001b[0m\u001b[0m\n\u001b[1;32m     93\u001b[0m \u001b[0;34m\u001b[0m\u001b[0m\n",
            "\u001b[0;32m/usr/lib/python3.7/ast.py\u001b[0m in \u001b[0;36m_convert\u001b[0;34m(node)\u001b[0m\n\u001b[1;32m     88\u001b[0m                 \u001b[0;32melse\u001b[0m\u001b[0;34m:\u001b[0m\u001b[0;34m\u001b[0m\u001b[0;34m\u001b[0m\u001b[0m\n\u001b[1;32m     89\u001b[0m                     \u001b[0;32mreturn\u001b[0m \u001b[0mleft\u001b[0m \u001b[0;34m-\u001b[0m \u001b[0mright\u001b[0m\u001b[0;34m\u001b[0m\u001b[0;34m\u001b[0m\u001b[0m\n\u001b[0;32m---> 90\u001b[0;31m         \u001b[0;32mreturn\u001b[0m \u001b[0m_convert_signed_num\u001b[0m\u001b[0;34m(\u001b[0m\u001b[0mnode\u001b[0m\u001b[0;34m)\u001b[0m\u001b[0;34m\u001b[0m\u001b[0;34m\u001b[0m\u001b[0m\n\u001b[0m\u001b[1;32m     91\u001b[0m     \u001b[0;32mreturn\u001b[0m \u001b[0m_convert\u001b[0m\u001b[0;34m(\u001b[0m\u001b[0mnode_or_string\u001b[0m\u001b[0;34m)\u001b[0m\u001b[0;34m\u001b[0m\u001b[0;34m\u001b[0m\u001b[0m\n\u001b[1;32m     92\u001b[0m \u001b[0;34m\u001b[0m\u001b[0m\n",
            "\u001b[0;32m/usr/lib/python3.7/ast.py\u001b[0m in \u001b[0;36m_convert_signed_num\u001b[0;34m(node)\u001b[0m\n\u001b[1;32m     61\u001b[0m             \u001b[0;32melse\u001b[0m\u001b[0;34m:\u001b[0m\u001b[0;34m\u001b[0m\u001b[0;34m\u001b[0m\u001b[0m\n\u001b[1;32m     62\u001b[0m                 \u001b[0;32mreturn\u001b[0m \u001b[0;34m-\u001b[0m \u001b[0moperand\u001b[0m\u001b[0;34m\u001b[0m\u001b[0;34m\u001b[0m\u001b[0m\n\u001b[0;32m---> 63\u001b[0;31m         \u001b[0;32mreturn\u001b[0m \u001b[0m_convert_num\u001b[0m\u001b[0;34m(\u001b[0m\u001b[0mnode\u001b[0m\u001b[0;34m)\u001b[0m\u001b[0;34m\u001b[0m\u001b[0;34m\u001b[0m\u001b[0m\n\u001b[0m\u001b[1;32m     64\u001b[0m     \u001b[0;32mdef\u001b[0m \u001b[0m_convert\u001b[0m\u001b[0;34m(\u001b[0m\u001b[0mnode\u001b[0m\u001b[0;34m)\u001b[0m\u001b[0;34m:\u001b[0m\u001b[0;34m\u001b[0m\u001b[0;34m\u001b[0m\u001b[0m\n\u001b[1;32m     65\u001b[0m         \u001b[0;32mif\u001b[0m \u001b[0misinstance\u001b[0m\u001b[0;34m(\u001b[0m\u001b[0mnode\u001b[0m\u001b[0;34m,\u001b[0m \u001b[0mConstant\u001b[0m\u001b[0;34m)\u001b[0m\u001b[0;34m:\u001b[0m\u001b[0;34m\u001b[0m\u001b[0;34m\u001b[0m\u001b[0m\n",
            "\u001b[0;32m/usr/lib/python3.7/ast.py\u001b[0m in \u001b[0;36m_convert_num\u001b[0;34m(node)\u001b[0m\n\u001b[1;32m     53\u001b[0m         \u001b[0;32melif\u001b[0m \u001b[0misinstance\u001b[0m\u001b[0;34m(\u001b[0m\u001b[0mnode\u001b[0m\u001b[0;34m,\u001b[0m \u001b[0mNum\u001b[0m\u001b[0;34m)\u001b[0m\u001b[0;34m:\u001b[0m\u001b[0;34m\u001b[0m\u001b[0;34m\u001b[0m\u001b[0m\n\u001b[1;32m     54\u001b[0m             \u001b[0;32mreturn\u001b[0m \u001b[0mnode\u001b[0m\u001b[0;34m.\u001b[0m\u001b[0mn\u001b[0m\u001b[0;34m\u001b[0m\u001b[0;34m\u001b[0m\u001b[0m\n\u001b[0;32m---> 55\u001b[0;31m         \u001b[0;32mraise\u001b[0m \u001b[0mValueError\u001b[0m\u001b[0;34m(\u001b[0m\u001b[0;34m'malformed node or string: '\u001b[0m \u001b[0;34m+\u001b[0m \u001b[0mrepr\u001b[0m\u001b[0;34m(\u001b[0m\u001b[0mnode\u001b[0m\u001b[0;34m)\u001b[0m\u001b[0;34m)\u001b[0m\u001b[0;34m\u001b[0m\u001b[0;34m\u001b[0m\u001b[0m\n\u001b[0m\u001b[1;32m     56\u001b[0m     \u001b[0;32mdef\u001b[0m \u001b[0m_convert_signed_num\u001b[0m\u001b[0;34m(\u001b[0m\u001b[0mnode\u001b[0m\u001b[0;34m)\u001b[0m\u001b[0;34m:\u001b[0m\u001b[0;34m\u001b[0m\u001b[0;34m\u001b[0m\u001b[0m\n\u001b[1;32m     57\u001b[0m         \u001b[0;32mif\u001b[0m \u001b[0misinstance\u001b[0m\u001b[0;34m(\u001b[0m\u001b[0mnode\u001b[0m\u001b[0;34m,\u001b[0m \u001b[0mUnaryOp\u001b[0m\u001b[0;34m)\u001b[0m \u001b[0;32mand\u001b[0m \u001b[0misinstance\u001b[0m\u001b[0;34m(\u001b[0m\u001b[0mnode\u001b[0m\u001b[0;34m.\u001b[0m\u001b[0mop\u001b[0m\u001b[0;34m,\u001b[0m \u001b[0;34m(\u001b[0m\u001b[0mUAdd\u001b[0m\u001b[0;34m,\u001b[0m \u001b[0mUSub\u001b[0m\u001b[0;34m)\u001b[0m\u001b[0;34m)\u001b[0m\u001b[0;34m:\u001b[0m\u001b[0;34m\u001b[0m\u001b[0;34m\u001b[0m\u001b[0m\n",
            "\u001b[0;31mValueError\u001b[0m: malformed node or string: ['ar', 'bg', 'cs', 'de', 'el', 'en', 'es', 'fa', 'fr', 'fr-ca', 'gl', 'gu', 'he', 'hi', 'hr', 'hu', 'id', 'it', 'ja', 'ko', 'lt', 'lv', 'mk', 'nl', 'pl', 'pt', 'pt-br', 'ro', 'ru', 'sk', 'sl', 'sq', 'sr', 'sv', 'sw', 'th', 'tl', 'tr', 'uk', 'ur', 'vi', 'zh-cn', 'zh-tw']"
          ]
        }
      ]
    },
    {
      "cell_type": "code",
      "metadata": {
        "id": "BbFbSRR9cvqQ"
      },
      "source": [
        "temp=df[['available_lang','views']]\n",
        "temp2=temp.explode('available_lang')"
      ],
      "execution_count": null,
      "outputs": []
    },
    {
      "cell_type": "code",
      "metadata": {
        "colab": {
          "base_uri": "https://localhost:8080/",
          "height": 1000
        },
        "id": "vH8rDTpxSl4X",
        "outputId": "faa00607-d41e-4375-b973-08ede2a77964"
      },
      "source": [
        "temp3=temp2.groupby(['available_lang'],as_index=False).agg({'views':[np.mean,np.median,'count']}).sort_values([('views','mean')],ascending=False).reset_index()[:50]\n",
        "temp3.round(2)"
      ],
      "execution_count": null,
      "outputs": [
        {
          "output_type": "execute_result",
          "data": {
            "text/html": [
              "<div>\n",
              "<style scoped>\n",
              "    .dataframe tbody tr th:only-of-type {\n",
              "        vertical-align: middle;\n",
              "    }\n",
              "\n",
              "    .dataframe tbody tr th {\n",
              "        vertical-align: top;\n",
              "    }\n",
              "\n",
              "    .dataframe thead tr th {\n",
              "        text-align: left;\n",
              "    }\n",
              "</style>\n",
              "<table border=\"1\" class=\"dataframe\">\n",
              "  <thead>\n",
              "    <tr>\n",
              "      <th></th>\n",
              "      <th>index</th>\n",
              "      <th>available_lang</th>\n",
              "      <th colspan=\"3\" halign=\"left\">views</th>\n",
              "    </tr>\n",
              "    <tr>\n",
              "      <th></th>\n",
              "      <th></th>\n",
              "      <th></th>\n",
              "      <th>mean</th>\n",
              "      <th>median</th>\n",
              "      <th>count</th>\n",
              "    </tr>\n",
              "  </thead>\n",
              "  <tbody>\n",
              "    <tr>\n",
              "      <th>0</th>\n",
              "      <td>46</td>\n",
              "      <td>inh</td>\n",
              "      <td>65051954.00</td>\n",
              "      <td>65051954.0</td>\n",
              "      <td>1</td>\n",
              "    </tr>\n",
              "    <tr>\n",
              "      <th>1</th>\n",
              "      <td>63</td>\n",
              "      <td>mfe</td>\n",
              "      <td>33322423.00</td>\n",
              "      <td>33322423.0</td>\n",
              "      <td>2</td>\n",
              "    </tr>\n",
              "    <tr>\n",
              "      <th>2</th>\n",
              "      <td>59</td>\n",
              "      <td>lo</td>\n",
              "      <td>27689425.33</td>\n",
              "      <td>9316886.0</td>\n",
              "      <td>3</td>\n",
              "    </tr>\n",
              "    <tr>\n",
              "      <th>3</th>\n",
              "      <td>70</td>\n",
              "      <td>mt</td>\n",
              "      <td>16455709.00</td>\n",
              "      <td>16455709.0</td>\n",
              "      <td>2</td>\n",
              "    </tr>\n",
              "    <tr>\n",
              "      <th>4</th>\n",
              "      <td>103</td>\n",
              "      <td>tlh</td>\n",
              "      <td>12954031.00</td>\n",
              "      <td>12954031.0</td>\n",
              "      <td>1</td>\n",
              "    </tr>\n",
              "    <tr>\n",
              "      <th>5</th>\n",
              "      <td>96</td>\n",
              "      <td>szl</td>\n",
              "      <td>9611982.33</td>\n",
              "      <td>8699436.0</td>\n",
              "      <td>3</td>\n",
              "    </tr>\n",
              "    <tr>\n",
              "      <th>6</th>\n",
              "      <td>16</td>\n",
              "      <td>cnh</td>\n",
              "      <td>8699436.00</td>\n",
              "      <td>8699436.0</td>\n",
              "      <td>1</td>\n",
              "    </tr>\n",
              "    <tr>\n",
              "      <th>7</th>\n",
              "      <td>53</td>\n",
              "      <td>kn</td>\n",
              "      <td>8638500.41</td>\n",
              "      <td>2664069.0</td>\n",
              "      <td>17</td>\n",
              "    </tr>\n",
              "    <tr>\n",
              "      <th>8</th>\n",
              "      <td>109</td>\n",
              "      <td>uz</td>\n",
              "      <td>7676978.43</td>\n",
              "      <td>3029410.0</td>\n",
              "      <td>83</td>\n",
              "    </tr>\n",
              "    <tr>\n",
              "      <th>9</th>\n",
              "      <td>75</td>\n",
              "      <td>nn</td>\n",
              "      <td>7333974.83</td>\n",
              "      <td>2403900.5</td>\n",
              "      <td>12</td>\n",
              "    </tr>\n",
              "    <tr>\n",
              "      <th>10</th>\n",
              "      <td>47</td>\n",
              "      <td>is</td>\n",
              "      <td>6220770.24</td>\n",
              "      <td>3221499.0</td>\n",
              "      <td>17</td>\n",
              "    </tr>\n",
              "    <tr>\n",
              "      <th>11</th>\n",
              "      <td>73</td>\n",
              "      <td>ne</td>\n",
              "      <td>6215929.61</td>\n",
              "      <td>2808210.0</td>\n",
              "      <td>44</td>\n",
              "    </tr>\n",
              "    <tr>\n",
              "      <th>12</th>\n",
              "      <td>8</td>\n",
              "      <td>be</td>\n",
              "      <td>6201771.43</td>\n",
              "      <td>2691198.0</td>\n",
              "      <td>122</td>\n",
              "    </tr>\n",
              "    <tr>\n",
              "      <th>13</th>\n",
              "      <td>29</td>\n",
              "      <td>fil</td>\n",
              "      <td>6076746.12</td>\n",
              "      <td>2039084.0</td>\n",
              "      <td>50</td>\n",
              "    </tr>\n",
              "    <tr>\n",
              "      <th>14</th>\n",
              "      <td>105</td>\n",
              "      <td>tt</td>\n",
              "      <td>5987951.50</td>\n",
              "      <td>3083752.5</td>\n",
              "      <td>6</td>\n",
              "    </tr>\n",
              "    <tr>\n",
              "      <th>15</th>\n",
              "      <td>67</td>\n",
              "      <td>mn</td>\n",
              "      <td>5874223.18</td>\n",
              "      <td>3029410.0</td>\n",
              "      <td>273</td>\n",
              "    </tr>\n",
              "    <tr>\n",
              "      <th>16</th>\n",
              "      <td>1</td>\n",
              "      <td>af</td>\n",
              "      <td>5802283.61</td>\n",
              "      <td>2194901.0</td>\n",
              "      <td>31</td>\n",
              "    </tr>\n",
              "    <tr>\n",
              "      <th>17</th>\n",
              "      <td>61</td>\n",
              "      <td>ltg</td>\n",
              "      <td>5700570.67</td>\n",
              "      <td>3666561.0</td>\n",
              "      <td>3</td>\n",
              "    </tr>\n",
              "    <tr>\n",
              "      <th>18</th>\n",
              "      <td>7</td>\n",
              "      <td>az</td>\n",
              "      <td>5531940.85</td>\n",
              "      <td>2632426.5</td>\n",
              "      <td>118</td>\n",
              "    </tr>\n",
              "    <tr>\n",
              "      <th>19</th>\n",
              "      <td>25</td>\n",
              "      <td>et</td>\n",
              "      <td>5505455.29</td>\n",
              "      <td>2603054.0</td>\n",
              "      <td>199</td>\n",
              "    </tr>\n",
              "    <tr>\n",
              "      <th>20</th>\n",
              "      <td>101</td>\n",
              "      <td>tk</td>\n",
              "      <td>5371332.00</td>\n",
              "      <td>5371332.0</td>\n",
              "      <td>2</td>\n",
              "    </tr>\n",
              "    <tr>\n",
              "      <th>21</th>\n",
              "      <td>50</td>\n",
              "      <td>ka</td>\n",
              "      <td>5179614.56</td>\n",
              "      <td>2724137.0</td>\n",
              "      <td>232</td>\n",
              "    </tr>\n",
              "    <tr>\n",
              "      <th>22</th>\n",
              "      <td>68</td>\n",
              "      <td>mr</td>\n",
              "      <td>5005209.36</td>\n",
              "      <td>2182056.5</td>\n",
              "      <td>240</td>\n",
              "    </tr>\n",
              "    <tr>\n",
              "      <th>23</th>\n",
              "      <td>106</td>\n",
              "      <td>ug</td>\n",
              "      <td>4995892.33</td>\n",
              "      <td>3542566.0</td>\n",
              "      <td>24</td>\n",
              "    </tr>\n",
              "    <tr>\n",
              "      <th>24</th>\n",
              "      <td>12</td>\n",
              "      <td>bo</td>\n",
              "      <td>4983781.43</td>\n",
              "      <td>1609949.5</td>\n",
              "      <td>14</td>\n",
              "    </tr>\n",
              "    <tr>\n",
              "      <th>25</th>\n",
              "      <td>86</td>\n",
              "      <td>sh</td>\n",
              "      <td>4931071.13</td>\n",
              "      <td>1615139.0</td>\n",
              "      <td>15</td>\n",
              "    </tr>\n",
              "    <tr>\n",
              "      <th>26</th>\n",
              "      <td>11</td>\n",
              "      <td>bn</td>\n",
              "      <td>4926310.54</td>\n",
              "      <td>2051157.0</td>\n",
              "      <td>121</td>\n",
              "    </tr>\n",
              "    <tr>\n",
              "      <th>27</th>\n",
              "      <td>28</td>\n",
              "      <td>fi</td>\n",
              "      <td>4876610.77</td>\n",
              "      <td>2367529.0</td>\n",
              "      <td>374</td>\n",
              "    </tr>\n",
              "    <tr>\n",
              "      <th>28</th>\n",
              "      <td>51</td>\n",
              "      <td>kk</td>\n",
              "      <td>4623350.55</td>\n",
              "      <td>2330332.0</td>\n",
              "      <td>127</td>\n",
              "    </tr>\n",
              "    <tr>\n",
              "      <th>29</th>\n",
              "      <td>99</td>\n",
              "      <td>tg</td>\n",
              "      <td>4551660.91</td>\n",
              "      <td>4141345.0</td>\n",
              "      <td>11</td>\n",
              "    </tr>\n",
              "    <tr>\n",
              "      <th>30</th>\n",
              "      <td>52</td>\n",
              "      <td>km</td>\n",
              "      <td>4544995.85</td>\n",
              "      <td>4326521.0</td>\n",
              "      <td>13</td>\n",
              "    </tr>\n",
              "    <tr>\n",
              "      <th>31</th>\n",
              "      <td>69</td>\n",
              "      <td>ms</td>\n",
              "      <td>4502265.32</td>\n",
              "      <td>2614196.0</td>\n",
              "      <td>138</td>\n",
              "    </tr>\n",
              "    <tr>\n",
              "      <th>32</th>\n",
              "      <td>62</td>\n",
              "      <td>lv</td>\n",
              "      <td>4489618.27</td>\n",
              "      <td>1892508.0</td>\n",
              "      <td>587</td>\n",
              "    </tr>\n",
              "    <tr>\n",
              "      <th>33</th>\n",
              "      <td>26</td>\n",
              "      <td>eu</td>\n",
              "      <td>4474646.12</td>\n",
              "      <td>2195150.5</td>\n",
              "      <td>96</td>\n",
              "    </tr>\n",
              "    <tr>\n",
              "      <th>34</th>\n",
              "      <td>65</td>\n",
              "      <td>mk</td>\n",
              "      <td>4462100.25</td>\n",
              "      <td>2013963.5</td>\n",
              "      <td>396</td>\n",
              "    </tr>\n",
              "    <tr>\n",
              "      <th>35</th>\n",
              "      <td>23</td>\n",
              "      <td>eo</td>\n",
              "      <td>4423648.87</td>\n",
              "      <td>2221087.0</td>\n",
              "      <td>119</td>\n",
              "    </tr>\n",
              "    <tr>\n",
              "      <th>36</th>\n",
              "      <td>97</td>\n",
              "      <td>ta</td>\n",
              "      <td>4406718.65</td>\n",
              "      <td>1738412.0</td>\n",
              "      <td>133</td>\n",
              "    </tr>\n",
              "    <tr>\n",
              "      <th>37</th>\n",
              "      <td>89</td>\n",
              "      <td>sl</td>\n",
              "      <td>4348732.84</td>\n",
              "      <td>1994673.0</td>\n",
              "      <td>469</td>\n",
              "    </tr>\n",
              "    <tr>\n",
              "      <th>38</th>\n",
              "      <td>72</td>\n",
              "      <td>nb</td>\n",
              "      <td>4248324.39</td>\n",
              "      <td>1933784.0</td>\n",
              "      <td>293</td>\n",
              "    </tr>\n",
              "    <tr>\n",
              "      <th>39</th>\n",
              "      <td>93</td>\n",
              "      <td>srp</td>\n",
              "      <td>4199778.12</td>\n",
              "      <td>2314973.0</td>\n",
              "      <td>33</td>\n",
              "    </tr>\n",
              "    <tr>\n",
              "      <th>40</th>\n",
              "      <td>20</td>\n",
              "      <td>dz</td>\n",
              "      <td>4190895.00</td>\n",
              "      <td>4190895.0</td>\n",
              "      <td>1</td>\n",
              "    </tr>\n",
              "    <tr>\n",
              "      <th>41</th>\n",
              "      <td>18</td>\n",
              "      <td>da</td>\n",
              "      <td>4117176.31</td>\n",
              "      <td>1853389.0</td>\n",
              "      <td>643</td>\n",
              "    </tr>\n",
              "    <tr>\n",
              "      <th>42</th>\n",
              "      <td>64</td>\n",
              "      <td>mg</td>\n",
              "      <td>4110572.00</td>\n",
              "      <td>1339769.0</td>\n",
              "      <td>6</td>\n",
              "    </tr>\n",
              "    <tr>\n",
              "      <th>43</th>\n",
              "      <td>84</td>\n",
              "      <td>ry</td>\n",
              "      <td>4109646.00</td>\n",
              "      <td>4109646.0</td>\n",
              "      <td>1</td>\n",
              "    </tr>\n",
              "    <tr>\n",
              "      <th>44</th>\n",
              "      <td>98</td>\n",
              "      <td>te</td>\n",
              "      <td>4081673.68</td>\n",
              "      <td>1829036.0</td>\n",
              "      <td>71</td>\n",
              "    </tr>\n",
              "    <tr>\n",
              "      <th>45</th>\n",
              "      <td>34</td>\n",
              "      <td>gl</td>\n",
              "      <td>4057951.65</td>\n",
              "      <td>1888957.5</td>\n",
              "      <td>328</td>\n",
              "    </tr>\n",
              "    <tr>\n",
              "      <th>46</th>\n",
              "      <td>85</td>\n",
              "      <td>sc</td>\n",
              "      <td>4033320.00</td>\n",
              "      <td>1726387.0</td>\n",
              "      <td>3</td>\n",
              "    </tr>\n",
              "    <tr>\n",
              "      <th>47</th>\n",
              "      <td>45</td>\n",
              "      <td>ig</td>\n",
              "      <td>4023958.67</td>\n",
              "      <td>2311389.0</td>\n",
              "      <td>3</td>\n",
              "    </tr>\n",
              "    <tr>\n",
              "      <th>48</th>\n",
              "      <td>2</td>\n",
              "      <td>am</td>\n",
              "      <td>3993141.64</td>\n",
              "      <td>2699052.0</td>\n",
              "      <td>14</td>\n",
              "    </tr>\n",
              "    <tr>\n",
              "      <th>49</th>\n",
              "      <td>108</td>\n",
              "      <td>ur</td>\n",
              "      <td>3960802.34</td>\n",
              "      <td>1797841.0</td>\n",
              "      <td>191</td>\n",
              "    </tr>\n",
              "  </tbody>\n",
              "</table>\n",
              "</div>"
            ],
            "text/plain": [
              "   index available_lang        views                  \n",
              "                                mean      median count\n",
              "0     46            inh  65051954.00  65051954.0     1\n",
              "1     63            mfe  33322423.00  33322423.0     2\n",
              "2     59             lo  27689425.33   9316886.0     3\n",
              "3     70             mt  16455709.00  16455709.0     2\n",
              "4    103            tlh  12954031.00  12954031.0     1\n",
              "5     96            szl   9611982.33   8699436.0     3\n",
              "6     16            cnh   8699436.00   8699436.0     1\n",
              "7     53             kn   8638500.41   2664069.0    17\n",
              "8    109             uz   7676978.43   3029410.0    83\n",
              "9     75             nn   7333974.83   2403900.5    12\n",
              "10    47             is   6220770.24   3221499.0    17\n",
              "11    73             ne   6215929.61   2808210.0    44\n",
              "12     8             be   6201771.43   2691198.0   122\n",
              "13    29            fil   6076746.12   2039084.0    50\n",
              "14   105             tt   5987951.50   3083752.5     6\n",
              "15    67             mn   5874223.18   3029410.0   273\n",
              "16     1             af   5802283.61   2194901.0    31\n",
              "17    61            ltg   5700570.67   3666561.0     3\n",
              "18     7             az   5531940.85   2632426.5   118\n",
              "19    25             et   5505455.29   2603054.0   199\n",
              "20   101             tk   5371332.00   5371332.0     2\n",
              "21    50             ka   5179614.56   2724137.0   232\n",
              "22    68             mr   5005209.36   2182056.5   240\n",
              "23   106             ug   4995892.33   3542566.0    24\n",
              "24    12             bo   4983781.43   1609949.5    14\n",
              "25    86             sh   4931071.13   1615139.0    15\n",
              "26    11             bn   4926310.54   2051157.0   121\n",
              "27    28             fi   4876610.77   2367529.0   374\n",
              "28    51             kk   4623350.55   2330332.0   127\n",
              "29    99             tg   4551660.91   4141345.0    11\n",
              "30    52             km   4544995.85   4326521.0    13\n",
              "31    69             ms   4502265.32   2614196.0   138\n",
              "32    62             lv   4489618.27   1892508.0   587\n",
              "33    26             eu   4474646.12   2195150.5    96\n",
              "34    65             mk   4462100.25   2013963.5   396\n",
              "35    23             eo   4423648.87   2221087.0   119\n",
              "36    97             ta   4406718.65   1738412.0   133\n",
              "37    89             sl   4348732.84   1994673.0   469\n",
              "38    72             nb   4248324.39   1933784.0   293\n",
              "39    93            srp   4199778.12   2314973.0    33\n",
              "40    20             dz   4190895.00   4190895.0     1\n",
              "41    18             da   4117176.31   1853389.0   643\n",
              "42    64             mg   4110572.00   1339769.0     6\n",
              "43    84             ry   4109646.00   4109646.0     1\n",
              "44    98             te   4081673.68   1829036.0    71\n",
              "45    34             gl   4057951.65   1888957.5   328\n",
              "46    85             sc   4033320.00   1726387.0     3\n",
              "47    45             ig   4023958.67   2311389.0     3\n",
              "48     2             am   3993141.64   2699052.0    14\n",
              "49   108             ur   3960802.34   1797841.0   191"
            ]
          },
          "metadata": {},
          "execution_count": 591
        }
      ]
    },
    {
      "cell_type": "code",
      "metadata": {
        "id": "c6Iacsly4Ese"
      },
      "source": [
        ""
      ],
      "execution_count": null,
      "outputs": []
    },
    {
      "cell_type": "code",
      "metadata": {
        "colab": {
          "base_uri": "https://localhost:8080/",
          "height": 410
        },
        "id": "zNE76EowbnBn",
        "outputId": "72b5fe32-8e7c-4d19-f552-4d8fa41f3c0b"
      },
      "source": [
        "plt.figure(figsize=(15,6))\n",
        "ax=sns.barplot(x='available_lang',y='views',data=temp)\n",
        "labels=ax.get_xticklabels()\n",
        "plt.setp(labels, rotation=90);"
      ],
      "execution_count": null,
      "outputs": [
        {
          "output_type": "display_data",
          "data": {
            "image/png": "[encoded data removed]",
            "text/plain": [
              "<Figure size 1080x432 with 1 Axes>"
            ]
          },
          "metadata": {}
        }
      ]
    },
    {
      "cell_type": "code",
      "metadata": {
        "colab": {
          "base_uri": "https://localhost:8080/",
          "height": 578
        },
        "id": "the6KTu-3Lbs",
        "outputId": "144cd720-fd2c-46bd-c007-72972c26f63e"
      },
      "source": [
        "\n",
        "df.head(5)"
      ],
      "execution_count": null,
      "outputs": [
        {
          "output_type": "execute_result",
          "data": {
            "text/html": [
              "<div>\n",
              "<style scoped>\n",
              "    .dataframe tbody tr th:only-of-type {\n",
              "        vertical-align: middle;\n",
              "    }\n",
              "\n",
              "    .dataframe tbody tr th {\n",
              "        vertical-align: top;\n",
              "    }\n",
              "\n",
              "    .dataframe thead th {\n",
              "        text-align: right;\n",
              "    }\n",
              "</style>\n",
              "<table border=\"1\" class=\"dataframe\">\n",
              "  <thead>\n",
              "    <tr style=\"text-align: right;\">\n",
              "      <th></th>\n",
              "      <th>talk_id</th>\n",
              "      <th>title</th>\n",
              "      <th>speaker_1</th>\n",
              "      <th>about_speakers</th>\n",
              "      <th>views</th>\n",
              "      <th>recorded_date</th>\n",
              "      <th>published_date</th>\n",
              "      <th>event</th>\n",
              "      <th>native_lang</th>\n",
              "      <th>available_lang</th>\n",
              "      <th>comments</th>\n",
              "      <th>duration</th>\n",
              "      <th>topics</th>\n",
              "      <th>related_talks</th>\n",
              "      <th>url</th>\n",
              "      <th>description</th>\n",
              "      <th>transcript</th>\n",
              "      <th>month</th>\n",
              "      <th>year</th>\n",
              "      <th>day</th>\n",
              "      <th>time_after_published</th>\n",
              "      <th>days_to_publish</th>\n",
              "      <th>all_speakers</th>\n",
              "      <th>occupations</th>\n",
              "    </tr>\n",
              "  </thead>\n",
              "  <tbody>\n",
              "    <tr>\n",
              "      <th>0</th>\n",
              "      <td>1</td>\n",
              "      <td>Averting the climate crisis</td>\n",
              "      <td>Al Gore</td>\n",
              "      <td>{0: 'Nobel Laureate Al Gore focused the world’...</td>\n",
              "      <td>3523392</td>\n",
              "      <td>2006-02-25</td>\n",
              "      <td>2006-06-27</td>\n",
              "      <td>TED2006</td>\n",
              "      <td>en</td>\n",
              "      <td>[ar, bg, cs, de, el, en, es, fa, fr, fr-ca, gl...</td>\n",
              "      <td>272.0</td>\n",
              "      <td>977</td>\n",
              "      <td>['alternative energy', 'cars', 'climate change...</td>\n",
              "      <td>{243: 'New thinking on the climate crisis', 54...</td>\n",
              "      <td>https://www.ted.com/talks/al_gore_averting_the...</td>\n",
              "      <td>With the same humor and humanity he exuded in ...</td>\n",
              "      <td>Thank you so much, Chris. And it's truly a gre...</td>\n",
              "      <td>Jun</td>\n",
              "      <td>2006</td>\n",
              "      <td>27</td>\n",
              "      <td>5056</td>\n",
              "      <td>122.0</td>\n",
              "      <td>Al Gore</td>\n",
              "      <td>[climate advocate]</td>\n",
              "    </tr>\n",
              "    <tr>\n",
              "      <th>1</th>\n",
              "      <td>92</td>\n",
              "      <td>The best stats you've ever seen</td>\n",
              "      <td>Hans Rosling</td>\n",
              "      <td>{0: 'In Hans Rosling’s hands, data sings. Glob...</td>\n",
              "      <td>14501685</td>\n",
              "      <td>2006-02-22</td>\n",
              "      <td>2006-06-27</td>\n",
              "      <td>TED2006</td>\n",
              "      <td>en</td>\n",
              "      <td>[ar, az, bg, bn, bs, cs, da, de, el, en, es, e...</td>\n",
              "      <td>628.0</td>\n",
              "      <td>1190</td>\n",
              "      <td>['Africa', 'Asia', 'Google', 'demo', 'economic...</td>\n",
              "      <td>{2056: \"Own your body's data\", 2296: 'A visual...</td>\n",
              "      <td>https://www.ted.com/talks/hans_rosling_the_bes...</td>\n",
              "      <td>You've never seen data presented like this. Wi...</td>\n",
              "      <td>About 10 years ago, I took on the task to teac...</td>\n",
              "      <td>Jun</td>\n",
              "      <td>2006</td>\n",
              "      <td>27</td>\n",
              "      <td>5056</td>\n",
              "      <td>125.0</td>\n",
              "      <td>Hans Rosling</td>\n",
              "      <td>[global health expert; data visionary]</td>\n",
              "    </tr>\n",
              "    <tr>\n",
              "      <th>2</th>\n",
              "      <td>7</td>\n",
              "      <td>Simplicity sells</td>\n",
              "      <td>David Pogue</td>\n",
              "      <td>{0: 'David Pogue is the personal technology co...</td>\n",
              "      <td>1920832</td>\n",
              "      <td>2006-02-24</td>\n",
              "      <td>2006-06-27</td>\n",
              "      <td>TED2006</td>\n",
              "      <td>en</td>\n",
              "      <td>[ar, bg, de, el, en, es, fa, fr, he, hr, hu, i...</td>\n",
              "      <td>124.0</td>\n",
              "      <td>1286</td>\n",
              "      <td>['computers', 'entertainment', 'interface desi...</td>\n",
              "      <td>{1725: '10 top time-saving tech tips', 2274: '...</td>\n",
              "      <td>https://www.ted.com/talks/david_pogue_simplici...</td>\n",
              "      <td>New York Times columnist David Pogue takes aim...</td>\n",
              "      <td>(Music: \"The Sound of Silence,\" Simon &amp; Garfun...</td>\n",
              "      <td>Jun</td>\n",
              "      <td>2006</td>\n",
              "      <td>27</td>\n",
              "      <td>5056</td>\n",
              "      <td>123.0</td>\n",
              "      <td>David Pogue</td>\n",
              "      <td>[technology columnist]</td>\n",
              "    </tr>\n",
              "    <tr>\n",
              "      <th>3</th>\n",
              "      <td>53</td>\n",
              "      <td>Greening the ghetto</td>\n",
              "      <td>Majora Carter</td>\n",
              "      <td>{0: 'Majora Carter redefined the field of envi...</td>\n",
              "      <td>2664069</td>\n",
              "      <td>2006-02-26</td>\n",
              "      <td>2006-06-27</td>\n",
              "      <td>TED2006</td>\n",
              "      <td>en</td>\n",
              "      <td>[ar, bg, bn, ca, cs, de, en, es, fa, fi, fr, h...</td>\n",
              "      <td>219.0</td>\n",
              "      <td>1116</td>\n",
              "      <td>['MacArthur grant', 'activism', 'business', 'c...</td>\n",
              "      <td>{1041: '3 stories of local eco-entrepreneurshi...</td>\n",
              "      <td>https://www.ted.com/talks/majora_carter_greeni...</td>\n",
              "      <td>In an emotionally charged talk, MacArthur-winn...</td>\n",
              "      <td>If you're here today — and I'm very happy that...</td>\n",
              "      <td>Jun</td>\n",
              "      <td>2006</td>\n",
              "      <td>27</td>\n",
              "      <td>5056</td>\n",
              "      <td>121.0</td>\n",
              "      <td>Majora Carter</td>\n",
              "      <td>[activist for environmental justice]</td>\n",
              "    </tr>\n",
              "    <tr>\n",
              "      <th>4</th>\n",
              "      <td>66</td>\n",
              "      <td>Do schools kill creativity?</td>\n",
              "      <td>Sir Ken Robinson</td>\n",
              "      <td>{0: \"Creativity expert Sir Ken Robinson challe...</td>\n",
              "      <td>65051954</td>\n",
              "      <td>2006-02-25</td>\n",
              "      <td>2006-06-27</td>\n",
              "      <td>TED2006</td>\n",
              "      <td>en</td>\n",
              "      <td>[af, ar, az, be, bg, bn, ca, cs, da, de, el, e...</td>\n",
              "      <td>4931.0</td>\n",
              "      <td>1164</td>\n",
              "      <td>['children', 'creativity', 'culture', 'dance',...</td>\n",
              "      <td>{865: 'Bring on the learning revolution!', 173...</td>\n",
              "      <td>https://www.ted.com/talks/sir_ken_robinson_do_...</td>\n",
              "      <td>Sir Ken Robinson makes an entertaining and pro...</td>\n",
              "      <td>Good morning. How are you? (Audience) Good. It...</td>\n",
              "      <td>Jun</td>\n",
              "      <td>2006</td>\n",
              "      <td>27</td>\n",
              "      <td>5056</td>\n",
              "      <td>122.0</td>\n",
              "      <td>Sir Ken Robinson</td>\n",
              "      <td>[author, educator]</td>\n",
              "    </tr>\n",
              "  </tbody>\n",
              "</table>\n",
              "</div>"
            ],
            "text/plain": [
              "   talk_id                            title         speaker_1  \\\n",
              "0        1      Averting the climate crisis           Al Gore   \n",
              "1       92  The best stats you've ever seen      Hans Rosling   \n",
              "2        7                 Simplicity sells       David Pogue   \n",
              "3       53              Greening the ghetto     Majora Carter   \n",
              "4       66      Do schools kill creativity?  Sir Ken Robinson   \n",
              "\n",
              "                                      about_speakers     views recorded_date  \\\n",
              "0  {0: 'Nobel Laureate Al Gore focused the world’...   3523392    2006-02-25   \n",
              "1  {0: 'In Hans Rosling’s hands, data sings. Glob...  14501685    2006-02-22   \n",
              "2  {0: 'David Pogue is the personal technology co...   1920832    2006-02-24   \n",
              "3  {0: 'Majora Carter redefined the field of envi...   2664069    2006-02-26   \n",
              "4  {0: \"Creativity expert Sir Ken Robinson challe...  65051954    2006-02-25   \n",
              "\n",
              "  published_date    event native_lang  \\\n",
              "0     2006-06-27  TED2006          en   \n",
              "1     2006-06-27  TED2006          en   \n",
              "2     2006-06-27  TED2006          en   \n",
              "3     2006-06-27  TED2006          en   \n",
              "4     2006-06-27  TED2006          en   \n",
              "\n",
              "                                      available_lang  comments  duration  \\\n",
              "0  [ar, bg, cs, de, el, en, es, fa, fr, fr-ca, gl...     272.0       977   \n",
              "1  [ar, az, bg, bn, bs, cs, da, de, el, en, es, e...     628.0      1190   \n",
              "2  [ar, bg, de, el, en, es, fa, fr, he, hr, hu, i...     124.0      1286   \n",
              "3  [ar, bg, bn, ca, cs, de, en, es, fa, fi, fr, h...     219.0      1116   \n",
              "4  [af, ar, az, be, bg, bn, ca, cs, da, de, el, e...    4931.0      1164   \n",
              "\n",
              "                                              topics  \\\n",
              "0  ['alternative energy', 'cars', 'climate change...   \n",
              "1  ['Africa', 'Asia', 'Google', 'demo', 'economic...   \n",
              "2  ['computers', 'entertainment', 'interface desi...   \n",
              "3  ['MacArthur grant', 'activism', 'business', 'c...   \n",
              "4  ['children', 'creativity', 'culture', 'dance',...   \n",
              "\n",
              "                                       related_talks  \\\n",
              "0  {243: 'New thinking on the climate crisis', 54...   \n",
              "1  {2056: \"Own your body's data\", 2296: 'A visual...   \n",
              "2  {1725: '10 top time-saving tech tips', 2274: '...   \n",
              "3  {1041: '3 stories of local eco-entrepreneurshi...   \n",
              "4  {865: 'Bring on the learning revolution!', 173...   \n",
              "\n",
              "                                                 url  \\\n",
              "0  https://www.ted.com/talks/al_gore_averting_the...   \n",
              "1  https://www.ted.com/talks/hans_rosling_the_bes...   \n",
              "2  https://www.ted.com/talks/david_pogue_simplici...   \n",
              "3  https://www.ted.com/talks/majora_carter_greeni...   \n",
              "4  https://www.ted.com/talks/sir_ken_robinson_do_...   \n",
              "\n",
              "                                         description  \\\n",
              "0  With the same humor and humanity he exuded in ...   \n",
              "1  You've never seen data presented like this. Wi...   \n",
              "2  New York Times columnist David Pogue takes aim...   \n",
              "3  In an emotionally charged talk, MacArthur-winn...   \n",
              "4  Sir Ken Robinson makes an entertaining and pro...   \n",
              "\n",
              "                                          transcript month  year  day  \\\n",
              "0  Thank you so much, Chris. And it's truly a gre...   Jun  2006   27   \n",
              "1  About 10 years ago, I took on the task to teac...   Jun  2006   27   \n",
              "2  (Music: \"The Sound of Silence,\" Simon & Garfun...   Jun  2006   27   \n",
              "3  If you're here today — and I'm very happy that...   Jun  2006   27   \n",
              "4  Good morning. How are you? (Audience) Good. It...   Jun  2006   27   \n",
              "\n",
              "   time_after_published  days_to_publish      all_speakers  \\\n",
              "0                  5056            122.0           Al Gore   \n",
              "1                  5056            125.0      Hans Rosling   \n",
              "2                  5056            123.0       David Pogue   \n",
              "3                  5056            121.0     Majora Carter   \n",
              "4                  5056            122.0  Sir Ken Robinson   \n",
              "\n",
              "                              occupations  \n",
              "0                      [climate advocate]  \n",
              "1  [global health expert; data visionary]  \n",
              "2                  [technology columnist]  \n",
              "3    [activist for environmental justice]  \n",
              "4                      [author, educator]  "
            ]
          },
          "metadata": {},
          "execution_count": 496
        }
      ]
    },
    {
      "cell_type": "code",
      "metadata": {
        "colab": {
          "base_uri": "https://localhost:8080/",
          "height": 415
        },
        "id": "HRQfVpjXeq8i",
        "outputId": "4c99e07f-834b-4304-ad33-3a8bd138c09a"
      },
      "source": [
        "plt.figure(figsize=(5,5))\n",
        "\n",
        "sns.distplot(df['views'])"
      ],
      "execution_count": null,
      "outputs": [
        {
          "output_type": "stream",
          "name": "stderr",
          "text": [
            "/usr/local/lib/python3.7/dist-packages/seaborn/distributions.py:2557: FutureWarning: `distplot` is a deprecated function and will be removed in a future version. Please adapt your code to use either `displot` (a figure-level function with similar flexibility) or `histplot` (an axes-level function for histograms).\n",
            "  warnings.warn(msg, FutureWarning)\n"
          ]
        },
        {
          "output_type": "execute_result",
          "data": {
            "text/plain": [
              "<matplotlib.axes._subplots.AxesSubplot at 0x7efea7d58e90>"
            ]
          },
          "metadata": {},
          "execution_count": 497
        },
        {
          "output_type": "display_data",
          "data": {
            "image/png": "[encoded data removed]",
            "text/plain": [
              "<Figure size 360x360 with 1 Axes>"
            ]
          },
          "metadata": {}
        }
      ]
    },
    {
      "cell_type": "code",
      "metadata": {
        "colab": {
          "base_uri": "https://localhost:8080/",
          "height": 403
        },
        "id": "0GvUDgKc9bBf",
        "outputId": "19e4759c-47ab-4ea8-ad83-ed66b78cbd29"
      },
      "source": [
        "plt.figure(figsize=(5,5))\n",
        "\n",
        "sns.distplot(df['comments'])"
      ],
      "execution_count": null,
      "outputs": [
        {
          "output_type": "stream",
          "name": "stderr",
          "text": [
            "/usr/local/lib/python3.7/dist-packages/seaborn/distributions.py:2557: FutureWarning: `distplot` is a deprecated function and will be removed in a future version. Please adapt your code to use either `displot` (a figure-level function with similar flexibility) or `histplot` (an axes-level function for histograms).\n",
            "  warnings.warn(msg, FutureWarning)\n"
          ]
        },
        {
          "output_type": "execute_result",
          "data": {
            "text/plain": [
              "<matplotlib.axes._subplots.AxesSubplot at 0x7efea7837a10>"
            ]
          },
          "metadata": {},
          "execution_count": 498
        },
        {
          "output_type": "display_data",
          "data": {
            "image/png": "[encoded data removed]",
            "text/plain": [
              "<Figure size 360x360 with 1 Axes>"
            ]
          },
          "metadata": {}
        }
      ]
    },
    {
      "cell_type": "code",
      "metadata": {
        "colab": {
          "base_uri": "https://localhost:8080/",
          "height": 403
        },
        "id": "DoXYd5pA-SCU",
        "outputId": "c679e015-1ee3-4ad4-c08f-ba5f1db73dac"
      },
      "source": [
        "plt.figure(figsize=(5,5))\n",
        "\n",
        "sns.boxplot('comments',data=df)"
      ],
      "execution_count": null,
      "outputs": [
        {
          "output_type": "stream",
          "name": "stderr",
          "text": [
            "/usr/local/lib/python3.7/dist-packages/seaborn/_decorators.py:43: FutureWarning: Pass the following variable as a keyword arg: x. From version 0.12, the only valid positional argument will be `data`, and passing other arguments without an explicit keyword will result in an error or misinterpretation.\n",
            "  FutureWarning\n"
          ]
        },
        {
          "output_type": "execute_result",
          "data": {
            "text/plain": [
              "<matplotlib.axes._subplots.AxesSubplot at 0x7efea7749b10>"
            ]
          },
          "metadata": {},
          "execution_count": 499
        },
        {
          "output_type": "display_data",
          "data": {
            "image/png": "[encoded data removed]",
            "text/plain": [
              "<Figure size 360x360 with 1 Axes>"
            ]
          },
          "metadata": {}
        }
      ]
    },
    {
      "cell_type": "code",
      "metadata": {
        "id": "gL3Qgw2y-k9m"
      },
      "source": [
        "def count_outlier(x):\n",
        "  Q1 = df[x].quantile(0.25)\n",
        "  Q2 = df[x].quantile(0.50)\n",
        "  Q3 = df[x].quantile(0.75)\n",
        "  IQR = Q3 - Q1\n",
        "  total_outlier_num = ((df[x] < (Q1 - 1.5 * IQR)) | (df[x] > (Q3 + 1.5 * IQR))).sum()\n",
        "  return total_outlier_num"
      ],
      "execution_count": null,
      "outputs": []
    },
    {
      "cell_type": "code",
      "metadata": {
        "colab": {
          "base_uri": "https://localhost:8080/"
        },
        "id": "2QmnXrR-AKx2",
        "outputId": "0fde72fa-96cd-4cd3-efaa-e60d75d8c00a"
      },
      "source": [
        "count_outlier('comments')"
      ],
      "execution_count": null,
      "outputs": [
        {
          "output_type": "execute_result",
          "data": {
            "text/plain": [
              "266"
            ]
          },
          "metadata": {},
          "execution_count": 501
        }
      ]
    },
    {
      "cell_type": "code",
      "metadata": {
        "colab": {
          "base_uri": "https://localhost:8080/",
          "height": 403
        },
        "id": "XS8Ehd3wAn6P",
        "outputId": "a9aa97a7-ccb9-4c3f-d870-f460ab7ff5a9"
      },
      "source": [
        "plt.figure(figsize=(5,5))\n",
        "\n",
        "sns.distplot(df['days_to_publish'])"
      ],
      "execution_count": null,
      "outputs": [
        {
          "output_type": "stream",
          "name": "stderr",
          "text": [
            "/usr/local/lib/python3.7/dist-packages/seaborn/distributions.py:2557: FutureWarning: `distplot` is a deprecated function and will be removed in a future version. Please adapt your code to use either `displot` (a figure-level function with similar flexibility) or `histplot` (an axes-level function for histograms).\n",
            "  warnings.warn(msg, FutureWarning)\n"
          ]
        },
        {
          "output_type": "execute_result",
          "data": {
            "text/plain": [
              "<matplotlib.axes._subplots.AxesSubplot at 0x7efea7727310>"
            ]
          },
          "metadata": {},
          "execution_count": 502
        },
        {
          "output_type": "display_data",
          "data": {
            "image/png": "[encoded data removed]",
            "text/plain": [
              "<Figure size 360x360 with 1 Axes>"
            ]
          },
          "metadata": {}
        }
      ]
    },
    {
      "cell_type": "code",
      "metadata": {
        "colab": {
          "base_uri": "https://localhost:8080/",
          "height": 403
        },
        "id": "Eq0YoAivA09q",
        "outputId": "45aeb7af-a8a9-4670-d6c2-984a1786fe1c"
      },
      "source": [
        "plt.figure(figsize=(5,5))\n",
        "\n",
        "sns.boxplot('days_to_publish',data=df)"
      ],
      "execution_count": null,
      "outputs": [
        {
          "output_type": "stream",
          "name": "stderr",
          "text": [
            "/usr/local/lib/python3.7/dist-packages/seaborn/_decorators.py:43: FutureWarning: Pass the following variable as a keyword arg: x. From version 0.12, the only valid positional argument will be `data`, and passing other arguments without an explicit keyword will result in an error or misinterpretation.\n",
            "  FutureWarning\n"
          ]
        },
        {
          "output_type": "execute_result",
          "data": {
            "text/plain": [
              "<matplotlib.axes._subplots.AxesSubplot at 0x7efea772dc90>"
            ]
          },
          "metadata": {},
          "execution_count": 503
        },
        {
          "output_type": "display_data",
          "data": {
            "image/png": "[encoded data removed]",
            "text/plain": [
              "<Figure size 360x360 with 1 Axes>"
            ]
          },
          "metadata": {}
        }
      ]
    },
    {
      "cell_type": "code",
      "metadata": {
        "colab": {
          "base_uri": "https://localhost:8080/"
        },
        "id": "33iUdtjDA4Nt",
        "outputId": "c3a442ca-9ec4-4782-d43c-2ef299cfca2b"
      },
      "source": [
        "count_outlier('days_to_publish')"
      ],
      "execution_count": null,
      "outputs": [
        {
          "output_type": "execute_result",
          "data": {
            "text/plain": [
              "586"
            ]
          },
          "metadata": {},
          "execution_count": 504
        }
      ]
    },
    {
      "cell_type": "code",
      "metadata": {
        "id": "vyUv1Va36OzI",
        "colab": {
          "base_uri": "https://localhost:8080/",
          "height": 470
        },
        "outputId": "2bde1b4f-4505-4c54-98b7-e2279b6d3b7d"
      },
      "source": [
        "plt.figure(figsize=(6,6))\n",
        "sns.scatterplot('days_to_publish','views',data=df)"
      ],
      "execution_count": null,
      "outputs": [
        {
          "output_type": "stream",
          "name": "stderr",
          "text": [
            "/usr/local/lib/python3.7/dist-packages/seaborn/_decorators.py:43: FutureWarning: Pass the following variables as keyword args: x, y. From version 0.12, the only valid positional argument will be `data`, and passing other arguments without an explicit keyword will result in an error or misinterpretation.\n",
            "  FutureWarning\n"
          ]
        },
        {
          "output_type": "execute_result",
          "data": {
            "text/plain": [
              "<matplotlib.axes._subplots.AxesSubplot at 0x7efea7572750>"
            ]
          },
          "metadata": {},
          "execution_count": 505
        },
        {
          "output_type": "display_data",
          "data": {
            "image/png": "[encoded data removed]",
            "text/plain": [
              "<Figure size 432x432 with 1 Axes>"
            ]
          },
          "metadata": {}
        }
      ]
    },
    {
      "cell_type": "markdown",
      "metadata": {
        "id": "izSr2jZsffxU"
      },
      "source": [
        "View exponentialy decrease with days to publish"
      ]
    },
    {
      "cell_type": "code",
      "metadata": {
        "colab": {
          "base_uri": "https://localhost:8080/",
          "height": 403
        },
        "id": "qpRBot0ZBNcq",
        "outputId": "8ab4c6b5-33db-4d6f-9782-6ea4f39d559e"
      },
      "source": [
        "plt.figure(figsize=(5,5))\n",
        "\n",
        "sns.distplot(df['time_after_published'])"
      ],
      "execution_count": null,
      "outputs": [
        {
          "output_type": "stream",
          "name": "stderr",
          "text": [
            "/usr/local/lib/python3.7/dist-packages/seaborn/distributions.py:2557: FutureWarning: `distplot` is a deprecated function and will be removed in a future version. Please adapt your code to use either `displot` (a figure-level function with similar flexibility) or `histplot` (an axes-level function for histograms).\n",
            "  warnings.warn(msg, FutureWarning)\n"
          ]
        },
        {
          "output_type": "execute_result",
          "data": {
            "text/plain": [
              "<matplotlib.axes._subplots.AxesSubplot at 0x7efea7544450>"
            ]
          },
          "metadata": {},
          "execution_count": 506
        },
        {
          "output_type": "display_data",
          "data": {
            "image/png": "[encoded data removed]",
            "text/plain": [
              "<Figure size 360x360 with 1 Axes>"
            ]
          },
          "metadata": {}
        }
      ]
    },
    {
      "cell_type": "code",
      "metadata": {
        "colab": {
          "base_uri": "https://localhost:8080/",
          "height": 403
        },
        "id": "BWylqaRpBSDn",
        "outputId": "ed4b624c-4ad5-4019-a08d-bb2a32f38d46"
      },
      "source": [
        "plt.figure(figsize=(5,5))\n",
        "\n",
        "sns.boxplot('time_after_published',data=df)"
      ],
      "execution_count": null,
      "outputs": [
        {
          "output_type": "stream",
          "name": "stderr",
          "text": [
            "/usr/local/lib/python3.7/dist-packages/seaborn/_decorators.py:43: FutureWarning: Pass the following variable as a keyword arg: x. From version 0.12, the only valid positional argument will be `data`, and passing other arguments without an explicit keyword will result in an error or misinterpretation.\n",
            "  FutureWarning\n"
          ]
        },
        {
          "output_type": "execute_result",
          "data": {
            "text/plain": [
              "<matplotlib.axes._subplots.AxesSubplot at 0x7efea751ea50>"
            ]
          },
          "metadata": {},
          "execution_count": 507
        },
        {
          "output_type": "display_data",
          "data": {
            "image/png": "[encoded data removed]",
            "text/plain": [
              "<Figure size 360x360 with 1 Axes>"
            ]
          },
          "metadata": {}
        }
      ]
    },
    {
      "cell_type": "code",
      "metadata": {
        "colab": {
          "base_uri": "https://localhost:8080/"
        },
        "id": "o_Yaj_9WBW1i",
        "outputId": "45a4660d-9e94-42db-c790-7d4c9bd00862"
      },
      "source": [
        "count_outlier('time_after_published')"
      ],
      "execution_count": null,
      "outputs": [
        {
          "output_type": "execute_result",
          "data": {
            "text/plain": [
              "0"
            ]
          },
          "metadata": {},
          "execution_count": 508
        }
      ]
    },
    {
      "cell_type": "code",
      "metadata": {
        "colab": {
          "base_uri": "https://localhost:8080/",
          "height": 470
        },
        "id": "4GSnBy6A5wfI",
        "outputId": "c6933298-e98a-445a-cc16-019905b9677f"
      },
      "source": [
        "plt.figure(figsize=(6,6))\n",
        "sns.scatterplot('time_after_published','views',data=df)"
      ],
      "execution_count": null,
      "outputs": [
        {
          "output_type": "stream",
          "name": "stderr",
          "text": [
            "/usr/local/lib/python3.7/dist-packages/seaborn/_decorators.py:43: FutureWarning: Pass the following variables as keyword args: x, y. From version 0.12, the only valid positional argument will be `data`, and passing other arguments without an explicit keyword will result in an error or misinterpretation.\n",
            "  FutureWarning\n"
          ]
        },
        {
          "output_type": "execute_result",
          "data": {
            "text/plain": [
              "<matplotlib.axes._subplots.AxesSubplot at 0x7efea7979650>"
            ]
          },
          "metadata": {},
          "execution_count": 509
        },
        {
          "output_type": "display_data",
          "data": {
            "image/png": "[encoded data removed]",
            "text/plain": [
              "<Figure size 432x432 with 1 Axes>"
            ]
          },
          "metadata": {}
        }
      ]
    },
    {
      "cell_type": "code",
      "metadata": {
        "colab": {
          "base_uri": "https://localhost:8080/",
          "height": 578
        },
        "id": "BGOax6KsCS5Y",
        "outputId": "1dd1c421-6235-4e67-ffde-690c61e5d0e9"
      },
      "source": [
        "df.head()"
      ],
      "execution_count": null,
      "outputs": [
        {
          "output_type": "execute_result",
          "data": {
            "text/html": [
              "<div>\n",
              "<style scoped>\n",
              "    .dataframe tbody tr th:only-of-type {\n",
              "        vertical-align: middle;\n",
              "    }\n",
              "\n",
              "    .dataframe tbody tr th {\n",
              "        vertical-align: top;\n",
              "    }\n",
              "\n",
              "    .dataframe thead th {\n",
              "        text-align: right;\n",
              "    }\n",
              "</style>\n",
              "<table border=\"1\" class=\"dataframe\">\n",
              "  <thead>\n",
              "    <tr style=\"text-align: right;\">\n",
              "      <th></th>\n",
              "      <th>talk_id</th>\n",
              "      <th>title</th>\n",
              "      <th>speaker_1</th>\n",
              "      <th>about_speakers</th>\n",
              "      <th>views</th>\n",
              "      <th>recorded_date</th>\n",
              "      <th>published_date</th>\n",
              "      <th>event</th>\n",
              "      <th>native_lang</th>\n",
              "      <th>available_lang</th>\n",
              "      <th>comments</th>\n",
              "      <th>duration</th>\n",
              "      <th>topics</th>\n",
              "      <th>related_talks</th>\n",
              "      <th>url</th>\n",
              "      <th>description</th>\n",
              "      <th>transcript</th>\n",
              "      <th>month</th>\n",
              "      <th>year</th>\n",
              "      <th>day</th>\n",
              "      <th>time_after_published</th>\n",
              "      <th>days_to_publish</th>\n",
              "      <th>all_speakers</th>\n",
              "      <th>occupations</th>\n",
              "    </tr>\n",
              "  </thead>\n",
              "  <tbody>\n",
              "    <tr>\n",
              "      <th>0</th>\n",
              "      <td>1</td>\n",
              "      <td>Averting the climate crisis</td>\n",
              "      <td>Al Gore</td>\n",
              "      <td>{0: 'Nobel Laureate Al Gore focused the world’...</td>\n",
              "      <td>3523392</td>\n",
              "      <td>2006-02-25</td>\n",
              "      <td>2006-06-27</td>\n",
              "      <td>TED2006</td>\n",
              "      <td>en</td>\n",
              "      <td>[ar, bg, cs, de, el, en, es, fa, fr, fr-ca, gl...</td>\n",
              "      <td>272.0</td>\n",
              "      <td>977</td>\n",
              "      <td>['alternative energy', 'cars', 'climate change...</td>\n",
              "      <td>{243: 'New thinking on the climate crisis', 54...</td>\n",
              "      <td>https://www.ted.com/talks/al_gore_averting_the...</td>\n",
              "      <td>With the same humor and humanity he exuded in ...</td>\n",
              "      <td>Thank you so much, Chris. And it's truly a gre...</td>\n",
              "      <td>Jun</td>\n",
              "      <td>2006</td>\n",
              "      <td>27</td>\n",
              "      <td>5056</td>\n",
              "      <td>122.0</td>\n",
              "      <td>Al Gore</td>\n",
              "      <td>[climate advocate]</td>\n",
              "    </tr>\n",
              "    <tr>\n",
              "      <th>1</th>\n",
              "      <td>92</td>\n",
              "      <td>The best stats you've ever seen</td>\n",
              "      <td>Hans Rosling</td>\n",
              "      <td>{0: 'In Hans Rosling’s hands, data sings. Glob...</td>\n",
              "      <td>14501685</td>\n",
              "      <td>2006-02-22</td>\n",
              "      <td>2006-06-27</td>\n",
              "      <td>TED2006</td>\n",
              "      <td>en</td>\n",
              "      <td>[ar, az, bg, bn, bs, cs, da, de, el, en, es, e...</td>\n",
              "      <td>628.0</td>\n",
              "      <td>1190</td>\n",
              "      <td>['Africa', 'Asia', 'Google', 'demo', 'economic...</td>\n",
              "      <td>{2056: \"Own your body's data\", 2296: 'A visual...</td>\n",
              "      <td>https://www.ted.com/talks/hans_rosling_the_bes...</td>\n",
              "      <td>You've never seen data presented like this. Wi...</td>\n",
              "      <td>About 10 years ago, I took on the task to teac...</td>\n",
              "      <td>Jun</td>\n",
              "      <td>2006</td>\n",
              "      <td>27</td>\n",
              "      <td>5056</td>\n",
              "      <td>125.0</td>\n",
              "      <td>Hans Rosling</td>\n",
              "      <td>[global health expert; data visionary]</td>\n",
              "    </tr>\n",
              "    <tr>\n",
              "      <th>2</th>\n",
              "      <td>7</td>\n",
              "      <td>Simplicity sells</td>\n",
              "      <td>David Pogue</td>\n",
              "      <td>{0: 'David Pogue is the personal technology co...</td>\n",
              "      <td>1920832</td>\n",
              "      <td>2006-02-24</td>\n",
              "      <td>2006-06-27</td>\n",
              "      <td>TED2006</td>\n",
              "      <td>en</td>\n",
              "      <td>[ar, bg, de, el, en, es, fa, fr, he, hr, hu, i...</td>\n",
              "      <td>124.0</td>\n",
              "      <td>1286</td>\n",
              "      <td>['computers', 'entertainment', 'interface desi...</td>\n",
              "      <td>{1725: '10 top time-saving tech tips', 2274: '...</td>\n",
              "      <td>https://www.ted.com/talks/david_pogue_simplici...</td>\n",
              "      <td>New York Times columnist David Pogue takes aim...</td>\n",
              "      <td>(Music: \"The Sound of Silence,\" Simon &amp; Garfun...</td>\n",
              "      <td>Jun</td>\n",
              "      <td>2006</td>\n",
              "      <td>27</td>\n",
              "      <td>5056</td>\n",
              "      <td>123.0</td>\n",
              "      <td>David Pogue</td>\n",
              "      <td>[technology columnist]</td>\n",
              "    </tr>\n",
              "    <tr>\n",
              "      <th>3</th>\n",
              "      <td>53</td>\n",
              "      <td>Greening the ghetto</td>\n",
              "      <td>Majora Carter</td>\n",
              "      <td>{0: 'Majora Carter redefined the field of envi...</td>\n",
              "      <td>2664069</td>\n",
              "      <td>2006-02-26</td>\n",
              "      <td>2006-06-27</td>\n",
              "      <td>TED2006</td>\n",
              "      <td>en</td>\n",
              "      <td>[ar, bg, bn, ca, cs, de, en, es, fa, fi, fr, h...</td>\n",
              "      <td>219.0</td>\n",
              "      <td>1116</td>\n",
              "      <td>['MacArthur grant', 'activism', 'business', 'c...</td>\n",
              "      <td>{1041: '3 stories of local eco-entrepreneurshi...</td>\n",
              "      <td>https://www.ted.com/talks/majora_carter_greeni...</td>\n",
              "      <td>In an emotionally charged talk, MacArthur-winn...</td>\n",
              "      <td>If you're here today — and I'm very happy that...</td>\n",
              "      <td>Jun</td>\n",
              "      <td>2006</td>\n",
              "      <td>27</td>\n",
              "      <td>5056</td>\n",
              "      <td>121.0</td>\n",
              "      <td>Majora Carter</td>\n",
              "      <td>[activist for environmental justice]</td>\n",
              "    </tr>\n",
              "    <tr>\n",
              "      <th>4</th>\n",
              "      <td>66</td>\n",
              "      <td>Do schools kill creativity?</td>\n",
              "      <td>Sir Ken Robinson</td>\n",
              "      <td>{0: \"Creativity expert Sir Ken Robinson challe...</td>\n",
              "      <td>65051954</td>\n",
              "      <td>2006-02-25</td>\n",
              "      <td>2006-06-27</td>\n",
              "      <td>TED2006</td>\n",
              "      <td>en</td>\n",
              "      <td>[af, ar, az, be, bg, bn, ca, cs, da, de, el, e...</td>\n",
              "      <td>4931.0</td>\n",
              "      <td>1164</td>\n",
              "      <td>['children', 'creativity', 'culture', 'dance',...</td>\n",
              "      <td>{865: 'Bring on the learning revolution!', 173...</td>\n",
              "      <td>https://www.ted.com/talks/sir_ken_robinson_do_...</td>\n",
              "      <td>Sir Ken Robinson makes an entertaining and pro...</td>\n",
              "      <td>Good morning. How are you? (Audience) Good. It...</td>\n",
              "      <td>Jun</td>\n",
              "      <td>2006</td>\n",
              "      <td>27</td>\n",
              "      <td>5056</td>\n",
              "      <td>122.0</td>\n",
              "      <td>Sir Ken Robinson</td>\n",
              "      <td>[author, educator]</td>\n",
              "    </tr>\n",
              "  </tbody>\n",
              "</table>\n",
              "</div>"
            ],
            "text/plain": [
              "   talk_id                            title         speaker_1  \\\n",
              "0        1      Averting the climate crisis           Al Gore   \n",
              "1       92  The best stats you've ever seen      Hans Rosling   \n",
              "2        7                 Simplicity sells       David Pogue   \n",
              "3       53              Greening the ghetto     Majora Carter   \n",
              "4       66      Do schools kill creativity?  Sir Ken Robinson   \n",
              "\n",
              "                                      about_speakers     views recorded_date  \\\n",
              "0  {0: 'Nobel Laureate Al Gore focused the world’...   3523392    2006-02-25   \n",
              "1  {0: 'In Hans Rosling’s hands, data sings. Glob...  14501685    2006-02-22   \n",
              "2  {0: 'David Pogue is the personal technology co...   1920832    2006-02-24   \n",
              "3  {0: 'Majora Carter redefined the field of envi...   2664069    2006-02-26   \n",
              "4  {0: \"Creativity expert Sir Ken Robinson challe...  65051954    2006-02-25   \n",
              "\n",
              "  published_date    event native_lang  \\\n",
              "0     2006-06-27  TED2006          en   \n",
              "1     2006-06-27  TED2006          en   \n",
              "2     2006-06-27  TED2006          en   \n",
              "3     2006-06-27  TED2006          en   \n",
              "4     2006-06-27  TED2006          en   \n",
              "\n",
              "                                      available_lang  comments  duration  \\\n",
              "0  [ar, bg, cs, de, el, en, es, fa, fr, fr-ca, gl...     272.0       977   \n",
              "1  [ar, az, bg, bn, bs, cs, da, de, el, en, es, e...     628.0      1190   \n",
              "2  [ar, bg, de, el, en, es, fa, fr, he, hr, hu, i...     124.0      1286   \n",
              "3  [ar, bg, bn, ca, cs, de, en, es, fa, fi, fr, h...     219.0      1116   \n",
              "4  [af, ar, az, be, bg, bn, ca, cs, da, de, el, e...    4931.0      1164   \n",
              "\n",
              "                                              topics  \\\n",
              "0  ['alternative energy', 'cars', 'climate change...   \n",
              "1  ['Africa', 'Asia', 'Google', 'demo', 'economic...   \n",
              "2  ['computers', 'entertainment', 'interface desi...   \n",
              "3  ['MacArthur grant', 'activism', 'business', 'c...   \n",
              "4  ['children', 'creativity', 'culture', 'dance',...   \n",
              "\n",
              "                                       related_talks  \\\n",
              "0  {243: 'New thinking on the climate crisis', 54...   \n",
              "1  {2056: \"Own your body's data\", 2296: 'A visual...   \n",
              "2  {1725: '10 top time-saving tech tips', 2274: '...   \n",
              "3  {1041: '3 stories of local eco-entrepreneurshi...   \n",
              "4  {865: 'Bring on the learning revolution!', 173...   \n",
              "\n",
              "                                                 url  \\\n",
              "0  https://www.ted.com/talks/al_gore_averting_the...   \n",
              "1  https://www.ted.com/talks/hans_rosling_the_bes...   \n",
              "2  https://www.ted.com/talks/david_pogue_simplici...   \n",
              "3  https://www.ted.com/talks/majora_carter_greeni...   \n",
              "4  https://www.ted.com/talks/sir_ken_robinson_do_...   \n",
              "\n",
              "                                         description  \\\n",
              "0  With the same humor and humanity he exuded in ...   \n",
              "1  You've never seen data presented like this. Wi...   \n",
              "2  New York Times columnist David Pogue takes aim...   \n",
              "3  In an emotionally charged talk, MacArthur-winn...   \n",
              "4  Sir Ken Robinson makes an entertaining and pro...   \n",
              "\n",
              "                                          transcript month  year  day  \\\n",
              "0  Thank you so much, Chris. And it's truly a gre...   Jun  2006   27   \n",
              "1  About 10 years ago, I took on the task to teac...   Jun  2006   27   \n",
              "2  (Music: \"The Sound of Silence,\" Simon & Garfun...   Jun  2006   27   \n",
              "3  If you're here today — and I'm very happy that...   Jun  2006   27   \n",
              "4  Good morning. How are you? (Audience) Good. It...   Jun  2006   27   \n",
              "\n",
              "   time_after_published  days_to_publish      all_speakers  \\\n",
              "0                  5056            122.0           Al Gore   \n",
              "1                  5056            125.0      Hans Rosling   \n",
              "2                  5056            123.0       David Pogue   \n",
              "3                  5056            121.0     Majora Carter   \n",
              "4                  5056            122.0  Sir Ken Robinson   \n",
              "\n",
              "                              occupations  \n",
              "0                      [climate advocate]  \n",
              "1  [global health expert; data visionary]  \n",
              "2                  [technology columnist]  \n",
              "3    [activist for environmental justice]  \n",
              "4                      [author, educator]  "
            ]
          },
          "metadata": {},
          "execution_count": 510
        }
      ]
    },
    {
      "cell_type": "code",
      "metadata": {
        "id": "VtpgtbVOCUR5"
      },
      "source": [
        "numeric_feat=set(df.describe().columns) - {'talk_id'}"
      ],
      "execution_count": null,
      "outputs": []
    },
    {
      "cell_type": "code",
      "metadata": {
        "colab": {
          "base_uri": "https://localhost:8080/",
          "height": 644
        },
        "id": "HDObTRhbEHkV",
        "outputId": "1fea9dda-5900-4760-9aeb-48dde4c328db"
      },
      "source": [
        "plt.figure(figsize=(10,10))\n",
        "plt.title(\"Correlation plot\")\n",
        "sns.heatmap(df[numeric_feat].corr().abs(),linewidths=5, annot=True, \n",
        "            square=True,annot_kws={'size': 10},cmap='YlGnBu', fmt=\".3f\") #cmap = 'Blues'"
      ],
      "execution_count": null,
      "outputs": [
        {
          "output_type": "execute_result",
          "data": {
            "text/plain": [
              "<matplotlib.axes._subplots.AxesSubplot at 0x7efea8649b10>"
            ]
          },
          "metadata": {},
          "execution_count": 512
        },
        {
          "output_type": "display_data",
          "data": {
            "image/png": "[encoded data removed]",
            "text/plain": [
              "<Figure size 720x720 with 2 Axes>"
            ]
          },
          "metadata": {}
        }
      ]
    },
    {
      "cell_type": "code",
      "metadata": {
        "id": "ZyCiK4n0EqCH"
      },
      "source": [
        ""
      ],
      "execution_count": null,
      "outputs": []
    }
  ]
}