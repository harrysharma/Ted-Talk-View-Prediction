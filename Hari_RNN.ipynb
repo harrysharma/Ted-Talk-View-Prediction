{
  "nbformat": 4,
  "nbformat_minor": 0,
  "metadata": {
    "colab": {
      "name": "Hari_RNN.ipynb",
      "provenance": [],
      "collapsed_sections": [],
      "mount_file_id": "1zHKzzagO43UYvffg_yaUZ8f_2li-8D1q",
      "authorship_tag": "ABX9TyOeeNXwaiU+kwFm7P9C12nd",
      "include_colab_link": true
    },
    "kernelspec": {
      "display_name": "Python 3",
      "name": "python3"
    },
    "language_info": {
      "name": "python"
    },
    "accelerator": "GPU"
  },
  "cells": [
    {
      "cell_type": "markdown",
      "metadata": {
        "id": "view-in-github",
        "colab_type": "text"
      },
      "source": [
        "<a href=\"https://colab.research.google.com/github/harrysharma/Ted_talk_view_prediction/blob/main/Hari_RNN.ipynb\" target=\"_parent\"><img src=\"https://colab.research.google.com/assets/colab-badge.svg\" alt=\"Open In Colab\"/></a>"
      ]
    },
    {
      "cell_type": "code",
      "metadata": {
        "colab": {
          "base_uri": "https://localhost:8080/"
        },
        "id": "SHR5MrXRVuo3",
        "outputId": "66f85fd2-8d61-4c0a-ac59-259f5222584b"
      },
      "source": [
        "pip install contractions"
      ],
      "execution_count": null,
      "outputs": [
        {
          "output_type": "stream",
          "name": "stdout",
          "text": [
            "Requirement already satisfied: contractions in /usr/local/lib/python3.7/dist-packages (0.0.52)\n",
            "Requirement already satisfied: textsearch>=0.0.21 in /usr/local/lib/python3.7/dist-packages (from contractions) (0.0.21)\n",
            "Requirement already satisfied: anyascii in /usr/local/lib/python3.7/dist-packages (from textsearch>=0.0.21->contractions) (0.3.0)\n",
            "Requirement already satisfied: pyahocorasick in /usr/local/lib/python3.7/dist-packages (from textsearch>=0.0.21->contractions) (1.4.2)\n"
          ]
        }
      ]
    },
    {
      "cell_type": "code",
      "metadata": {
        "id": "9Z9517KbV1TE"
      },
      "source": [
        "import numpy as np\n",
        "import pandas as pd\n",
        "\n",
        "import nltk\n",
        "import spacy\n",
        "import re\n",
        "from bs4 import BeautifulSoup\n",
        "import requests\n",
        "import unicodedata\n",
        "import contractions\n",
        "\n",
        "nlp = spacy.load('en_core_web_sm')\n"
      ],
      "execution_count": null,
      "outputs": []
    },
    {
      "cell_type": "code",
      "metadata": {
        "id": "YYp6ClflVf2f"
      },
      "source": [
        "filepath='/content/drive/MyDrive/AlmaBetter/Capstone3_ML_NLP_Regression/cleaned_data.csv'\n",
        "clean_data=pd.read_csv(filepath)"
      ],
      "execution_count": null,
      "outputs": []
    },
    {
      "cell_type": "code",
      "metadata": {
        "id": "mmtlvzyRXhc7"
      },
      "source": [
        "df= clean_data[['published_date','daily_views','description']]"
      ],
      "execution_count": null,
      "outputs": []
    },
    {
      "cell_type": "code",
      "metadata": {
        "id": "lklwwyMyn-SB"
      },
      "source": [
        "X=df['description']"
      ],
      "execution_count": null,
      "outputs": []
    },
    {
      "cell_type": "code",
      "metadata": {
        "colab": {
          "base_uri": "https://localhost:8080/"
        },
        "id": "mSlaCo4TYbe4",
        "outputId": "25564386-f251-4564-c19e-34ad63323a0b"
      },
      "source": [
        "df.isna().sum()"
      ],
      "execution_count": null,
      "outputs": [
        {
          "output_type": "execute_result",
          "data": {
            "text/plain": [
              "published_date    0\n",
              "daily_views       0\n",
              "description       0\n",
              "dtype: int64"
            ]
          },
          "metadata": {},
          "execution_count": 50
        }
      ]
    },
    {
      "cell_type": "code",
      "metadata": {
        "colab": {
          "base_uri": "https://localhost:8080/",
          "height": 36
        },
        "id": "gw-X66Z3Yucr",
        "outputId": "87a6c111-4eda-4583-b603-4fff75fe5ffb"
      },
      "source": [
        "df['published_date'].min()"
      ],
      "execution_count": null,
      "outputs": [
        {
          "output_type": "execute_result",
          "data": {
            "application/vnd.google.colaboratory.intrinsic+json": {
              "type": "string"
            },
            "text/plain": [
              "'2006-06-27'"
            ]
          },
          "metadata": {},
          "execution_count": 51
        }
      ]
    },
    {
      "cell_type": "code",
      "metadata": {
        "id": "3rlFi8RdYtws"
      },
      "source": [
        "train_df = df[df['published_date']<'2019-01-31']\n",
        "test_df = df[df['published_date']>'2019-01-31']"
      ],
      "execution_count": null,
      "outputs": []
    },
    {
      "cell_type": "code",
      "metadata": {
        "colab": {
          "base_uri": "https://localhost:8080/"
        },
        "id": "d9x-aPBDZK6V",
        "outputId": "2bf711a2-315e-4c42-95a9-fd5b82fca50a"
      },
      "source": [
        "train_df.shape, test_df.shape"
      ],
      "execution_count": null,
      "outputs": [
        {
          "output_type": "execute_result",
          "data": {
            "text/plain": [
              "((3139, 3), (862, 3))"
            ]
          },
          "metadata": {},
          "execution_count": 53
        }
      ]
    },
    {
      "cell_type": "code",
      "metadata": {
        "id": "-ZXj6kLWV-7t"
      },
      "source": [
        "def remove_special_characters(text, remove_digits= True):\n",
        "    #text = text.replace('$', 'currency')\n",
        "    pattern = r'[^\\w]+' if not remove_digits else r'[^a-zA-Z]'\n",
        "    text = re.sub(pattern,\" \",text)\n",
        "    text = re.sub(r'\\s+',' ', text)\n",
        "    return text\n",
        "\n",
        "def remove_accented_characters(text):\n",
        "    text =  unicodedata.normalize('NFKD',text).encode('ascii','ignore').decode('utf-8','ignore')\n",
        "    return text\n",
        "\n",
        "def spacy_lemma(text):\n",
        "    text = nlp(text)\n",
        "    new_text = []\n",
        "    words = [word.lemma_ for word in text]\n",
        "    for small in words:\n",
        "        if small == '-PRON-':\n",
        "            pass\n",
        "        else:\n",
        "            new_text.append(small)\n",
        "\n",
        "    return ' '.join(new_text)\n",
        "\n",
        "def contractions_text(text):\n",
        "    return contractions.fix(text)\n",
        "\n",
        "def stop_words_removal(text, is_lower_case = False, stopwords = None):\n",
        "    if stopwords == None:\n",
        "        stopwords = nlp.Defaults.stop_words\n",
        "    \n",
        "    if not is_lower_case:\n",
        "        text = text.lower()\n",
        "    tokens = nltk.word_tokenize(text)\n",
        "    new_token = []\n",
        "    for i in tokens:\n",
        "        if len(i)<=1:\n",
        "            pass\n",
        "        else:\n",
        "            new_token.append(i)\n",
        "    \n",
        "    removed_text = [word for word in new_token if word not in stopwords]\n",
        "    \n",
        "    return ' '.join(removed_text)\n",
        "\n",
        "def join_news(text):\n",
        "    full_text = []\n",
        "    for ind in range(len(text)):\n",
        "        combine_text = []\n",
        "        for col in range(2,len(text.columns[2:])+2):\n",
        "            combine_text.append(text.iloc[ind,col])\n",
        "        full_text.append(' '.join(combine_text))\n",
        "    return full_text"
      ],
      "execution_count": null,
      "outputs": []
    },
    {
      "cell_type": "code",
      "metadata": {
        "id": "A_pI-iySVLjZ"
      },
      "source": [
        "train_data = join_news(train_df)\n",
        "test_data = join_news(test_df)"
      ],
      "execution_count": null,
      "outputs": []
    },
    {
      "cell_type": "code",
      "metadata": {
        "colab": {
          "base_uri": "https://localhost:8080/",
          "height": 53
        },
        "id": "ZzYIGAFeZ0iQ",
        "outputId": "f2576d67-fd29-49bb-963f-95fdc12b7a92"
      },
      "source": [
        "train_data[0]"
      ],
      "execution_count": null,
      "outputs": [
        {
          "output_type": "execute_result",
          "data": {
            "application/vnd.google.colaboratory.intrinsic+json": {
              "type": "string"
            },
            "text/plain": [
              "'With the same humor and humanity he exuded in \"An Inconvenient Truth,\" Al Gore spells out 15 ways that individuals can address climate change immediately, from buying a hybrid to inventing a new, hotter brand name for global warming.'"
            ]
          },
          "metadata": {},
          "execution_count": 56
        }
      ]
    },
    {
      "cell_type": "code",
      "metadata": {
        "colab": {
          "base_uri": "https://localhost:8080/",
          "height": 53
        },
        "id": "n7NVJDfqbADb",
        "outputId": "2663fd44-38c8-4f48-fa05-160cf73d220c"
      },
      "source": [
        "test_data[0]"
      ],
      "execution_count": null,
      "outputs": [
        {
          "output_type": "execute_result",
          "data": {
            "application/vnd.google.colaboratory.intrinsic+json": {
              "type": "string"
            },
            "text/plain": [
              "'How did the universe begin -- and how is it expanding? CERN physicist Tom Whyntie shows how cosmologists and particle physicists explore these questions by replicating the heat energy and activity of the first few seconds of our universe from right after the Big Bang. [Directed by Dan Abdo and Jason Patterson, narrated by R.J. Glass].'"
            ]
          },
          "metadata": {},
          "execution_count": 57
        }
      ]
    },
    {
      "cell_type": "code",
      "metadata": {
        "colab": {
          "base_uri": "https://localhost:8080/"
        },
        "id": "12cA8zjhbDII",
        "outputId": "d5aff0ce-3cd9-4f34-f36d-af79c4ffa10d"
      },
      "source": [
        "import tqdm\n",
        "nltk.download('punkt')\n"
      ],
      "execution_count": null,
      "outputs": [
        {
          "output_type": "stream",
          "name": "stdout",
          "text": [
            "[nltk_data] Downloading package punkt to /root/nltk_data...\n",
            "[nltk_data]   Package punkt is already up-to-date!\n"
          ]
        },
        {
          "output_type": "execute_result",
          "data": {
            "text/plain": [
              "True"
            ]
          },
          "metadata": {},
          "execution_count": 58
        }
      ]
    },
    {
      "cell_type": "code",
      "metadata": {
        "id": "0L6TGvslbHd-"
      },
      "source": [
        "def preprocessor_engine(text):\n",
        "    corpus =[]\n",
        "    for sent in tqdm.tqdm(text):\n",
        "        sent = remove_accented_characters(sent)\n",
        "        sent = contractions_text(sent)\n",
        "        sent = remove_special_characters(sent)\n",
        "        sent = spacy_lemma(sent)\n",
        "        sent = stop_words_removal(sent)\n",
        "        corpus.append(sent)\n",
        "    return corpus"
      ],
      "execution_count": null,
      "outputs": []
    },
    {
      "cell_type": "code",
      "metadata": {
        "colab": {
          "base_uri": "https://localhost:8080/"
        },
        "id": "mYPizH9ybLJ6",
        "outputId": "fe6b772a-d34a-471c-aa14-4ca88c1597e4"
      },
      "source": [
        "train_data_pro = preprocessor_engine(train_data)"
      ],
      "execution_count": null,
      "outputs": [
        {
          "output_type": "stream",
          "name": "stderr",
          "text": [
            "100%|██████████| 3139/3139 [00:56<00:00, 55.83it/s]\n"
          ]
        }
      ]
    },
    {
      "cell_type": "code",
      "metadata": {
        "colab": {
          "base_uri": "https://localhost:8080/"
        },
        "id": "l-GyiBHEbOEu",
        "outputId": "aaf2e4f2-a96d-4cb9-fdf8-5e933c85bcfe"
      },
      "source": [
        "test_data_pro = preprocessor_engine(test_data)\n"
      ],
      "execution_count": null,
      "outputs": [
        {
          "output_type": "stream",
          "name": "stderr",
          "text": [
            "100%|██████████| 862/862 [00:16<00:00, 51.73it/s]\n"
          ]
        }
      ]
    },
    {
      "cell_type": "code",
      "metadata": {
        "colab": {
          "base_uri": "https://localhost:8080/",
          "height": 36
        },
        "id": "7Nr-ul1idFkw",
        "outputId": "6f2cc163-613e-4357-8941-d21a917ce433"
      },
      "source": [
        "train_data_pro[0]"
      ],
      "execution_count": null,
      "outputs": [
        {
          "output_type": "execute_result",
          "data": {
            "application/vnd.google.colaboratory.intrinsic+json": {
              "type": "string"
            },
            "text/plain": [
              "'humor humanity exude inconvenient truth al gore spell way individual address climate change immediately buy hybrid invent new hot brand global warming'"
            ]
          },
          "metadata": {},
          "execution_count": 62
        }
      ]
    },
    {
      "cell_type": "code",
      "metadata": {
        "id": "4h-jCBuHtNQd"
      },
      "source": [
        ""
      ],
      "execution_count": null,
      "outputs": []
    },
    {
      "cell_type": "code",
      "metadata": {
        "id": "Yj0BHGbjjb7S"
      },
      "source": [
        "from sklearn.feature_extraction.text import CountVectorizer, TfidfVectorizer\n",
        "\n",
        "Tfidf_vectorizer=TfidfVectorizer('english',lowercase=True,ngram_range=(1,3),min_df=100,max_features=1000)                 #,min_df=100,max_features=1000"
      ],
      "execution_count": null,
      "outputs": []
    },
    {
      "cell_type": "code",
      "metadata": {
        "id": "mpwdF7kxpX_S"
      },
      "source": [
        "X_train_tfidf=Tfidf_vectorizer.fit_transform(train_data_pro).toarray()\n",
        "# features= Tfidf_vectorizer.get_feature_names()\n",
        "X_test_tfidf=Tfidf_vectorizer.transform(test_data_pro).toarray()"
      ],
      "execution_count": null,
      "outputs": []
    },
    {
      "cell_type": "code",
      "metadata": {
        "colab": {
          "base_uri": "https://localhost:8080/"
        },
        "id": "b0Dllzlms2Z5",
        "outputId": "8133fe1e-dfde-4f0c-d6e1-9b29f0aa0044"
      },
      "source": [
        "X_train_tfidf.shape"
      ],
      "execution_count": null,
      "outputs": [
        {
          "output_type": "execute_result",
          "data": {
            "text/plain": [
              "(3139, 92)"
            ]
          },
          "metadata": {},
          "execution_count": 65
        }
      ]
    },
    {
      "cell_type": "code",
      "metadata": {
        "colab": {
          "base_uri": "https://localhost:8080/"
        },
        "id": "I2QJHlREuKHJ",
        "outputId": "5779064e-1815-4878-bd0e-cf39344aae88"
      },
      "source": [
        "X_test_tfidf.shape"
      ],
      "execution_count": null,
      "outputs": [
        {
          "output_type": "execute_result",
          "data": {
            "text/plain": [
              "(862, 92)"
            ]
          },
          "metadata": {},
          "execution_count": 66
        }
      ]
    },
    {
      "cell_type": "code",
      "metadata": {
        "id": "3cwynxlkspqF"
      },
      "source": [
        "X_train_tfidf = X_train_tfidf[:, :, None]\n",
        "X_test_tfidf = X_test_tfidf[:, :, None]"
      ],
      "execution_count": null,
      "outputs": []
    },
    {
      "cell_type": "code",
      "metadata": {
        "colab": {
          "base_uri": "https://localhost:8080/"
        },
        "id": "Ec9HHeBqxXKW",
        "outputId": "c2854d6f-7172-42fe-c887-42ff0d1bb7ea"
      },
      "source": [
        "X_train_tfidf.shape"
      ],
      "execution_count": null,
      "outputs": [
        {
          "output_type": "execute_result",
          "data": {
            "text/plain": [
              "(3139, 92, 1)"
            ]
          },
          "metadata": {},
          "execution_count": 68
        }
      ]
    },
    {
      "cell_type": "code",
      "metadata": {
        "id": "nemMILEpdNkA"
      },
      "source": [
        "import tensorflow as tf"
      ],
      "execution_count": null,
      "outputs": []
    },
    {
      "cell_type": "code",
      "metadata": {
        "id": "jnt5uN7Kff40"
      },
      "source": [
        "# tokenzer = tf.keras.preprocessing.text.Tokenizer(oov_token = '<UNK>')\n",
        "# tokenzer.fit_on_texts(train_data_pro)"
      ],
      "execution_count": null,
      "outputs": []
    },
    {
      "cell_type": "code",
      "metadata": {
        "id": "93x1M2jlfick"
      },
      "source": [
        "# #Converting into number token\n",
        "# train_sequences = tokenzer.texts_to_sequences(train_data_pro)\n",
        "# test_sequences = tokenzer.texts_to_sequences(test_data_pro)"
      ],
      "execution_count": null,
      "outputs": []
    },
    {
      "cell_type": "code",
      "metadata": {
        "id": "_nyZAsu0rjVa"
      },
      "source": [
        "# train_sequences"
      ],
      "execution_count": null,
      "outputs": []
    },
    {
      "cell_type": "code",
      "metadata": {
        "id": "8FnYfYnZfk9A"
      },
      "source": [
        "# print(\"Vocabulary size ={}\".format(len(tokenzer.word_index)))\n",
        "# print(\"Number of Documents={}\".format(tokenzer.document_count))"
      ],
      "execution_count": null,
      "outputs": []
    },
    {
      "cell_type": "code",
      "metadata": {
        "id": "ad2YHg74fnVm"
      },
      "source": [
        "# pd.Series(train_data_pro).apply(lambda x : len(x.split())).max()\n"
      ],
      "execution_count": null,
      "outputs": []
    },
    {
      "cell_type": "code",
      "metadata": {
        "id": "5_DvljQjfq0r"
      },
      "source": [
        "# MAX_SEQUENCE_LENGTH = 73\n",
        "\n",
        "# train_pad_sequences = tf.keras.preprocessing.sequence.pad_sequences(train_sequences, maxlen = MAX_SEQUENCE_LENGTH, padding='post')\n",
        "# test_pad_sequneces = tf.keras.preprocessing.sequence.pad_sequences(test_sequences, maxlen = MAX_SEQUENCE_LENGTH, padding='post')"
      ],
      "execution_count": null,
      "outputs": []
    },
    {
      "cell_type": "code",
      "metadata": {
        "id": "EVzfs5LYfu6R"
      },
      "source": [
        "from tensorflow.keras.models import Sequential\n",
        "from tensorflow.keras.layers import Dense, RNN, LSTM, GRU, Bidirectional, Embedding, Dropout\n",
        "from sklearn.metrics import r2_score,mean_squared_error\n",
        "from tensorflow.keras.callbacks import EarlyStopping"
      ],
      "execution_count": null,
      "outputs": []
    },
    {
      "cell_type": "code",
      "metadata": {
        "id": "ttuPFMnAjEaM"
      },
      "source": [
        "y_train = np.array(train_df['daily_views'])\n",
        "y_test = np.array(test_df['daily_views'])"
      ],
      "execution_count": null,
      "outputs": []
    },
    {
      "cell_type": "code",
      "metadata": {
        "colab": {
          "base_uri": "https://localhost:8080/"
        },
        "id": "MVCdARk9vjQu",
        "outputId": "82101d65-64a7-4b0d-9870-8866198d8573"
      },
      "source": [
        "y_train"
      ],
      "execution_count": null,
      "outputs": [
        {
          "output_type": "execute_result",
          "data": {
            "text/plain": [
              "array([ 696.735614  , 2867.64583745,  379.83626656, ..., 1636.09803922,\n",
              "       4077.25982533, 3002.91466083])"
            ]
          },
          "metadata": {},
          "execution_count": 78
        }
      ]
    },
    {
      "cell_type": "code",
      "metadata": {
        "id": "pTf9eX-NjE1w"
      },
      "source": [
        "y_train = y_train.reshape(-1,1)\n",
        "y_test = y_test.reshape(-1,1)"
      ],
      "execution_count": null,
      "outputs": []
    },
    {
      "cell_type": "code",
      "metadata": {
        "colab": {
          "base_uri": "https://localhost:8080/"
        },
        "id": "U8sA8FNJvmAO",
        "outputId": "5c819de5-7473-480a-aa0b-fdfd15738f11"
      },
      "source": [
        "y_train"
      ],
      "execution_count": null,
      "outputs": [
        {
          "output_type": "execute_result",
          "data": {
            "text/plain": [
              "array([[ 696.735614  ],\n",
              "       [2867.64583745],\n",
              "       [ 379.83626656],\n",
              "       ...,\n",
              "       [1636.09803922],\n",
              "       [4077.25982533],\n",
              "       [3002.91466083]])"
            ]
          },
          "metadata": {},
          "execution_count": 80
        }
      ]
    },
    {
      "cell_type": "code",
      "metadata": {
        "id": "zdQxJzHyfxiz"
      },
      "source": [
        "from sklearn.preprocessing import MinMaxScaler\n",
        "from sklearn.metrics import mean_squared_error,r2_score\n",
        "scaler = MinMaxScaler(feature_range=(0, 1))\n",
        "y_train = scaler.fit_transform(y_train)\n",
        "y_test = scaler.transform(y_test)"
      ],
      "execution_count": null,
      "outputs": []
    },
    {
      "cell_type": "code",
      "metadata": {
        "id": "bBJslJ8CjrSF"
      },
      "source": [
        "def metrics(y_true, y_pred):\n",
        "    print('r2 Score:', round(r2_score(y_true, y_pred),2))"
      ],
      "execution_count": null,
      "outputs": []
    },
    {
      "cell_type": "code",
      "metadata": {
        "id": "hPErDYOcp32K",
        "colab": {
          "base_uri": "https://localhost:8080/",
          "height": 885
        },
        "outputId": "e2cc6638-e7b3-4139-bccd-24ae7096a505"
      },
      "source": [
        "# def deep_model(layer_name, epochs=50):\n",
        "layer_name=LSTM\n",
        "epochs=50\n",
        "SEED = 42\n",
        "np.random.seed(SEED)\n",
        "tf.random.set_seed(SEED)\n",
        "\n",
        "# EMBEDDING_DIM = 300 #Dimension for dense embedding for each token\n",
        "# VOCAB_SIZE = len(tokenzer.word_index)\n",
        "# model = Sequential()\n",
        "# model.add((Embedding(input_dim =VOCAB_SIZE+1,output_dim = EMBEDDING_DIM,input_length = MAX_SEQUENCE_LENGTH)))\n",
        "# model.add((layer_name(256)))\n",
        "# # model.add((Dense(256,activation = 'relu')))\n",
        "# model.add(Dense(1,activation = 'sigmoid'))\n",
        "\n",
        "model = Sequential()\n",
        "model.add(LSTM(units=3, input_shape = (3139,92, 1), return_sequences = True,output_dim=))\n",
        "model.add(LSTM(units=3, return_sequences=True))\n",
        "# model.add(LSTM(units=6, return_sequences=True))\n",
        "# model.add(LSTM(units=1, return_sequences=True, name='output'))\n",
        "model.add(Dense(1,activation = 'sigmoid'))\n",
        "\n",
        "\n",
        "\n",
        "\n",
        "model.compile(optimizer='adam',loss='mse',metrics=[tf.keras.metrics.RootMeanSquaredError()])  \n",
        "model.summary()\n",
        "# fit_the_model(model, epochs=50)\n",
        "early_stop = EarlyStopping(monitor='val_loss', patience=5)\n",
        "model.fit(X_train_tfidf, y_train, epochs=epochs, validation_data=(X_test_tfidf, y_test), callbacks=[early_stop],verbose=2)\n",
        "# predictions(model)\n",
        "train_pred = model.predict(X_train_tfidf,batch_size=92)\n",
        "test_pred = model.predict(X_test_tfidf)\n",
        "# metrics(y_train, train_pred)\n",
        "print('r2 Score:', round(r2_score(y_train, train_pred),2))\n",
        "print('r2 Score:', round(r2_score(y_test, test_pred),2))"
      ],
      "execution_count": null,
      "outputs": [
        {
          "output_type": "stream",
          "name": "stdout",
          "text": [
            "Model: \"sequential_2\"\n",
            "_________________________________________________________________\n",
            "Layer (type)                 Output Shape              Param #   \n",
            "=================================================================\n",
            "lstm_4 (LSTM)                (None, 92, 3)             60        \n",
            "_________________________________________________________________\n",
            "lstm_5 (LSTM)                (None, 92, 3)             84        \n",
            "_________________________________________________________________\n",
            "dense_2 (Dense)              (None, 92, 1)             4         \n",
            "=================================================================\n",
            "Total params: 148\n",
            "Trainable params: 148\n",
            "Non-trainable params: 0\n",
            "_________________________________________________________________\n",
            "Epoch 1/50\n",
            "99/99 - 10s - loss: 0.1627 - root_mean_squared_error: 0.4034 - val_loss: 0.1100 - val_root_mean_squared_error: 0.3317\n",
            "Epoch 2/50\n",
            "99/99 - 6s - loss: 0.0489 - root_mean_squared_error: 0.2212 - val_loss: 0.1009 - val_root_mean_squared_error: 0.3177\n",
            "Epoch 3/50\n",
            "99/99 - 6s - loss: 0.0226 - root_mean_squared_error: 0.1502 - val_loss: 0.1049 - val_root_mean_squared_error: 0.3239\n",
            "Epoch 4/50\n",
            "99/99 - 6s - loss: 0.0153 - root_mean_squared_error: 0.1236 - val_loss: 0.1086 - val_root_mean_squared_error: 0.3295\n",
            "Epoch 5/50\n",
            "99/99 - 6s - loss: 0.0117 - root_mean_squared_error: 0.1079 - val_loss: 0.1116 - val_root_mean_squared_error: 0.3340\n",
            "Epoch 6/50\n",
            "99/99 - 6s - loss: 0.0095 - root_mean_squared_error: 0.0974 - val_loss: 0.1140 - val_root_mean_squared_error: 0.3377\n",
            "Epoch 7/50\n",
            "99/99 - 6s - loss: 0.0081 - root_mean_squared_error: 0.0898 - val_loss: 0.1161 - val_root_mean_squared_error: 0.3407\n"
          ]
        },
        {
          "output_type": "error",
          "ename": "ValueError",
          "evalue": "ignored",
          "traceback": [
            "\u001b[0;31m---------------------------------------------------------------------------\u001b[0m",
            "\u001b[0;31mValueError\u001b[0m                                Traceback (most recent call last)",
            "\u001b[0;32m<ipython-input-85-38e63c2c6781>\u001b[0m in \u001b[0;36m<module>\u001b[0;34m()\u001b[0m\n\u001b[1;32m     33\u001b[0m \u001b[0mtest_pred\u001b[0m \u001b[0;34m=\u001b[0m \u001b[0mmodel\u001b[0m\u001b[0;34m.\u001b[0m\u001b[0mpredict\u001b[0m\u001b[0;34m(\u001b[0m\u001b[0mX_test_tfidf\u001b[0m\u001b[0;34m)\u001b[0m\u001b[0;34m\u001b[0m\u001b[0;34m\u001b[0m\u001b[0m\n\u001b[1;32m     34\u001b[0m \u001b[0;31m# metrics(y_train, train_pred)\u001b[0m\u001b[0;34m\u001b[0m\u001b[0;34m\u001b[0m\u001b[0;34m\u001b[0m\u001b[0m\n\u001b[0;32m---> 35\u001b[0;31m \u001b[0mprint\u001b[0m\u001b[0;34m(\u001b[0m\u001b[0;34m'r2 Score:'\u001b[0m\u001b[0;34m,\u001b[0m \u001b[0mround\u001b[0m\u001b[0;34m(\u001b[0m\u001b[0mr2_score\u001b[0m\u001b[0;34m(\u001b[0m\u001b[0my_train\u001b[0m\u001b[0;34m,\u001b[0m \u001b[0mtrain_pred\u001b[0m\u001b[0;34m)\u001b[0m\u001b[0;34m,\u001b[0m\u001b[0;36m2\u001b[0m\u001b[0;34m)\u001b[0m\u001b[0;34m)\u001b[0m\u001b[0;34m\u001b[0m\u001b[0;34m\u001b[0m\u001b[0m\n\u001b[0m\u001b[1;32m     36\u001b[0m \u001b[0mprint\u001b[0m\u001b[0;34m(\u001b[0m\u001b[0;34m'r2 Score:'\u001b[0m\u001b[0;34m,\u001b[0m \u001b[0mround\u001b[0m\u001b[0;34m(\u001b[0m\u001b[0mr2_score\u001b[0m\u001b[0;34m(\u001b[0m\u001b[0my_test\u001b[0m\u001b[0;34m,\u001b[0m \u001b[0mtest_pred\u001b[0m\u001b[0;34m)\u001b[0m\u001b[0;34m,\u001b[0m\u001b[0;36m2\u001b[0m\u001b[0;34m)\u001b[0m\u001b[0;34m)\u001b[0m\u001b[0;34m\u001b[0m\u001b[0;34m\u001b[0m\u001b[0m\n",
            "\u001b[0;32m/usr/local/lib/python3.7/dist-packages/sklearn/metrics/_regression.py\u001b[0m in \u001b[0;36mr2_score\u001b[0;34m(y_true, y_pred, sample_weight, multioutput)\u001b[0m\n\u001b[1;32m    575\u001b[0m     \"\"\"\n\u001b[1;32m    576\u001b[0m     y_type, y_true, y_pred, multioutput = _check_reg_targets(\n\u001b[0;32m--> 577\u001b[0;31m         y_true, y_pred, multioutput)\n\u001b[0m\u001b[1;32m    578\u001b[0m     \u001b[0mcheck_consistent_length\u001b[0m\u001b[0;34m(\u001b[0m\u001b[0my_true\u001b[0m\u001b[0;34m,\u001b[0m \u001b[0my_pred\u001b[0m\u001b[0;34m,\u001b[0m \u001b[0msample_weight\u001b[0m\u001b[0;34m)\u001b[0m\u001b[0;34m\u001b[0m\u001b[0;34m\u001b[0m\u001b[0m\n\u001b[1;32m    579\u001b[0m \u001b[0;34m\u001b[0m\u001b[0m\n",
            "\u001b[0;32m/usr/local/lib/python3.7/dist-packages/sklearn/metrics/_regression.py\u001b[0m in \u001b[0;36m_check_reg_targets\u001b[0;34m(y_true, y_pred, multioutput, dtype)\u001b[0m\n\u001b[1;32m     84\u001b[0m     \u001b[0mcheck_consistent_length\u001b[0m\u001b[0;34m(\u001b[0m\u001b[0my_true\u001b[0m\u001b[0;34m,\u001b[0m \u001b[0my_pred\u001b[0m\u001b[0;34m)\u001b[0m\u001b[0;34m\u001b[0m\u001b[0;34m\u001b[0m\u001b[0m\n\u001b[1;32m     85\u001b[0m     \u001b[0my_true\u001b[0m \u001b[0;34m=\u001b[0m \u001b[0mcheck_array\u001b[0m\u001b[0;34m(\u001b[0m\u001b[0my_true\u001b[0m\u001b[0;34m,\u001b[0m \u001b[0mensure_2d\u001b[0m\u001b[0;34m=\u001b[0m\u001b[0;32mFalse\u001b[0m\u001b[0;34m,\u001b[0m \u001b[0mdtype\u001b[0m\u001b[0;34m=\u001b[0m\u001b[0mdtype\u001b[0m\u001b[0;34m)\u001b[0m\u001b[0;34m\u001b[0m\u001b[0;34m\u001b[0m\u001b[0m\n\u001b[0;32m---> 86\u001b[0;31m     \u001b[0my_pred\u001b[0m \u001b[0;34m=\u001b[0m \u001b[0mcheck_array\u001b[0m\u001b[0;34m(\u001b[0m\u001b[0my_pred\u001b[0m\u001b[0;34m,\u001b[0m \u001b[0mensure_2d\u001b[0m\u001b[0;34m=\u001b[0m\u001b[0;32mFalse\u001b[0m\u001b[0;34m,\u001b[0m \u001b[0mdtype\u001b[0m\u001b[0;34m=\u001b[0m\u001b[0mdtype\u001b[0m\u001b[0;34m)\u001b[0m\u001b[0;34m\u001b[0m\u001b[0;34m\u001b[0m\u001b[0m\n\u001b[0m\u001b[1;32m     87\u001b[0m \u001b[0;34m\u001b[0m\u001b[0m\n\u001b[1;32m     88\u001b[0m     \u001b[0;32mif\u001b[0m \u001b[0my_true\u001b[0m\u001b[0;34m.\u001b[0m\u001b[0mndim\u001b[0m \u001b[0;34m==\u001b[0m \u001b[0;36m1\u001b[0m\u001b[0;34m:\u001b[0m\u001b[0;34m\u001b[0m\u001b[0;34m\u001b[0m\u001b[0m\n",
            "\u001b[0;32m/usr/local/lib/python3.7/dist-packages/sklearn/utils/validation.py\u001b[0m in \u001b[0;36mcheck_array\u001b[0;34m(array, accept_sparse, accept_large_sparse, dtype, order, copy, force_all_finite, ensure_2d, allow_nd, ensure_min_samples, ensure_min_features, warn_on_dtype, estimator)\u001b[0m\n\u001b[1;32m    572\u001b[0m         \u001b[0;32mif\u001b[0m \u001b[0;32mnot\u001b[0m \u001b[0mallow_nd\u001b[0m \u001b[0;32mand\u001b[0m \u001b[0marray\u001b[0m\u001b[0;34m.\u001b[0m\u001b[0mndim\u001b[0m \u001b[0;34m>=\u001b[0m \u001b[0;36m3\u001b[0m\u001b[0;34m:\u001b[0m\u001b[0;34m\u001b[0m\u001b[0;34m\u001b[0m\u001b[0m\n\u001b[1;32m    573\u001b[0m             raise ValueError(\"Found array with dim %d. %s expected <= 2.\"\n\u001b[0;32m--> 574\u001b[0;31m                              % (array.ndim, estimator_name))\n\u001b[0m\u001b[1;32m    575\u001b[0m \u001b[0;34m\u001b[0m\u001b[0m\n\u001b[1;32m    576\u001b[0m         \u001b[0;32mif\u001b[0m \u001b[0mforce_all_finite\u001b[0m\u001b[0;34m:\u001b[0m\u001b[0;34m\u001b[0m\u001b[0;34m\u001b[0m\u001b[0m\n",
            "\u001b[0;31mValueError\u001b[0m: Found array with dim 3. Estimator expected <= 2."
          ]
        }
      ]
    },
    {
      "cell_type": "code",
      "metadata": {
        "id": "SnDycbBup8Df"
      },
      "source": [
        "# def predictions(model):\n",
        "#     train_pred = model.predict(train_pad_sequences)\n",
        "#     test_pred = model.predict(test_pad_sequneces)\n",
        "#     metrics(y_train, train_pred)\n",
        "#     # metrics(y_test, test_pred)\n",
        "\n",
        "# def fit_the_model(model, epochs=50):\n",
        "#     early_stop = EarlyStopping(monitor='val_loss', patience=5)\n",
        "#     model.fit(train_pad_sequences, y_train, epochs=epochs, validation_data=(test_pad_sequneces, y_test), callbacks=[early_stop],verbose=0)\n",
        "#     predictions(model)"
      ],
      "execution_count": null,
      "outputs": []
    },
    {
      "cell_type": "code",
      "metadata": {
        "id": "_EnGeYFHq2Ln"
      },
      "source": [
        "# deep_model(LSTM)"
      ],
      "execution_count": null,
      "outputs": []
    },
    {
      "cell_type": "code",
      "metadata": {
        "colab": {
          "base_uri": "https://localhost:8080/"
        },
        "id": "B03QZxfIepDG",
        "outputId": "70e8078d-998a-44c3-c414-7bf925335366"
      },
      "source": [
        "y_train.shape"
      ],
      "execution_count": null,
      "outputs": [
        {
          "output_type": "execute_result",
          "data": {
            "text/plain": [
              "(3139, 1)"
            ]
          },
          "metadata": {},
          "execution_count": 86
        }
      ]
    },
    {
      "cell_type": "code",
      "metadata": {
        "colab": {
          "base_uri": "https://localhost:8080/"
        },
        "id": "Hmz7EiL3faqv",
        "outputId": "9324642e-d131-4140-8828-5e9db3735d66"
      },
      "source": [
        "train_pred.shape"
      ],
      "execution_count": null,
      "outputs": [
        {
          "output_type": "execute_result",
          "data": {
            "text/plain": [
              "(3139, 92, 1)"
            ]
          },
          "metadata": {},
          "execution_count": 87
        }
      ]
    },
    {
      "cell_type": "code",
      "metadata": {
        "colab": {
          "base_uri": "https://localhost:8080/"
        },
        "id": "x6fIW03HXinG",
        "outputId": "c7a42e39-6451-4470-d529-b7e4c8edc395"
      },
      "source": [
        "X_train_tfidf.shape"
      ],
      "execution_count": null,
      "outputs": [
        {
          "output_type": "execute_result",
          "data": {
            "text/plain": [
              "(3139, 92, 1)"
            ]
          },
          "metadata": {},
          "execution_count": 88
        }
      ]
    },
    {
      "cell_type": "code",
      "metadata": {
        "colab": {
          "base_uri": "https://localhost:8080/"
        },
        "id": "TO5mOaaTaIWs",
        "outputId": "7ed16c01-987a-483f-f649-eb299954b458"
      },
      "source": [
        "test_pred.shape"
      ],
      "execution_count": null,
      "outputs": [
        {
          "output_type": "execute_result",
          "data": {
            "text/plain": [
              "(862, 92, 1)"
            ]
          },
          "metadata": {},
          "execution_count": 89
        }
      ]
    },
    {
      "cell_type": "code",
      "metadata": {
        "colab": {
          "base_uri": "https://localhost:8080/"
        },
        "id": "ukFv-DHM0at6",
        "outputId": "d1189024-2b73-4811-b6fc-fbc4f6d95b6d"
      },
      "source": [
        "train_pred[0].shape"
      ],
      "execution_count": null,
      "outputs": [
        {
          "output_type": "execute_result",
          "data": {
            "text/plain": [
              "(92, 1)"
            ]
          },
          "metadata": {},
          "execution_count": 90
        }
      ]
    },
    {
      "cell_type": "code",
      "metadata": {
        "id": "5Dntaf1l_vyS"
      },
      "source": [
        ""
      ],
      "execution_count": null,
      "outputs": []
    }
  ]
}